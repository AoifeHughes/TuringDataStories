{
 "cells": [
  {
   "cell_type": "markdown",
   "metadata": {
    "collapsed": true,
    "pycharm": {
     "name": "#%% md\n"
    }
   },
   "source": [
    "# Can we use ground sensors to evaluate London residence's exposure to high air pollution?\n",
    "categories: [data wrangling, data exploration]\n",
    "\n",
    "### Author\n",
    "- Christina Last. [The Alan Turing Institute](https://www.turing.ac.uk/people/research-engineering/christina-last).\n",
    "GitHub: [@ChristinaLast](https://github.com/ChristinaLast/) Twitter: [@last_christina](https://twitter.com/last_christina)\n",
    "\n",
    "All the authors above contributed to this data story story with ideas, code development and story telling.\n",
    "\n",
    "### Reviewers\n",
    "- [insert name here]\n",
    "\n",
    "## London air quality\n",
    "Some of the main drivers of climate change result in poor air quality in urban areas. While climate change is abstract and global, air quality is local and personal:\n",
    "a few years back, poor air quality was reported outside thousands of schools in the UK a recent legal ruling determined that air pollution was the cause of death for an 8-year-old London girl\n",
    "the Mayor of London has plans to reduce air pollution at schools\n",
    "\n",
    "The story reveals which communities are most impacted by air pollution in London. It also explories the risk of walking to school by different routes, and possibly looking over time at locations where school street schemes have been implemented."
   ]
  },
  {
   "cell_type": "markdown",
   "source": [
    "### Downloading the air quality data locally\n",
    "This Turing Data Story uses data from [Global Clean Air](https://www.globalcleanair.org/innovative-air-quality-monitoring/london-uk/breathe-london-data/).\n",
    "The Data is available to download from the link.\n",
    "\n",
    "### Analysis Outline"
   ],
   "metadata": {
    "collapsed": false,
    "pycharm": {
     "name": "#%% md\n"
    }
   }
  },
  {
   "cell_type": "markdown",
   "source": [
    "#### :wrench: Setup\n",
    "\n",
    "We begin by setting up our environment and importing various python libraries that we will be using for the analysis.\n",
    "In particular, `pandas` and `numpy` are key data science libraries used for data processing. `matplotlib` and `seaborn` will help us visualise our data.\n",
    "\n",
    "## :bar_chart: Data Exploration\n",
    "We are using data from [Global Clean Air](https://www.globalcleanair.org/innovative-air-quality-monitoring/london-uk/breathe-london-data/)\n",
    "which contains information about pollution’s health effects, as well as readily available — and understandable — air pollution data and analysis.\n",
    "The Breathe London pilot project mapped and measured pollution across the capital, led for two years by Environmental Defense Fund Europe and launched in partnership with the Mayor of London and leading science and technology experts.\n",
    "\n",
    "The dataset contains more than 100 lower-cost sensor pods and specially-equipped Google Street View cars,\n",
    "Breathe London complemented and expanded upon London’s existing monitoring networks.\n",
    "The project aimed to help people better understand their local air quality and support cities around the world with future monitoring initiatives."
   ],
   "metadata": {
    "collapsed": false,
    "pycharm": {
     "name": "#%% md\n"
    }
   }
  },
  {
   "cell_type": "code",
   "execution_count": 21,
   "outputs": [],
   "source": [
    "from pathlib import Path\n",
    "# reading in the data\n",
    "import pandas as pd\n",
    "\n",
    "root_data_path = Path(\"data\")\n",
    "\n",
    "def read_local_data(data_dir, filename):\n",
    "    data_path = Path(str(data_dir)+filename).absolute()\n",
    "    return pd.read_csv(data_path)\n",
    "\n",
    "\n",
    "\n",
    "pm25_metadata = read_local_data(root_data_path, \"/PM2_5_site_metadata_20180901_20201130.csv\")\n",
    "pm25_full_network = read_local_data(root_data_path, \"/20180901_20201130_PM2_5_AQMesh_Scaled_Dataset_UGM3.csv\")\n",
    "no2_metadata = read_local_data(root_data_path, \"/NO2_site_metadata_20180901_20201130.csv\")\n",
    "no2_full_network = read_local_data(root_data_path, \"/20180901_20201130_NO2_AQMesh_Scaled_Dataset_UGM3.csv\")"
   ],
   "metadata": {
    "collapsed": false,
    "pycharm": {
     "name": "#%%\n"
    }
   }
  },
  {
   "cell_type": "code",
   "execution_count": 22,
   "outputs": [
    {
     "data": {
      "text/plain": "   pod_id_location    start_date_UTC      end_date_UTC relocate_date_UTC  \\\n0             1245  15/02/2019 12:00  30/11/2020 23:59               NaN   \n1             2245  03/05/2019 10:00  30/11/2020 23:59               NaN   \n2             3245  04/10/2018 18:00  30/11/2020 23:59               NaN   \n3             4245  06/03/2019 14:35  30/11/2020 23:59               NaN   \n4             5245  06/03/2019 15:55  30/11/2020 23:59               NaN   \n\n              location_name     Borough              Type ULEZ   Latitude  \\\n0               Dollis Road      Barnet          Kerbside   No  51.604486   \n1  Great Ormond St Hospital      Camden          Roadside  Yes  51.521880   \n2            Savernake Road      Camden  Urban Background   No  51.555485   \n3           Wandsworth Road     Lambeth          Kerbside   No  51.475735   \n4              Garrett Lane  Wandsworth          Kerbside   No  51.440399   \n\n   Longitude      X_Coord      Y_Coord  Distance_from_Road  Height  \\\n0  -0.206551  524299.9229  191038.6267                 1.2   3.100   \n1  -0.120434  530499.4261  182002.3181                 2.5   2.800   \n2  -0.152338  528191.7240  185682.9587                 5.0   2.297   \n3  -0.131209  529881.9791  176852.2693                 0.5   3.120   \n4  -0.186775  526117.9944  172825.4459                 1.0   3.445   \n\n     Site_Type  \n0          NaN  \n1    Hospital   \n2       School  \n3          NaN  \n4  Individual   ",
      "text/html": "<div>\n<style scoped>\n    .dataframe tbody tr th:only-of-type {\n        vertical-align: middle;\n    }\n\n    .dataframe tbody tr th {\n        vertical-align: top;\n    }\n\n    .dataframe thead th {\n        text-align: right;\n    }\n</style>\n<table border=\"1\" class=\"dataframe\">\n  <thead>\n    <tr style=\"text-align: right;\">\n      <th></th>\n      <th>pod_id_location</th>\n      <th>start_date_UTC</th>\n      <th>end_date_UTC</th>\n      <th>relocate_date_UTC</th>\n      <th>location_name</th>\n      <th>Borough</th>\n      <th>Type</th>\n      <th>ULEZ</th>\n      <th>Latitude</th>\n      <th>Longitude</th>\n      <th>X_Coord</th>\n      <th>Y_Coord</th>\n      <th>Distance_from_Road</th>\n      <th>Height</th>\n      <th>Site_Type</th>\n    </tr>\n  </thead>\n  <tbody>\n    <tr>\n      <th>0</th>\n      <td>1245</td>\n      <td>15/02/2019 12:00</td>\n      <td>30/11/2020 23:59</td>\n      <td>NaN</td>\n      <td>Dollis Road</td>\n      <td>Barnet</td>\n      <td>Kerbside</td>\n      <td>No</td>\n      <td>51.604486</td>\n      <td>-0.206551</td>\n      <td>524299.9229</td>\n      <td>191038.6267</td>\n      <td>1.2</td>\n      <td>3.100</td>\n      <td>NaN</td>\n    </tr>\n    <tr>\n      <th>1</th>\n      <td>2245</td>\n      <td>03/05/2019 10:00</td>\n      <td>30/11/2020 23:59</td>\n      <td>NaN</td>\n      <td>Great Ormond St Hospital</td>\n      <td>Camden</td>\n      <td>Roadside</td>\n      <td>Yes</td>\n      <td>51.521880</td>\n      <td>-0.120434</td>\n      <td>530499.4261</td>\n      <td>182002.3181</td>\n      <td>2.5</td>\n      <td>2.800</td>\n      <td>Hospital</td>\n    </tr>\n    <tr>\n      <th>2</th>\n      <td>3245</td>\n      <td>04/10/2018 18:00</td>\n      <td>30/11/2020 23:59</td>\n      <td>NaN</td>\n      <td>Savernake Road</td>\n      <td>Camden</td>\n      <td>Urban Background</td>\n      <td>No</td>\n      <td>51.555485</td>\n      <td>-0.152338</td>\n      <td>528191.7240</td>\n      <td>185682.9587</td>\n      <td>5.0</td>\n      <td>2.297</td>\n      <td>School</td>\n    </tr>\n    <tr>\n      <th>3</th>\n      <td>4245</td>\n      <td>06/03/2019 14:35</td>\n      <td>30/11/2020 23:59</td>\n      <td>NaN</td>\n      <td>Wandsworth Road</td>\n      <td>Lambeth</td>\n      <td>Kerbside</td>\n      <td>No</td>\n      <td>51.475735</td>\n      <td>-0.131209</td>\n      <td>529881.9791</td>\n      <td>176852.2693</td>\n      <td>0.5</td>\n      <td>3.120</td>\n      <td>NaN</td>\n    </tr>\n    <tr>\n      <th>4</th>\n      <td>5245</td>\n      <td>06/03/2019 15:55</td>\n      <td>30/11/2020 23:59</td>\n      <td>NaN</td>\n      <td>Garrett Lane</td>\n      <td>Wandsworth</td>\n      <td>Kerbside</td>\n      <td>No</td>\n      <td>51.440399</td>\n      <td>-0.186775</td>\n      <td>526117.9944</td>\n      <td>172825.4459</td>\n      <td>1.0</td>\n      <td>3.445</td>\n      <td>Individual</td>\n    </tr>\n  </tbody>\n</table>\n</div>"
     },
     "execution_count": 22,
     "metadata": {},
     "output_type": "execute_result"
    }
   ],
   "source": [
    "pm25_metadata.head()"
   ],
   "metadata": {
    "collapsed": false,
    "pycharm": {
     "name": "#%% #Displaying forst 5 rows of the PM2.5 metadata\n"
    }
   }
  },
  {
   "cell_type": "code",
   "execution_count": 23,
   "outputs": [
    {
     "data": {
      "text/plain": "              date_UTC  pm2_5_ugm3  pod_id_location  pod_id location_name  \\\n0  2019-02-15 13:00:00       20.17             1245    1245   Dollis Road   \n1  2019-02-15 14:00:00       18.47             1245    1245   Dollis Road   \n2  2019-02-15 15:00:00       19.84             1245    1245   Dollis Road   \n3  2019-02-15 16:00:00       36.68             1245    1245   Dollis Road   \n4  2019-02-15 17:00:00       20.18             1245    1245   Dollis Road   \n\n  ratification_status  \n0                   P  \n1                   P  \n2                   P  \n3                   P  \n4                   P  ",
      "text/html": "<div>\n<style scoped>\n    .dataframe tbody tr th:only-of-type {\n        vertical-align: middle;\n    }\n\n    .dataframe tbody tr th {\n        vertical-align: top;\n    }\n\n    .dataframe thead th {\n        text-align: right;\n    }\n</style>\n<table border=\"1\" class=\"dataframe\">\n  <thead>\n    <tr style=\"text-align: right;\">\n      <th></th>\n      <th>date_UTC</th>\n      <th>pm2_5_ugm3</th>\n      <th>pod_id_location</th>\n      <th>pod_id</th>\n      <th>location_name</th>\n      <th>ratification_status</th>\n    </tr>\n  </thead>\n  <tbody>\n    <tr>\n      <th>0</th>\n      <td>2019-02-15 13:00:00</td>\n      <td>20.17</td>\n      <td>1245</td>\n      <td>1245</td>\n      <td>Dollis Road</td>\n      <td>P</td>\n    </tr>\n    <tr>\n      <th>1</th>\n      <td>2019-02-15 14:00:00</td>\n      <td>18.47</td>\n      <td>1245</td>\n      <td>1245</td>\n      <td>Dollis Road</td>\n      <td>P</td>\n    </tr>\n    <tr>\n      <th>2</th>\n      <td>2019-02-15 15:00:00</td>\n      <td>19.84</td>\n      <td>1245</td>\n      <td>1245</td>\n      <td>Dollis Road</td>\n      <td>P</td>\n    </tr>\n    <tr>\n      <th>3</th>\n      <td>2019-02-15 16:00:00</td>\n      <td>36.68</td>\n      <td>1245</td>\n      <td>1245</td>\n      <td>Dollis Road</td>\n      <td>P</td>\n    </tr>\n    <tr>\n      <th>4</th>\n      <td>2019-02-15 17:00:00</td>\n      <td>20.18</td>\n      <td>1245</td>\n      <td>1245</td>\n      <td>Dollis Road</td>\n      <td>P</td>\n    </tr>\n  </tbody>\n</table>\n</div>"
     },
     "execution_count": 23,
     "metadata": {},
     "output_type": "execute_result"
    }
   ],
   "source": [
    "# And displaying the data itself\n",
    "pm25_full_network.head()"
   ],
   "metadata": {
    "collapsed": false,
    "pycharm": {
     "name": "#%%\n"
    }
   }
  },
  {
   "cell_type": "markdown",
   "source": [
    "We can see that there is a csv recording the timeseries value of the PM2.5 reading (hourly) and a csv containing information\n",
    "about the location of the sensor. They both share a commin id in the column `pod_id_location`. Lets join the PM2.5 data and\n",
    "the NO2 data to one dataframe containing the timeseries values and location information"
   ],
   "metadata": {
    "collapsed": false,
    "pycharm": {
     "name": "#%% md\n"
    }
   }
  },
  {
   "cell_type": "code",
   "execution_count": 24,
   "outputs": [
    {
     "data": {
      "text/plain": "              date_UTC  no2_ugm3  pod_id_location  pod_id location_name  \\\n0  2019-02-15 17:00:00     61.99             1245    1245   Dollis Road   \n1  2019-02-15 18:00:00     67.33             1245    1245   Dollis Road   \n2  2019-02-15 19:00:00     72.61             1245    1245   Dollis Road   \n3  2019-02-15 20:00:00     67.24             1245    1245   Dollis Road   \n4  2019-02-15 21:00:00     59.78             1245    1245   Dollis Road   \n\n  ratification_status    start_date_UTC      end_date_UTC relocate_date_UTC  \\\n0                   P  15/02/2019 16:45  30/11/2020 23:59               NaN   \n1                   P  15/02/2019 16:45  30/11/2020 23:59               NaN   \n2                   P  15/02/2019 16:45  30/11/2020 23:59               NaN   \n3                   P  15/02/2019 16:45  30/11/2020 23:59               NaN   \n4                   P  15/02/2019 16:45  30/11/2020 23:59               NaN   \n\n  Borough      Type ULEZ   Latitude  Longitude      X_Coord      Y_Coord  \\\n0  Barnet  Kerbside   No  51.604486  -0.206551  524299.9229  191038.6267   \n1  Barnet  Kerbside   No  51.604486  -0.206551  524299.9229  191038.6267   \n2  Barnet  Kerbside   No  51.604486  -0.206551  524299.9229  191038.6267   \n3  Barnet  Kerbside   No  51.604486  -0.206551  524299.9229  191038.6267   \n4  Barnet  Kerbside   No  51.604486  -0.206551  524299.9229  191038.6267   \n\n   Distance_from_Road  Height Site_Type  \n0                 1.2     3.1       NaN  \n1                 1.2     3.1       NaN  \n2                 1.2     3.1       NaN  \n3                 1.2     3.1       NaN  \n4                 1.2     3.1       NaN  ",
      "text/html": "<div>\n<style scoped>\n    .dataframe tbody tr th:only-of-type {\n        vertical-align: middle;\n    }\n\n    .dataframe tbody tr th {\n        vertical-align: top;\n    }\n\n    .dataframe thead th {\n        text-align: right;\n    }\n</style>\n<table border=\"1\" class=\"dataframe\">\n  <thead>\n    <tr style=\"text-align: right;\">\n      <th></th>\n      <th>date_UTC</th>\n      <th>no2_ugm3</th>\n      <th>pod_id_location</th>\n      <th>pod_id</th>\n      <th>location_name</th>\n      <th>ratification_status</th>\n      <th>start_date_UTC</th>\n      <th>end_date_UTC</th>\n      <th>relocate_date_UTC</th>\n      <th>Borough</th>\n      <th>Type</th>\n      <th>ULEZ</th>\n      <th>Latitude</th>\n      <th>Longitude</th>\n      <th>X_Coord</th>\n      <th>Y_Coord</th>\n      <th>Distance_from_Road</th>\n      <th>Height</th>\n      <th>Site_Type</th>\n    </tr>\n  </thead>\n  <tbody>\n    <tr>\n      <th>0</th>\n      <td>2019-02-15 17:00:00</td>\n      <td>61.99</td>\n      <td>1245</td>\n      <td>1245</td>\n      <td>Dollis Road</td>\n      <td>P</td>\n      <td>15/02/2019 16:45</td>\n      <td>30/11/2020 23:59</td>\n      <td>NaN</td>\n      <td>Barnet</td>\n      <td>Kerbside</td>\n      <td>No</td>\n      <td>51.604486</td>\n      <td>-0.206551</td>\n      <td>524299.9229</td>\n      <td>191038.6267</td>\n      <td>1.2</td>\n      <td>3.1</td>\n      <td>NaN</td>\n    </tr>\n    <tr>\n      <th>1</th>\n      <td>2019-02-15 18:00:00</td>\n      <td>67.33</td>\n      <td>1245</td>\n      <td>1245</td>\n      <td>Dollis Road</td>\n      <td>P</td>\n      <td>15/02/2019 16:45</td>\n      <td>30/11/2020 23:59</td>\n      <td>NaN</td>\n      <td>Barnet</td>\n      <td>Kerbside</td>\n      <td>No</td>\n      <td>51.604486</td>\n      <td>-0.206551</td>\n      <td>524299.9229</td>\n      <td>191038.6267</td>\n      <td>1.2</td>\n      <td>3.1</td>\n      <td>NaN</td>\n    </tr>\n    <tr>\n      <th>2</th>\n      <td>2019-02-15 19:00:00</td>\n      <td>72.61</td>\n      <td>1245</td>\n      <td>1245</td>\n      <td>Dollis Road</td>\n      <td>P</td>\n      <td>15/02/2019 16:45</td>\n      <td>30/11/2020 23:59</td>\n      <td>NaN</td>\n      <td>Barnet</td>\n      <td>Kerbside</td>\n      <td>No</td>\n      <td>51.604486</td>\n      <td>-0.206551</td>\n      <td>524299.9229</td>\n      <td>191038.6267</td>\n      <td>1.2</td>\n      <td>3.1</td>\n      <td>NaN</td>\n    </tr>\n    <tr>\n      <th>3</th>\n      <td>2019-02-15 20:00:00</td>\n      <td>67.24</td>\n      <td>1245</td>\n      <td>1245</td>\n      <td>Dollis Road</td>\n      <td>P</td>\n      <td>15/02/2019 16:45</td>\n      <td>30/11/2020 23:59</td>\n      <td>NaN</td>\n      <td>Barnet</td>\n      <td>Kerbside</td>\n      <td>No</td>\n      <td>51.604486</td>\n      <td>-0.206551</td>\n      <td>524299.9229</td>\n      <td>191038.6267</td>\n      <td>1.2</td>\n      <td>3.1</td>\n      <td>NaN</td>\n    </tr>\n    <tr>\n      <th>4</th>\n      <td>2019-02-15 21:00:00</td>\n      <td>59.78</td>\n      <td>1245</td>\n      <td>1245</td>\n      <td>Dollis Road</td>\n      <td>P</td>\n      <td>15/02/2019 16:45</td>\n      <td>30/11/2020 23:59</td>\n      <td>NaN</td>\n      <td>Barnet</td>\n      <td>Kerbside</td>\n      <td>No</td>\n      <td>51.604486</td>\n      <td>-0.206551</td>\n      <td>524299.9229</td>\n      <td>191038.6267</td>\n      <td>1.2</td>\n      <td>3.1</td>\n      <td>NaN</td>\n    </tr>\n  </tbody>\n</table>\n</div>"
     },
     "execution_count": 24,
     "metadata": {},
     "output_type": "execute_result"
    }
   ],
   "source": [
    "def join_network_metadata(network_df, metadata_df, col_to_join):\n",
    "    return network_df.merge(metadata_df, on=col_to_join, how='outer', suffixes=('', '_DROP')).filter(regex='^(?!.*_DROP)')\n",
    "\n",
    "\n",
    "pm25_network_metadata = join_network_metadata(pm25_full_network, pm25_metadata,  \"pod_id_location\")\n",
    "no2_network_metadata = join_network_metadata(no2_full_network, no2_metadata,  \"pod_id_location\")\n",
    "no2_network_metadata.head()"
   ],
   "metadata": {
    "collapsed": false,
    "pycharm": {
     "name": "#%%\n"
    }
   }
  },
  {
   "cell_type": "markdown",
   "source": [
    "Here we can see the NO2 data has successfully been joined with the metadata available for the sensor location. We drop repeated columns\n",
    "using a regex filter on our suffix `_DROP` added to duplicated columns within the merge."
   ],
   "metadata": {
    "collapsed": false,
    "pycharm": {
     "name": "#%% md\n"
    }
   }
  },
  {
   "cell_type": "code",
   "execution_count": 25,
   "outputs": [],
   "source": [
    "no2_numeric_cols = [\"no2_ugm3\", \"Distance_from_Road\",\"Height\"]\n",
    "pm25_numeric_cols = [\"pm2_5_ugm3\", \"Distance_from_Road\",\"Height\"]"
   ],
   "metadata": {
    "collapsed": false,
    "pycharm": {
     "name": "#%%\n"
    }
   }
  },
  {
   "cell_type": "code",
   "execution_count": 35,
   "outputs": [
    {
     "data": {
      "text/plain": "         pm2_5_ugm3  Distance_from_Road        Height\ncount 1399810.00000       1305125.00000 1399810.00000\nmean     -104.43024             4.61179       3.27866\nstd       321.54480             6.96932       1.95759\nmin      -999.00000             0.00000       1.50000\n25%         4.28000             1.00000       2.90000\n50%         6.40000             2.00000       3.00000\n75%        11.20000             5.70000       3.12600\nmax       469.59000            50.00000      19.50000",
      "text/html": "<div>\n<style scoped>\n    .dataframe tbody tr th:only-of-type {\n        vertical-align: middle;\n    }\n\n    .dataframe tbody tr th {\n        vertical-align: top;\n    }\n\n    .dataframe thead th {\n        text-align: right;\n    }\n</style>\n<table border=\"1\" class=\"dataframe\">\n  <thead>\n    <tr style=\"text-align: right;\">\n      <th></th>\n      <th>pm2_5_ugm3</th>\n      <th>Distance_from_Road</th>\n      <th>Height</th>\n    </tr>\n  </thead>\n  <tbody>\n    <tr>\n      <th>count</th>\n      <td>1399810.00000</td>\n      <td>1305125.00000</td>\n      <td>1399810.00000</td>\n    </tr>\n    <tr>\n      <th>mean</th>\n      <td>-104.43024</td>\n      <td>4.61179</td>\n      <td>3.27866</td>\n    </tr>\n    <tr>\n      <th>std</th>\n      <td>321.54480</td>\n      <td>6.96932</td>\n      <td>1.95759</td>\n    </tr>\n    <tr>\n      <th>min</th>\n      <td>-999.00000</td>\n      <td>0.00000</td>\n      <td>1.50000</td>\n    </tr>\n    <tr>\n      <th>25%</th>\n      <td>4.28000</td>\n      <td>1.00000</td>\n      <td>2.90000</td>\n    </tr>\n    <tr>\n      <th>50%</th>\n      <td>6.40000</td>\n      <td>2.00000</td>\n      <td>3.00000</td>\n    </tr>\n    <tr>\n      <th>75%</th>\n      <td>11.20000</td>\n      <td>5.70000</td>\n      <td>3.12600</td>\n    </tr>\n    <tr>\n      <th>max</th>\n      <td>469.59000</td>\n      <td>50.00000</td>\n      <td>19.50000</td>\n    </tr>\n  </tbody>\n</table>\n</div>"
     },
     "execution_count": 35,
     "metadata": {},
     "output_type": "execute_result"
    }
   ],
   "source": [
    "# Data distribution\n",
    "pd.set_option('display.float_format', lambda x: '%.5f' % x)\n",
    "pm25_network_metadata[pm25_numeric_cols].describe()"
   ],
   "metadata": {
    "collapsed": false,
    "pycharm": {
     "name": "#%%\n"
    }
   }
  },
  {
   "cell_type": "code",
   "execution_count": 36,
   "outputs": [
    {
     "data": {
      "text/plain": "           no2_ugm3  Distance_from_Road        Height\ncount 1555296.00000       1448871.00000 1555296.00000\nmean      -15.62420             4.18273       3.29576\nstd       223.95386             6.57160       1.80931\nmin      -999.00000             0.00000       1.50000\n25%        22.28000             1.00000       2.93000\n50%        30.02000             1.67000       3.00000\n75%        40.85000             5.00000       3.12000\nmax       628.12000            50.00000      20.00000",
      "text/html": "<div>\n<style scoped>\n    .dataframe tbody tr th:only-of-type {\n        vertical-align: middle;\n    }\n\n    .dataframe tbody tr th {\n        vertical-align: top;\n    }\n\n    .dataframe thead th {\n        text-align: right;\n    }\n</style>\n<table border=\"1\" class=\"dataframe\">\n  <thead>\n    <tr style=\"text-align: right;\">\n      <th></th>\n      <th>no2_ugm3</th>\n      <th>Distance_from_Road</th>\n      <th>Height</th>\n    </tr>\n  </thead>\n  <tbody>\n    <tr>\n      <th>count</th>\n      <td>1555296.00000</td>\n      <td>1448871.00000</td>\n      <td>1555296.00000</td>\n    </tr>\n    <tr>\n      <th>mean</th>\n      <td>-15.62420</td>\n      <td>4.18273</td>\n      <td>3.29576</td>\n    </tr>\n    <tr>\n      <th>std</th>\n      <td>223.95386</td>\n      <td>6.57160</td>\n      <td>1.80931</td>\n    </tr>\n    <tr>\n      <th>min</th>\n      <td>-999.00000</td>\n      <td>0.00000</td>\n      <td>1.50000</td>\n    </tr>\n    <tr>\n      <th>25%</th>\n      <td>22.28000</td>\n      <td>1.00000</td>\n      <td>2.93000</td>\n    </tr>\n    <tr>\n      <th>50%</th>\n      <td>30.02000</td>\n      <td>1.67000</td>\n      <td>3.00000</td>\n    </tr>\n    <tr>\n      <th>75%</th>\n      <td>40.85000</td>\n      <td>5.00000</td>\n      <td>3.12000</td>\n    </tr>\n    <tr>\n      <th>max</th>\n      <td>628.12000</td>\n      <td>50.00000</td>\n      <td>20.00000</td>\n    </tr>\n  </tbody>\n</table>\n</div>"
     },
     "execution_count": 36,
     "metadata": {},
     "output_type": "execute_result"
    }
   ],
   "source": [
    "no2_network_metadata[no2_numeric_cols].describe()"
   ],
   "metadata": {
    "collapsed": false,
    "pycharm": {
     "name": "#%%\n"
    }
   }
  },
  {
   "cell_type": "markdown",
   "source": [
    "The distribution of the numberic variables looks"
   ],
   "metadata": {
    "collapsed": false,
    "pycharm": {
     "name": "#%% md\n"
    }
   }
  },
  {
   "cell_type": "code",
   "execution_count": 32,
   "outputs": [
    {
     "data": {
      "text/plain": "date_UTC                     0\npm2_5_ugm3                   0\npod_id_location              0\npod_id                       0\nlocation_name                0\nratification_status          0\nstart_date_UTC               0\nend_date_UTC                 0\nrelocate_date_UTC      1344809\nBorough                      0\nType                         0\nULEZ                         0\nLatitude                     0\nLongitude                    0\nX_Coord                      0\nY_Coord                      0\nDistance_from_Road       94685\nHeight                       0\nSite_Type               684790\ndtype: int64"
     },
     "execution_count": 32,
     "metadata": {},
     "output_type": "execute_result"
    }
   ],
   "source": [
    "#nan values\n",
    "pm25_network_metadata.isnull().sum()"
   ],
   "metadata": {
    "collapsed": false,
    "pycharm": {
     "name": "#%%\n"
    }
   }
  },
  {
   "cell_type": "code",
   "execution_count": 31,
   "outputs": [
    {
     "data": {
      "text/plain": "19"
     },
     "execution_count": 31,
     "metadata": {},
     "output_type": "execute_result"
    }
   ],
   "source": [
    "len(pm25_network_metadata_nona)"
   ],
   "metadata": {
    "collapsed": false,
    "pycharm": {
     "name": "#%%\n"
    }
   }
  },
  {
   "cell_type": "code",
   "execution_count": 29,
   "outputs": [
    {
     "data": {
      "text/plain": "ratification_status     1\nULEZ                    2\nType                    4\nSite_Type               5\nrelocate_date_UTC       6\nend_date_UTC            6\nBorough                29\nHeight                 49\nDistance_from_Road     52\npod_id                 95\ndtype: int64"
     },
     "execution_count": 29,
     "metadata": {},
     "output_type": "execute_result"
    }
   ],
   "source": [
    "#no. of unique values\n",
    "pm25_network_metadata_nona.sort_values()[:10]"
   ],
   "metadata": {
    "collapsed": false,
    "pycharm": {
     "name": "#%%\n"
    }
   }
  },
  {
   "cell_type": "code",
   "execution_count": null,
   "outputs": [],
   "source": [],
   "metadata": {
    "collapsed": false,
    "pycharm": {
     "name": "#%%\n"
    }
   }
  }
 ],
 "metadata": {
  "kernelspec": {
   "display_name": "Python 3",
   "language": "python",
   "name": "python3"
  },
  "language_info": {
   "codemirror_mode": {
    "name": "ipython",
    "version": 2
   },
   "file_extension": ".py",
   "mimetype": "text/x-python",
   "name": "python",
   "nbconvert_exporter": "python",
   "pygments_lexer": "ipython2",
   "version": "2.7.6"
  }
 },
 "nbformat": 4,
 "nbformat_minor": 0
}