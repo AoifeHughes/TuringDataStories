{
 "cells": [
  {
   "cell_type": "markdown",
   "metadata": {},
   "source": [
    "# Who's protected by the Covid19 lockdown?"
   ]
  },
  {
   "cell_type": "markdown",
   "metadata": {},
   "source": [
    "Welcome to the first Turing Data Story.\n",
    "\n",
    "Our goal at Turing Data Stories is to produce educational data science content through the story telling medium.\n",
    "\n",
    "Our stories begin with a question about a societal issue that is close to our hearts, and covers our entire analysis process in trying to answer it. From gathering and cleaning the data, to using it for data analysis.\n",
    "\n",
    "Our hope that our stories will not only provide the reader with interesting insight into some key societal issues, but also to showcase the explanatory power of data science and enable the reader to try out some of these techniques themselves.\n",
    "\n",
    "Each of our stories consists of a Jupyter notebook, which will contain all the code required to follow along with the analysis but also an explanation of our thought process and what the code is doing.\n",
    "\n",
    "## Covid19 and deprivation\n",
    "\n",
    "Everyone in the UK has been impacted by the Covid19 pandemic, from London to Manchester, Cardiff to Edinburgh. The virus has affected and taken many lives of people across society.\n",
    "\n",
    "Back on the [23rd of March 2020](https://www.bbc.co.uk/news/uk-52012432), the UK Government announced various lockdown measures with the intention to limit the spread of the virus and reduce the number of Covid19 related deaths. These lockdown measures meant the temporary closure of many commercial shops and businesses, as well as the limiting of work based travel to only those jobs that could not be done at home.\n",
    "\n",
    "**We are concerned that the impact of Covid19 has disproportionately affected certain groups of people, and that the lockdown measures have not been effective enough for those in the most deprived areas whose livelihoods may have required them to leave the house more frequently.**\n",
    "\n",
    "There have been a number of [concerns](https://www.ft.com/content/301c847c-a317-4950-a75b-8e66933d423a) with Government Covid19 reporting, in particular with testing and mortality statistics. This motivates independent, open analysis to validate and expand on our understanding of our current state of the pandemic.\n",
    "\n",
    "Earlier in June, the Office of National Statistics (ONS) [published a report](https://www.ons.gov.uk/peoplepopulationandcommunity/birthsdeathsandmarriages/deaths/bulletins/deathsinvolvingcovid19bylocalareasanddeprivation/latest) exploring this exact question: to assess whether those living in the most deprived areas of the UK were disproportionately affected by Covid19. The report seems to confirm our fear - between the months of March to May 2020 those in the most deprived areas of the UK were more than twice as likely to die as a result of Covid19 than those in the least deprived areas.\n",
    "\n",
    "There are two caveats that we have with the ONS analysis. The first is **reproducibility** - we want to confirm the ONS results by making analysis procedure open. The second caveat is the **time frame** of the ONS report. Between March and May represents the time when the lockdown was most severe, with measures relaxing from June onwards. We wonder whether the ONS analysis will continue to be relevant as lockdown eases. For this purpose, we wish to extend the ONS analysis to cover all available data.\n",
    "\n",
    "Thus for our first story we ask:\n",
    "\n",
    "**Have the Covid19 lockdown measures protected people equally across all socio-economic groups in society**\n",
    "\n",
    "We have two main objectives\n",
    "\n",
    "1) We want to replicate the ONS analysis using their provided data to ensure that we have all the inputs necessary to understand the problem.\n",
    "\n",
    "2) We want to extend the ONS analysis to consider more time periods - representing the severity of the different stages of lockdown - to see how this affects people from different socio-economic groups.\n",
    "\n",
    "\n",
    "### Key Metrics\n",
    "\n",
    "Our analysis will involve exploring the relationship between the following key metrics:\n",
    "\n",
    "- Covid19 mortality rates over time and across geographical regions.\n",
    "- Index of multiple deprivation (IMD) by geographical region (see [definition](https://assets.publishing.service.gov.uk/government/uploads/system/uploads/attachment_data/file/835115/IoD2019_Statistical_Release.pdf) and [explanation](https://en.wikipedia.org/wiki/Multiple_deprivation_index)).\n",
    "\n",
    "### Data Sources\n",
    "\n",
    "We will use the following ONS datasets:\n",
    "\n",
    "- [Mortality count time series](https://www.ons.gov.uk/peoplepopulationandcommunity/healthandsocialcare/causesofdeath/datasets/deathregistrationsandoccurrencesbylocalauthorityandhealthboard)\n",
    "- [IMD Rankings (England only)](https://www.gov.uk/government/statistics/english-indices-of-deprivation-2019)\n",
    "- [Populations](https://www.ons.gov.uk/file?uri=%2fpeoplepopulationandcommunity%2fpopulationandmigration%2fpopulationestimates%2fdatasets%2fpopulationestimatesforukenglandandwalesscotlandandnorthernireland%2fmid20182019laboundaries/ukmidyearestimates20182019ladcodes.xls)\n",
    "- [Local Authority District Code Region Lookup Table](https://opendata.arcgis.com/datasets/3ba3daf9278f47daba0f561889c3521a_0.csv)\n",
    "- [ONS Mortality and Depravation Data](https://www.ons.gov.uk/peoplepopulationandcommunity/birthsdeathsandmarriages/deaths/datasets/deathsinvolvingcovid19bylocalareaanddeprivation)\n",
    "\n",
    "In case any of the data sources become unavailable in the future, a download mirror is availible [here](https://drive.google.com/drive/folders/1NXp7DtBeCbTIv49_ngdgvQpQXaaB3f8F?usp=sharing).\n",
    "\n",
    "For simplicity this study is only focusing on England. We understand the importance of investigating all of the regions of the UK. However due to the difference of lockdown measures across the nations of the UK, and also data compatibility issues between these regions, an independent analysis is required for each nation. We warmly encourage the reader to replicate our analysis with the other nations.\n",
    "\n",
    "### Analysis Outline\n",
    "\n",
    "In this section we list the key steps of the analysis presented in this notebook.\n",
    "\n",
    "1) Download and process data from multiple deprivation and Covid19 deaths.\n",
    "\n",
    "2) Combining the different datasets into a single table by joining on geographical region.\n",
    "\n",
    "3) Calculate age standardised mortality rates from mortality counts.\n",
    "\n",
    "4) Replicate the ONS analysis, looking at mortality rate by region.\n",
    "\n",
    "5) Visualise the distribution of Covid19 deaths across the UK.\n",
    "\n",
    "6) Segment the data into during- and post-lockdown periods.\n",
    "\n",
    "7) Explore at the relationship between our two key metrics (deprivation and mortality rates) in the different time periods."
   ]
  },
  {
   "cell_type": "markdown",
   "metadata": {},
   "source": [
    "# Data collation and wrangling"
   ]
  },
  {
   "cell_type": "markdown",
   "metadata": {},
   "source": [
    "## 🔧 Setup \n",
    "\n",
    "We begin by setting up our environment and importing various python libraries that we will be using for the analysis. \n",
    "In particular, `pandas` and `numpy` are key data science libraries used for data processing. `geopandas` will help us dealing with geospatial data. `matplotlib` and `seaborn` will help us visualise our data."
   ]
  },
  {
   "cell_type": "code",
   "execution_count": 1,
   "metadata": {
    "ExecuteTime": {
     "end_time": "2020-09-16T10:43:59.865728Z",
     "start_time": "2020-09-16T10:43:57.435354Z"
    }
   },
   "outputs": [],
   "source": [
    "import os\n",
    "import requests\n",
    "from datetime import datetime\n",
    "import zipfile\n",
    "\n",
    "import numpy as np\n",
    "import pandas as pd\n",
    "import geopandas as gpd\n",
    "\n",
    "from scipy.stats import spearmanr, pearsonr\n",
    "\n",
    "import matplotlib.pyplot as plt\n",
    "import seaborn as sns\n",
    "sns.set(style='white')\n",
    "#sns.set_style('ticks')"
   ]
  },
  {
   "cell_type": "markdown",
   "metadata": {},
   "source": [
    "🔧 Let's make some directories in which we can store the data we are going to download. "
   ]
  },
  {
   "cell_type": "code",
   "execution_count": 2,
   "metadata": {
    "ExecuteTime": {
     "end_time": "2020-09-16T10:43:59.871079Z",
     "start_time": "2020-09-16T10:43:59.867923Z"
    }
   },
   "outputs": [],
   "source": [
    "# downloaded data goes here\n",
    "downloaded_data_dir = 'data/downloaded'\n",
    "\n",
    "# processed data goes here\n",
    "derived_data_dirname = 'data/derived'\n",
    "\n",
    "# create the directory if it does not already exist\n",
    "os.makedirs(downloaded_data_dir, exist_ok=True)\n",
    "os.makedirs(derived_data_dirname, exist_ok=True)"
   ]
  },
  {
   "cell_type": "markdown",
   "metadata": {},
   "source": [
    "🔧 Here is a small helper function which will download files from a URL."
   ]
  },
  {
   "cell_type": "code",
   "execution_count": 3,
   "metadata": {
    "ExecuteTime": {
     "end_time": "2020-09-16T10:43:59.876815Z",
     "start_time": "2020-09-16T10:43:59.873546Z"
    }
   },
   "outputs": [],
   "source": [
    "# This function can download data from a URL and then save it in a directory of our choice.\n",
    "def download_file(url, filename):\n",
    "    \n",
    "    # if the file already exists, return without redownloading\n",
    "    #if os.path.exists(filename):\n",
    "    #    return\n",
    "        \n",
    "    # create the directory if it does not already exist\n",
    "    os.makedirs(os.path.dirname(filename), exist_ok=True)\n",
    "\n",
    "    # make the HTTP request\n",
    "    r = requests.get(url, allow_redirects=True)\n",
    "\n",
    "    # save file\n",
    "    _ = open(filename, 'wb').write(r.content)\n"
   ]
  },
  {
   "cell_type": "markdown",
   "metadata": {},
   "source": [
    "## Index of Multiple Deprivation (IMD)\n",
    "\n",
    "🔧 Now let's download and process our deprivation data. This data provides a deprivation rank (lower rank meaning more deprived) for each LSOA."
   ]
  },
  {
   "cell_type": "markdown",
   "metadata": {},
   "source": [
    "### Download"
   ]
  },
  {
   "cell_type": "code",
   "execution_count": 4,
   "metadata": {
    "ExecuteTime": {
     "end_time": "2020-09-16T10:44:02.921647Z",
     "start_time": "2020-09-16T10:43:59.879113Z"
    }
   },
   "outputs": [],
   "source": [
    "# specify URL\n",
    "url = 'https://assets.publishing.service.gov.uk/government/uploads/system/uploads/attachment_data/file/833970/File_1_-_IMD2019_Index_of_Multiple_Deprivation.xlsx'\n",
    "\n",
    "# specify filename\n",
    "filename = 'ONS_2019_Index_of_Multiple_Deprivation.xlsx'\n",
    "\n",
    "# construct file path\n",
    "filepath = os.path.join(downloaded_data_dir, filename)\n",
    "\n",
    "# download and save file at the specified URL\n",
    "download_file(url, filepath)\n",
    "\n",
    "# read the relevant sheet\n",
    "imd_df = pd.read_excel(filepath, sheet_name='IMD2019')"
   ]
  },
  {
   "cell_type": "markdown",
   "metadata": {},
   "source": [
    "If we sort by deprivation rank, we can get an idea of the most / least deprived LSOAs."
   ]
  },
  {
   "cell_type": "code",
   "execution_count": 5,
   "metadata": {
    "ExecuteTime": {
     "end_time": "2020-09-16T10:44:02.945553Z",
     "start_time": "2020-09-16T10:44:02.923779Z"
    }
   },
   "outputs": [
    {
     "data": {
      "text/html": [
       "<div>\n",
       "<style scoped>\n",
       "    .dataframe tbody tr th:only-of-type {\n",
       "        vertical-align: middle;\n",
       "    }\n",
       "\n",
       "    .dataframe tbody tr th {\n",
       "        vertical-align: top;\n",
       "    }\n",
       "\n",
       "    .dataframe thead th {\n",
       "        text-align: right;\n",
       "    }\n",
       "</style>\n",
       "<table border=\"1\" class=\"dataframe\">\n",
       "  <thead>\n",
       "    <tr style=\"text-align: right;\">\n",
       "      <th></th>\n",
       "      <th>LSOA code (2011)</th>\n",
       "      <th>LSOA name (2011)</th>\n",
       "      <th>Local Authority District code (2019)</th>\n",
       "      <th>Local Authority District name (2019)</th>\n",
       "      <th>Index of Multiple Deprivation (IMD) Rank</th>\n",
       "      <th>Index of Multiple Deprivation (IMD) Decile</th>\n",
       "    </tr>\n",
       "  </thead>\n",
       "  <tbody>\n",
       "    <tr>\n",
       "      <th>21400</th>\n",
       "      <td>E01021988</td>\n",
       "      <td>Tendring 018A</td>\n",
       "      <td>E07000076</td>\n",
       "      <td>Tendring</td>\n",
       "      <td>1</td>\n",
       "      <td>1</td>\n",
       "    </tr>\n",
       "    <tr>\n",
       "      <th>12280</th>\n",
       "      <td>E01012673</td>\n",
       "      <td>Blackpool 010A</td>\n",
       "      <td>E06000009</td>\n",
       "      <td>Blackpool</td>\n",
       "      <td>2</td>\n",
       "      <td>1</td>\n",
       "    </tr>\n",
       "    <tr>\n",
       "      <th>12288</th>\n",
       "      <td>E01012681</td>\n",
       "      <td>Blackpool 006A</td>\n",
       "      <td>E06000009</td>\n",
       "      <td>Blackpool</td>\n",
       "      <td>3</td>\n",
       "      <td>1</td>\n",
       "    </tr>\n",
       "    <tr>\n",
       "      <th>12279</th>\n",
       "      <td>E01012672</td>\n",
       "      <td>Blackpool 013B</td>\n",
       "      <td>E06000009</td>\n",
       "      <td>Blackpool</td>\n",
       "      <td>4</td>\n",
       "      <td>1</td>\n",
       "    </tr>\n",
       "    <tr>\n",
       "      <th>12278</th>\n",
       "      <td>E01012671</td>\n",
       "      <td>Blackpool 013A</td>\n",
       "      <td>E06000009</td>\n",
       "      <td>Blackpool</td>\n",
       "      <td>5</td>\n",
       "      <td>1</td>\n",
       "    </tr>\n",
       "    <tr>\n",
       "      <th>...</th>\n",
       "      <td>...</td>\n",
       "      <td>...</td>\n",
       "      <td>...</td>\n",
       "      <td>...</td>\n",
       "      <td>...</td>\n",
       "      <td>...</td>\n",
       "    </tr>\n",
       "    <tr>\n",
       "      <th>17759</th>\n",
       "      <td>E01018293</td>\n",
       "      <td>South Cambridgeshire 012B</td>\n",
       "      <td>E07000012</td>\n",
       "      <td>South Cambridgeshire</td>\n",
       "      <td>32840</td>\n",
       "      <td>10</td>\n",
       "    </tr>\n",
       "    <tr>\n",
       "      <th>15715</th>\n",
       "      <td>E01016187</td>\n",
       "      <td>Bracknell Forest 002D</td>\n",
       "      <td>E06000036</td>\n",
       "      <td>Bracknell Forest</td>\n",
       "      <td>32841</td>\n",
       "      <td>10</td>\n",
       "    </tr>\n",
       "    <tr>\n",
       "      <th>30976</th>\n",
       "      <td>E01031773</td>\n",
       "      <td>Mid Sussex 008D</td>\n",
       "      <td>E07000228</td>\n",
       "      <td>Mid Sussex</td>\n",
       "      <td>32842</td>\n",
       "      <td>10</td>\n",
       "    </tr>\n",
       "    <tr>\n",
       "      <th>26986</th>\n",
       "      <td>E01027699</td>\n",
       "      <td>Harrogate 021A</td>\n",
       "      <td>E07000165</td>\n",
       "      <td>Harrogate</td>\n",
       "      <td>32843</td>\n",
       "      <td>10</td>\n",
       "    </tr>\n",
       "    <tr>\n",
       "      <th>17268</th>\n",
       "      <td>E01017787</td>\n",
       "      <td>Chiltern 005E</td>\n",
       "      <td>E07000005</td>\n",
       "      <td>Chiltern</td>\n",
       "      <td>32844</td>\n",
       "      <td>10</td>\n",
       "    </tr>\n",
       "  </tbody>\n",
       "</table>\n",
       "<p>32844 rows × 6 columns</p>\n",
       "</div>"
      ],
      "text/plain": [
       "      LSOA code (2011)           LSOA name (2011)  \\\n",
       "21400        E01021988              Tendring 018A   \n",
       "12280        E01012673             Blackpool 010A   \n",
       "12288        E01012681             Blackpool 006A   \n",
       "12279        E01012672             Blackpool 013B   \n",
       "12278        E01012671             Blackpool 013A   \n",
       "...                ...                        ...   \n",
       "17759        E01018293  South Cambridgeshire 012B   \n",
       "15715        E01016187      Bracknell Forest 002D   \n",
       "30976        E01031773            Mid Sussex 008D   \n",
       "26986        E01027699             Harrogate 021A   \n",
       "17268        E01017787              Chiltern 005E   \n",
       "\n",
       "      Local Authority District code (2019)  \\\n",
       "21400                            E07000076   \n",
       "12280                            E06000009   \n",
       "12288                            E06000009   \n",
       "12279                            E06000009   \n",
       "12278                            E06000009   \n",
       "...                                    ...   \n",
       "17759                            E07000012   \n",
       "15715                            E06000036   \n",
       "30976                            E07000228   \n",
       "26986                            E07000165   \n",
       "17268                            E07000005   \n",
       "\n",
       "      Local Authority District name (2019)  \\\n",
       "21400                             Tendring   \n",
       "12280                            Blackpool   \n",
       "12288                            Blackpool   \n",
       "12279                            Blackpool   \n",
       "12278                            Blackpool   \n",
       "...                                    ...   \n",
       "17759                 South Cambridgeshire   \n",
       "15715                     Bracknell Forest   \n",
       "30976                           Mid Sussex   \n",
       "26986                            Harrogate   \n",
       "17268                             Chiltern   \n",
       "\n",
       "       Index of Multiple Deprivation (IMD) Rank  \\\n",
       "21400                                         1   \n",
       "12280                                         2   \n",
       "12288                                         3   \n",
       "12279                                         4   \n",
       "12278                                         5   \n",
       "...                                         ...   \n",
       "17759                                     32840   \n",
       "15715                                     32841   \n",
       "30976                                     32842   \n",
       "26986                                     32843   \n",
       "17268                                     32844   \n",
       "\n",
       "       Index of Multiple Deprivation (IMD) Decile  \n",
       "21400                                           1  \n",
       "12280                                           1  \n",
       "12288                                           1  \n",
       "12279                                           1  \n",
       "12278                                           1  \n",
       "...                                           ...  \n",
       "17759                                          10  \n",
       "15715                                          10  \n",
       "30976                                          10  \n",
       "26986                                          10  \n",
       "17268                                          10  \n",
       "\n",
       "[32844 rows x 6 columns]"
      ]
     },
     "execution_count": 5,
     "metadata": {},
     "output_type": "execute_result"
    }
   ],
   "source": [
    "imd_df.sort_values(by='Index of Multiple Deprivation (IMD) Rank')"
   ]
  },
  {
   "cell_type": "markdown",
   "metadata": {},
   "source": [
    "### Derive Mean IMD Decile\n",
    "\n"
   ]
  },
  {
   "cell_type": "markdown",
   "metadata": {},
   "source": [
    "At this point we want to join the two datasets together in order to explore the relationship between our two key metrics. \n",
    "\n",
    "For more information about the different geographical regions in the UK, read [this](https://data.gov.uk/dataset/ec39697d-e7f4-4419-a146-0b9c9c15ee06/output-area-to-lsoa-to-msoa-to-local-authority-district-december-2017-lookup-with-area-classifications-in-great-britain).\n",
    "\n",
    "A problem is that the index of multiple deprivation comes with a geographical granularity at the LSOA level, whilst the Covid19 mortality counts come with a geographical granularity at the Local Authority District (LAD) level. This means that for one LAD there could be multiple LSOAs each with different indexes of multiple deprivation. \n",
    "\n",
    "Therefore we need to aggregate the LSOAs into LADs by averaging out the indexes of multiple deprivation.\n",
    "\n",
    "First let's write some functions to help us."
   ]
  },
  {
   "cell_type": "code",
   "execution_count": 6,
   "metadata": {
    "ExecuteTime": {
     "end_time": "2020-09-16T10:44:02.953211Z",
     "start_time": "2020-09-16T10:44:02.947514Z"
    }
   },
   "outputs": [],
   "source": [
    "def get_mean_IMD_rank(LAD_code):\n",
    "    # select relevant LSOAs\n",
    "    LSOAs = imd_df[imd_df['Local Authority District code (2019)'] == LAD_code]\n",
    "    \n",
    "    # calculate mean IMD rank\n",
    "    mean_IMD_rank = round(LSOAs['Index of Multiple Deprivation (IMD) Rank'].mean(), 2)\n",
    "    std_IMD_rank = round(LSOAs['Index of Multiple Deprivation (IMD) Rank'].std(), 2)\n",
    " \n",
    "    return mean_IMD_rank, std_IMD_rank\n",
    "\n",
    "def get_mean_IMD_decile(LAD_code):\n",
    "    # select relevant LSOAs\n",
    "    LSOAs = imd_df[imd_df['Local Authority District code (2019)'] == LAD_code]\n",
    "    \n",
    "    # calculate mean IMD rank\n",
    "    mean_IMD_decile = round(LSOAs['Index of Multiple Deprivation (IMD) Decile'].mean(), 2)\n",
    "    std_IMD_decile = round(LSOAs['Index of Multiple Deprivation (IMD) Decile'].std(), 2)\n",
    "    \n",
    "    return mean_IMD_decile, std_IMD_decile"
   ]
  },
  {
   "cell_type": "markdown",
   "metadata": {},
   "source": [
    "Now we can use these functions to calculate the mean IMD decile in each Local Authority District."
   ]
  },
  {
   "cell_type": "code",
   "execution_count": 7,
   "metadata": {
    "ExecuteTime": {
     "end_time": "2020-09-16T10:44:03.722779Z",
     "start_time": "2020-09-16T10:44:02.955702Z"
    }
   },
   "outputs": [],
   "source": [
    "LAD_codes = imd_df['Local Authority District code (2019)'].unique()\n",
    "#mean_IMD_rank, std_IMD_rank = np.vectorize(get_mean_IMD_rank)(LAD_codes)\n",
    "mean_IMD_decile, std_IMD_decile  = np.vectorize(get_mean_IMD_decile)(LAD_codes)\n",
    "\n",
    "LAD_df = pd.DataFrame({'LAD Code': LAD_codes, \n",
    "                       'LAD Name': imd_df['Local Authority District name (2019)'].unique(),\n",
    "                       #'Mean IMD Rank': mean_IMD_rank,\n",
    "                       #'Std IMD Rank' : std_IMD_rank,\n",
    "                       'Mean IMD decile': mean_IMD_decile,\n",
    "                       'Std IMD decile': std_IMD_decile})\n",
    "\n",
    "LAD_df = LAD_df.set_index('LAD Code')"
   ]
  },
  {
   "cell_type": "markdown",
   "metadata": {},
   "source": [
    "Let's make a quick histogram of the mean IMD decile."
   ]
  },
  {
   "cell_type": "code",
   "execution_count": 8,
   "metadata": {
    "ExecuteTime": {
     "end_time": "2020-09-16T10:44:03.895046Z",
     "start_time": "2020-09-16T10:44:03.726686Z"
    }
   },
   "outputs": [
    {
     "data": {
      "image/png": "[encoded data removed]",
      "text/plain": [
       "<Figure size 432x288 with 1 Axes>"
      ]
     },
     "metadata": {},
     "output_type": "display_data"
    }
   ],
   "source": [
    "LAD_df['Mean IMD decile'].hist(range=(1,11), bins=10)\n",
    "plt.xlabel('Mean IMD Decile')\n",
    "plt.ylabel('Count')\n",
    "plt.show()"
   ]
  },
  {
   "cell_type": "markdown",
   "metadata": {},
   "source": [
    "As expected, we lose some information when aggregating IMD ranks in this way. The central part of the distribution is relatively flat, and we cannot differentiate well between LADs in this region.\n",
    "\n",
    "Notice there are no Local Authority Districts that have a mean IMD decile of 1 or 10. This is due to the presence of variance inside each Local Authority District. As a consequence, there is no single LAD whose constituent LSOAs all have a IMD deciles of 1 (or 10). \n",
    "\n",
    "See the table below for the maximum and minimum mean IMD deciles. Note that Blackpool, the most deprived (on average) LAD in England, has a mean IMD decile of 2.41. This demonstrates that this LAD has some LSOAs that are not in the most deprived deciles. The opposite is true for the least deprived areas. The \"Std IMD decile\" column in the below table shows the level of variation of the IMD (measured by the standard deviation) within each LAD."
   ]
  },
  {
   "cell_type": "code",
   "execution_count": 9,
   "metadata": {
    "ExecuteTime": {
     "end_time": "2020-09-16T10:44:03.909431Z",
     "start_time": "2020-09-16T10:44:03.898427Z"
    }
   },
   "outputs": [
    {
     "data": {
      "text/html": [
       "<div>\n",
       "<style scoped>\n",
       "    .dataframe tbody tr th:only-of-type {\n",
       "        vertical-align: middle;\n",
       "    }\n",
       "\n",
       "    .dataframe tbody tr th {\n",
       "        vertical-align: top;\n",
       "    }\n",
       "\n",
       "    .dataframe thead th {\n",
       "        text-align: right;\n",
       "    }\n",
       "</style>\n",
       "<table border=\"1\" class=\"dataframe\">\n",
       "  <thead>\n",
       "    <tr style=\"text-align: right;\">\n",
       "      <th></th>\n",
       "      <th>LAD Name</th>\n",
       "      <th>Mean IMD decile</th>\n",
       "      <th>Std IMD decile</th>\n",
       "    </tr>\n",
       "    <tr>\n",
       "      <th>LAD Code</th>\n",
       "      <th></th>\n",
       "      <th></th>\n",
       "      <th></th>\n",
       "    </tr>\n",
       "  </thead>\n",
       "  <tbody>\n",
       "    <tr>\n",
       "      <th>E06000009</th>\n",
       "      <td>Blackpool</td>\n",
       "      <td>2.41</td>\n",
       "      <td>1.58</td>\n",
       "    </tr>\n",
       "    <tr>\n",
       "      <th>E08000003</th>\n",
       "      <td>Manchester</td>\n",
       "      <td>2.54</td>\n",
       "      <td>1.84</td>\n",
       "    </tr>\n",
       "    <tr>\n",
       "      <th>E08000011</th>\n",
       "      <td>Knowsley</td>\n",
       "      <td>2.56</td>\n",
       "      <td>1.91</td>\n",
       "    </tr>\n",
       "    <tr>\n",
       "      <th>E09000002</th>\n",
       "      <td>Barking and Dagenham</td>\n",
       "      <td>2.68</td>\n",
       "      <td>1.01</td>\n",
       "    </tr>\n",
       "    <tr>\n",
       "      <th>E09000012</th>\n",
       "      <td>Hackney</td>\n",
       "      <td>2.74</td>\n",
       "      <td>1.11</td>\n",
       "    </tr>\n",
       "    <tr>\n",
       "      <th>...</th>\n",
       "      <td>...</td>\n",
       "      <td>...</td>\n",
       "      <td>...</td>\n",
       "    </tr>\n",
       "    <tr>\n",
       "      <th>E07000155</th>\n",
       "      <td>South Northamptonshire</td>\n",
       "      <td>8.78</td>\n",
       "      <td>1.32</td>\n",
       "    </tr>\n",
       "    <tr>\n",
       "      <th>E07000176</th>\n",
       "      <td>Rushcliffe</td>\n",
       "      <td>8.82</td>\n",
       "      <td>1.58</td>\n",
       "    </tr>\n",
       "    <tr>\n",
       "      <th>E07000005</th>\n",
       "      <td>Chiltern</td>\n",
       "      <td>8.86</td>\n",
       "      <td>1.51</td>\n",
       "    </tr>\n",
       "    <tr>\n",
       "      <th>E06000041</th>\n",
       "      <td>Wokingham</td>\n",
       "      <td>9.27</td>\n",
       "      <td>1.43</td>\n",
       "    </tr>\n",
       "    <tr>\n",
       "      <th>E07000089</th>\n",
       "      <td>Hart</td>\n",
       "      <td>9.39</td>\n",
       "      <td>1.08</td>\n",
       "    </tr>\n",
       "  </tbody>\n",
       "</table>\n",
       "<p>317 rows × 3 columns</p>\n",
       "</div>"
      ],
      "text/plain": [
       "                         LAD Name  Mean IMD decile  Std IMD decile\n",
       "LAD Code                                                          \n",
       "E06000009               Blackpool             2.41            1.58\n",
       "E08000003              Manchester             2.54            1.84\n",
       "E08000011                Knowsley             2.56            1.91\n",
       "E09000002    Barking and Dagenham             2.68            1.01\n",
       "E09000012                 Hackney             2.74            1.11\n",
       "...                           ...              ...             ...\n",
       "E07000155  South Northamptonshire             8.78            1.32\n",
       "E07000176              Rushcliffe             8.82            1.58\n",
       "E07000005                Chiltern             8.86            1.51\n",
       "E06000041               Wokingham             9.27            1.43\n",
       "E07000089                    Hart             9.39            1.08\n",
       "\n",
       "[317 rows x 3 columns]"
      ]
     },
     "execution_count": 9,
     "metadata": {},
     "output_type": "execute_result"
    }
   ],
   "source": [
    "LAD_df.sort_values(by='Mean IMD decile')"
   ]
  },
  {
   "cell_type": "markdown",
   "metadata": {},
   "source": [
    "## Derive Age Standardisation Weight\n",
    "\n",
    "To account for the different population sizes in the different Local Area Districts, we want to use a mortality rate rather than an overall count. When we do this we convert a count into a rate per 100,000 people. Furthermore, we want to account for differences in the age distributions of the different LADs in order to make a valid comparison between the different geographic areas. An age standardised rate allows for this comparison. Ideally we would calculate this rate directly from the data, but as our mortality over time dataset does not contain information about age, we instead will need to extract a standardisation factor from a different dataset.\n",
    "\n",
    "The [dataset](https://www.ons.gov.uk/peoplepopulationandcommunity/birthsdeathsandmarriages/deaths/datasets/deathsinvolvingcovid19bylocalareaanddeprivation) we will use to do this comes from the ONS study on COVID-19 and deprivation. We will use it to derive a standardisation factor which will allow us to convert our mortality counts into an age and population standardise mortality rate. This mortality rate is a European standard (2013 ESP). As we mentioned, we cannot calculate the factor directly as our mortality over time dataset does not include age information, so this reverse engineering is the best we can do. \n",
    "\n",
    "For more information on how the mortality rate is calculated, [see here](https://www.ons.gov.uk/peoplepopulationandcommunity/birthsdeathsandmarriages/deaths/methodologies/userguidetomortalitystatisticsjuly2017#death-rates-ratios-and-standardisation). Simply put, this is the formula that we are assuming approximates the relationship between the age standardised rate and the mortality count:\n",
    "\n",
    "```\n",
    "age standardised mortality rate = [standardisation factor] * [mortality count]\n",
    "```\n",
    "\n",
    "⚠️ The above procedure is not ideal because it assumes that the distribution of ages of those who died inside each Local Area District is constant in time, and therefore the standardisation factor we derive in one dataset (which doesn't have information about time) can be applied to the other (which has information about time)."
   ]
  },
  {
   "cell_type": "markdown",
   "metadata": {},
   "source": [
    "First, let's download and read the data."
   ]
  },
  {
   "cell_type": "code",
   "execution_count": 10,
   "metadata": {
    "ExecuteTime": {
     "end_time": "2020-09-16T10:44:05.034251Z",
     "start_time": "2020-09-16T10:44:03.910921Z"
    }
   },
   "outputs": [],
   "source": [
    "# download the ONS data from the deprivation study\n",
    "url = 'https://www.ons.gov.uk/file?uri=%2fpeoplepopulationandcommunity%2fbirthsdeathsandmarriages%2fdeaths%2fdatasets%2fdeathsinvolvingcovid19bylocalareaanddeprivation%2f1march2020to17april2020/referencetablesdraft.xlsx'\n",
    "\n",
    "# specify filename\n",
    "filename = 'ONS_age_standarisation_April2020.xlsx'\n",
    "\n",
    "# construct file path\n",
    "filepath = os.path.join(downloaded_data_dir, filename)\n",
    "\n",
    "# download and save file at the specified URL\n",
    "download_file(url, filepath)\n",
    "\n",
    "# read the relevant sheet\n",
    "age_rate_df = pd.read_excel(filepath, sheet_name='Table 2', header=3)"
   ]
  },
  {
   "cell_type": "markdown",
   "metadata": {},
   "source": [
    "Do some minor selection and reformatting of the DataFrame."
   ]
  },
  {
   "cell_type": "code",
   "execution_count": 11,
   "metadata": {
    "ExecuteTime": {
     "end_time": "2020-09-16T10:44:05.054867Z",
     "start_time": "2020-09-16T10:44:05.036494Z"
    }
   },
   "outputs": [
    {
     "data": {
      "text/html": [
       "<div>\n",
       "<style scoped>\n",
       "    .dataframe tbody tr th:only-of-type {\n",
       "        vertical-align: middle;\n",
       "    }\n",
       "\n",
       "    .dataframe tbody tr th {\n",
       "        vertical-align: top;\n",
       "    }\n",
       "\n",
       "    .dataframe thead th {\n",
       "        text-align: right;\n",
       "    }\n",
       "</style>\n",
       "<table border=\"1\" class=\"dataframe\">\n",
       "  <thead>\n",
       "    <tr style=\"text-align: right;\">\n",
       "      <th></th>\n",
       "      <th>Sex</th>\n",
       "      <th>Geography type</th>\n",
       "      <th>LAD Code</th>\n",
       "      <th>Area name</th>\n",
       "      <th>All causes Deaths</th>\n",
       "      <th>All causes Rate</th>\n",
       "      <th></th>\n",
       "      <th>All causes Lower CI</th>\n",
       "      <th>All causes Upper CI</th>\n",
       "      <th></th>\n",
       "      <th>COVID-19 Deaths</th>\n",
       "      <th>COVID-19 Rate</th>\n",
       "      <th></th>\n",
       "      <th>COVID-19 Lower CI</th>\n",
       "      <th>COVID-19 Upper CI</th>\n",
       "    </tr>\n",
       "  </thead>\n",
       "  <tbody>\n",
       "    <tr>\n",
       "      <th>1</th>\n",
       "      <td>Persons</td>\n",
       "      <td>Unitary Authority</td>\n",
       "      <td>E06000001</td>\n",
       "      <td>Hartlepool</td>\n",
       "      <td>154</td>\n",
       "      <td>170.7</td>\n",
       "      <td>NaN</td>\n",
       "      <td>143.5</td>\n",
       "      <td>197.8</td>\n",
       "      <td>NaN</td>\n",
       "      <td>29</td>\n",
       "      <td>31</td>\n",
       "      <td>NaN</td>\n",
       "      <td>20.7</td>\n",
       "      <td>44.5</td>\n",
       "    </tr>\n",
       "    <tr>\n",
       "      <th>2</th>\n",
       "      <td>Persons</td>\n",
       "      <td>Unitary Authority</td>\n",
       "      <td>E06000002</td>\n",
       "      <td>Middlesbrough</td>\n",
       "      <td>289</td>\n",
       "      <td>256</td>\n",
       "      <td>NaN</td>\n",
       "      <td>226.1</td>\n",
       "      <td>286</td>\n",
       "      <td>NaN</td>\n",
       "      <td>89</td>\n",
       "      <td>79</td>\n",
       "      <td>NaN</td>\n",
       "      <td>63.2</td>\n",
       "      <td>97.6</td>\n",
       "    </tr>\n",
       "    <tr>\n",
       "      <th>3</th>\n",
       "      <td>Persons</td>\n",
       "      <td>Unitary Authority</td>\n",
       "      <td>E06000003</td>\n",
       "      <td>Redcar and Cleveland</td>\n",
       "      <td>215</td>\n",
       "      <td>142.6</td>\n",
       "      <td>NaN</td>\n",
       "      <td>123.5</td>\n",
       "      <td>161.8</td>\n",
       "      <td>NaN</td>\n",
       "      <td>40</td>\n",
       "      <td>26.5</td>\n",
       "      <td>NaN</td>\n",
       "      <td>18.9</td>\n",
       "      <td>36.2</td>\n",
       "    </tr>\n",
       "    <tr>\n",
       "      <th>4</th>\n",
       "      <td>Persons</td>\n",
       "      <td>Unitary Authority</td>\n",
       "      <td>E06000004</td>\n",
       "      <td>Stockton-on-Tees</td>\n",
       "      <td>297</td>\n",
       "      <td>167</td>\n",
       "      <td>NaN</td>\n",
       "      <td>147.8</td>\n",
       "      <td>186.1</td>\n",
       "      <td>NaN</td>\n",
       "      <td>38</td>\n",
       "      <td>21</td>\n",
       "      <td>NaN</td>\n",
       "      <td>14.8</td>\n",
       "      <td>28.9</td>\n",
       "    </tr>\n",
       "    <tr>\n",
       "      <th>5</th>\n",
       "      <td>Persons</td>\n",
       "      <td>Unitary Authority</td>\n",
       "      <td>E06000005</td>\n",
       "      <td>Darlington</td>\n",
       "      <td>169</td>\n",
       "      <td>151.5</td>\n",
       "      <td>NaN</td>\n",
       "      <td>128.6</td>\n",
       "      <td>174.4</td>\n",
       "      <td>NaN</td>\n",
       "      <td>26</td>\n",
       "      <td>22.9</td>\n",
       "      <td>NaN</td>\n",
       "      <td>15</td>\n",
       "      <td>33.7</td>\n",
       "    </tr>\n",
       "  </tbody>\n",
       "</table>\n",
       "</div>"
      ],
      "text/plain": [
       "       Sex     Geography type   LAD Code             Area name  \\\n",
       "1  Persons  Unitary Authority  E06000001            Hartlepool   \n",
       "2  Persons  Unitary Authority  E06000002         Middlesbrough   \n",
       "3  Persons  Unitary Authority  E06000003  Redcar and Cleveland   \n",
       "4  Persons  Unitary Authority  E06000004      Stockton-on-Tees   \n",
       "5  Persons  Unitary Authority  E06000005            Darlington   \n",
       "\n",
       "  All causes Deaths All causes Rate      All causes Lower CI  \\\n",
       "1               154           170.7  NaN               143.5   \n",
       "2               289             256  NaN               226.1   \n",
       "3               215           142.6  NaN               123.5   \n",
       "4               297             167  NaN               147.8   \n",
       "5               169           151.5  NaN               128.6   \n",
       "\n",
       "  All causes Upper CI     COVID-19 Deaths COVID-19 Rate       \\\n",
       "1               197.8 NaN              29            31  NaN   \n",
       "2                 286 NaN              89            79  NaN   \n",
       "3               161.8 NaN              40          26.5  NaN   \n",
       "4               186.1 NaN              38            21  NaN   \n",
       "5               174.4 NaN              26          22.9  NaN   \n",
       "\n",
       "  COVID-19 Lower CI COVID-19 Upper CI  \n",
       "1              20.7              44.5  \n",
       "2              63.2              97.6  \n",
       "3              18.9              36.2  \n",
       "4              14.8              28.9  \n",
       "5                15              33.7  "
      ]
     },
     "execution_count": 11,
     "metadata": {},
     "output_type": "execute_result"
    }
   ],
   "source": [
    "# data if given for many categories and regios, lets choose the inclusive gender, and the unitary authority levels\n",
    "age_rate_persons_df = age_rate_df[age_rate_df['Sex']=='Persons'] \n",
    "\n",
    "# rename columns\n",
    "age_rate_persons_df.columns = ['Sex', 'Geography type', 'LAD Code', 'Area name', 'All causes Deaths',\n",
    "       'All causes Rate','' ,'All causes Lower CI', 'All causes Upper CI','' ,'COVID-19 Deaths',\n",
    "       'COVID-19 Rate', '','COVID-19 Lower CI', 'COVID-19 Upper CI' ]\n",
    "\n",
    "# remove anomalous row (Isles of Scilly) without numerical data\n",
    "age_rate_persons_df = age_rate_persons_df[age_rate_persons_df['All causes Rate'] != ':']\n",
    "age_rate_persons_df = age_rate_persons_df[age_rate_persons_df['COVID-19 Rate'] != ':']\n",
    "\n",
    "age_rate_persons_df.head()"
   ]
  },
  {
   "cell_type": "markdown",
   "metadata": {},
   "source": [
    "\n",
    "Let us now calculate the factor by which we need to multiply the count of deaths to derive the age-standardised mortality rate per 100,000 habitants."
   ]
  },
  {
   "cell_type": "code",
   "execution_count": 12,
   "metadata": {
    "ExecuteTime": {
     "end_time": "2020-09-16T10:44:05.069162Z",
     "start_time": "2020-09-16T10:44:05.056378Z"
    }
   },
   "outputs": [],
   "source": [
    "# derive standardisation factors\n",
    "age_rate_persons_df['All causes rate factor'] = (\n",
    "    age_rate_persons_df['All causes Rate'] / age_rate_persons_df['All causes Deaths'] )\n",
    "\n",
    "age_rate_persons_df['COVID-19 rate factor'] = (\n",
    "    age_rate_persons_df['COVID-19 Rate'] / age_rate_persons_df['COVID-19 Deaths'] )\n",
    "\n",
    "# drop columns\n",
    "age_rate_persons_df = age_rate_persons_df[['LAD Code', 'All causes rate factor', 'COVID-19 rate factor']]"
   ]
  },
  {
   "cell_type": "code",
   "execution_count": 13,
   "metadata": {
    "ExecuteTime": {
     "end_time": "2020-09-16T10:44:05.078090Z",
     "start_time": "2020-09-16T10:44:05.070473Z"
    }
   },
   "outputs": [],
   "source": [
    "LAD_df = LAD_df.reset_index()\n",
    "LAD_df = LAD_df.merge(age_rate_persons_df, on='LAD Code', how='inner')\n",
    "LAD_df = LAD_df.set_index('LAD Code')"
   ]
  },
  {
   "cell_type": "markdown",
   "metadata": {},
   "source": [
    "Let's save the standardisation factors for each LAD, stored in the DataFrame `LAD_df`, so that we can easily use them later. "
   ]
  },
  {
   "cell_type": "code",
   "execution_count": 14,
   "metadata": {
    "ExecuteTime": {
     "end_time": "2020-09-16T10:44:05.085872Z",
     "start_time": "2020-09-16T10:44:05.079715Z"
    }
   },
   "outputs": [],
   "source": [
    "# create filename\n",
    "LAD_df_filename = 'Local_Authority_District_Lookup.csv'\n",
    "LAD_df_filepath = os.path.join(derived_data_dirname, LAD_df_filename)\n",
    "\n",
    "# write to csv\n",
    "LAD_df.to_csv(LAD_df_filepath, index=False)"
   ]
  },
  {
   "cell_type": "markdown",
   "metadata": {},
   "source": [
    "## Mortality Counts\n",
    "\n",
    "Now we are ready to download the main dataset that we will be analysing: the number of COVID-19 and non COVID-19 deaths across time and place."
   ]
  },
  {
   "cell_type": "markdown",
   "metadata": {},
   "source": [
    "### Download and Format"
   ]
  },
  {
   "cell_type": "markdown",
   "metadata": {},
   "source": [
    "First, let's download the ONS dataset containing mortality counts by week and Local Authority District."
   ]
  },
  {
   "cell_type": "code",
   "execution_count": 15,
   "metadata": {
    "ExecuteTime": {
     "end_time": "2020-09-16T10:44:07.650589Z",
     "start_time": "2020-09-16T10:44:05.087613Z"
    }
   },
   "outputs": [],
   "source": [
    "# specify URL\n",
    "url = 'https://www.ons.gov.uk/file?uri=%2fpeoplepopulationandcommunity%2fhealthandsocialcare%2fcausesofdeath%2fdatasets%2fdeathregistrationsandoccurrencesbylocalauthorityandhealthboard%2f2020/lahbtablesweek35.xlsx'\n",
    "\n",
    "# specify filename\n",
    "filename = 'ONS_COVID_Mortality_Counts.xlsx'\n",
    "\n",
    "# construct file path\n",
    "filepath = os.path.join(downloaded_data_dir, filename)\n",
    "\n",
    "# download and save file at the specified URL\n",
    "download_file(url, filepath)"
   ]
  },
  {
   "cell_type": "code",
   "execution_count": 16,
   "metadata": {
    "ExecuteTime": {
     "end_time": "2020-09-16T10:44:27.283273Z",
     "start_time": "2020-09-16T10:44:07.654662Z"
    }
   },
   "outputs": [],
   "source": [
    "# specify the sheet of the excel file we want to read\n",
    "sheet_name = 'Occurrences - All data'\n",
    "\n",
    "# read the sheet into a pandas DataFrame\n",
    "mortality_df = pd.read_excel(filepath, sheet_name=sheet_name, header=3)"
   ]
  },
  {
   "cell_type": "markdown",
   "metadata": {},
   "source": [
    "Let's quickly check if all the LADs are represented in both datasets so that we can join the IMD rank with the mortality information for each LAD."
   ]
  },
  {
   "cell_type": "code",
   "execution_count": 17,
   "metadata": {
    "ExecuteTime": {
     "end_time": "2020-09-16T10:44:27.318513Z",
     "start_time": "2020-09-16T10:44:27.285084Z"
    }
   },
   "outputs": [
    {
     "name": "stdout",
     "output_type": "stream",
     "text": [
      "There are 4 codes in the IMD dataset but not in the mortality dataset.\n",
      "There are 30 codes in the mortality dataset but not in the IMD dataset.\n"
     ]
    }
   ],
   "source": [
    "not_in_imd = set(mortality_df['Area code']) - set(imd_df['Local Authority District code (2019)'])\n",
    "not_in_mortality = set(imd_df['Local Authority District code (2019)']) - set(mortality_df['Area code'])\n",
    "print('There are', len(not_in_mortality), 'codes in the IMD dataset but not in the mortality dataset.')\n",
    "print('There are', len(not_in_imd), 'codes in the mortality dataset but not in the IMD dataset.')"
   ]
  },
  {
   "cell_type": "markdown",
   "metadata": {},
   "source": [
    "We have 346 LAD codes in the mortality data set, and only 317 in the IMD dataset. Upon closer inspection, it turned out that IMD dataset does not contain any Welsh entries (as the IMD ranking is defined for England only). Additionally, the mortality dataset contains a single entry for Buckinghamshire, a new unitary authority in 2020 (E06000060). The IMD dataset, meanwhile, contains 4 LAD codes for Buckinghamshire. We will have to drop these anomalous locations from the analysis for now. "
   ]
  },
  {
   "cell_type": "code",
   "execution_count": 18,
   "metadata": {
    "ExecuteTime": {
     "end_time": "2020-09-16T10:44:27.343685Z",
     "start_time": "2020-09-16T10:44:27.320634Z"
    }
   },
   "outputs": [],
   "source": [
    "# extract those LAD codes which are present in the mortality dataset but not the IMD dataset (Wales)\n",
    "missing_LAD_codes_df = mortality_df[~mortality_df['Area code'].isin(imd_df['Local Authority District code (2019)'])]\n",
    "missing_LAD_codes = missing_LAD_codes_df['Area code'].unique()\n",
    "\n",
    "# filter by common LAD codes\n",
    "mortality_df = mortality_df[~mortality_df['Area code'].isin(missing_LAD_codes)]"
   ]
  },
  {
   "cell_type": "markdown",
   "metadata": {},
   "source": [
    "Furthermore, the age standardisation factor derived previously was not able to be derived for one LAD (the Isles of Scilly). Let's drop that now too to avoid any problems later down the line."
   ]
  },
  {
   "cell_type": "code",
   "execution_count": 19,
   "metadata": {
    "ExecuteTime": {
     "end_time": "2020-09-16T10:44:27.359651Z",
     "start_time": "2020-09-16T10:44:27.345101Z"
    }
   },
   "outputs": [],
   "source": [
    "# remove LADs from the mortality DataFrame if we do not have an entry for them in the LAD_df\n",
    "mortality_df = mortality_df[mortality_df['Area code'].isin(LAD_df.index)]"
   ]
  },
  {
   "cell_type": "markdown",
   "metadata": {},
   "source": [
    "Finally, since we are interested in looking at the effect of COVID-19 and the lockdown policies on the working population, we can remove deaths that took place in care homes or hospices."
   ]
  },
  {
   "cell_type": "code",
   "execution_count": 20,
   "metadata": {
    "ExecuteTime": {
     "end_time": "2020-09-16T10:44:27.383706Z",
     "start_time": "2020-09-16T10:44:27.361302Z"
    }
   },
   "outputs": [],
   "source": [
    "# select only deaths outside of care homes and hospices\n",
    "mortality_df = mortality_df[(mortality_df['Place of death']!='Care home') & \n",
    "                            (mortality_df['Place of death']!='Hospice')]\n",
    "\n",
    "# to instead select only deaths in care homes or hospices, use this line:\n",
    "#mortality_df = mortality_df[(mortality_df['Place of death']=='Care home') | \n",
    "#                            (mortality_df['Place of death']=='Hospice')]"
   ]
  },
  {
   "cell_type": "markdown",
   "metadata": {},
   "source": [
    "The mortality data starts from Wednesday 1st Jan 2020. Let's use that fact to convert the supplied week numbers into a date."
   ]
  },
  {
   "cell_type": "code",
   "execution_count": 21,
   "metadata": {
    "ExecuteTime": {
     "end_time": "2020-09-16T10:44:28.638364Z",
     "start_time": "2020-09-16T10:44:27.385410Z"
    }
   },
   "outputs": [],
   "source": [
    "# first day of 2020 is a Wednesday\n",
    "mortality_df['Date'] = [datetime.strptime(f'2020 {n-1} 3', '%Y %W %w').strftime('%Y-%m-%d') \n",
    "                        for n in mortality_df['Week number']]\n",
    "\n",
    "# drop week number column\n",
    "mortality_df = mortality_df.drop(columns='Week number')"
   ]
  },
  {
   "cell_type": "markdown",
   "metadata": {},
   "source": [
    "Finally, we can take a random sample of 5 rows from the DataFrame to check everything looks okay, and to get an idea of its structure."
   ]
  },
  {
   "cell_type": "code",
   "execution_count": 22,
   "metadata": {
    "ExecuteTime": {
     "end_time": "2020-09-16T10:44:28.653898Z",
     "start_time": "2020-09-16T10:44:28.640586Z"
    }
   },
   "outputs": [
    {
     "data": {
      "text/html": [
       "<div>\n",
       "<style scoped>\n",
       "    .dataframe tbody tr th:only-of-type {\n",
       "        vertical-align: middle;\n",
       "    }\n",
       "\n",
       "    .dataframe tbody tr th {\n",
       "        vertical-align: top;\n",
       "    }\n",
       "\n",
       "    .dataframe thead th {\n",
       "        text-align: right;\n",
       "    }\n",
       "</style>\n",
       "<table border=\"1\" class=\"dataframe\">\n",
       "  <thead>\n",
       "    <tr style=\"text-align: right;\">\n",
       "      <th></th>\n",
       "      <th>Area code</th>\n",
       "      <th>Geography type</th>\n",
       "      <th>Area name</th>\n",
       "      <th>Cause of death</th>\n",
       "      <th>Place of death</th>\n",
       "      <th>Number of deaths</th>\n",
       "      <th>Date</th>\n",
       "    </tr>\n",
       "  </thead>\n",
       "  <tbody>\n",
       "    <tr>\n",
       "      <th>42125</th>\n",
       "      <td>E07000044</td>\n",
       "      <td>Local Authority</td>\n",
       "      <td>South Hams</td>\n",
       "      <td>All causes</td>\n",
       "      <td>Other communal establishment</td>\n",
       "      <td>0</td>\n",
       "      <td>2020-03-11</td>\n",
       "    </tr>\n",
       "    <tr>\n",
       "      <th>109936</th>\n",
       "      <td>E07000245</td>\n",
       "      <td>Local Authority</td>\n",
       "      <td>West Suffolk</td>\n",
       "      <td>All causes</td>\n",
       "      <td>Hospital</td>\n",
       "      <td>5</td>\n",
       "      <td>2020-07-01</td>\n",
       "    </tr>\n",
       "    <tr>\n",
       "      <th>130450</th>\n",
       "      <td>E07000239</td>\n",
       "      <td>Local Authority</td>\n",
       "      <td>Wyre Forest</td>\n",
       "      <td>COVID 19</td>\n",
       "      <td>Hospital</td>\n",
       "      <td>0</td>\n",
       "      <td>2020-08-05</td>\n",
       "    </tr>\n",
       "    <tr>\n",
       "      <th>66125</th>\n",
       "      <td>E06000023</td>\n",
       "      <td>Local Authority</td>\n",
       "      <td>Bristol, City of</td>\n",
       "      <td>All causes</td>\n",
       "      <td>Other communal establishment</td>\n",
       "      <td>5</td>\n",
       "      <td>2020-04-22</td>\n",
       "    </tr>\n",
       "    <tr>\n",
       "      <th>135851</th>\n",
       "      <td>E06000002</td>\n",
       "      <td>Local Authority</td>\n",
       "      <td>Middlesbrough</td>\n",
       "      <td>COVID 19</td>\n",
       "      <td>Other communal establishment</td>\n",
       "      <td>0</td>\n",
       "      <td>2020-08-19</td>\n",
       "    </tr>\n",
       "  </tbody>\n",
       "</table>\n",
       "</div>"
      ],
      "text/plain": [
       "        Area code   Geography type         Area name Cause of death  \\\n",
       "42125   E07000044  Local Authority        South Hams     All causes   \n",
       "109936  E07000245  Local Authority      West Suffolk     All causes   \n",
       "130450  E07000239  Local Authority       Wyre Forest       COVID 19   \n",
       "66125   E06000023  Local Authority  Bristol, City of     All causes   \n",
       "135851  E06000002  Local Authority     Middlesbrough       COVID 19   \n",
       "\n",
       "                      Place of death  Number of deaths        Date  \n",
       "42125   Other communal establishment                 0  2020-03-11  \n",
       "109936                      Hospital                 5  2020-07-01  \n",
       "130450                      Hospital                 0  2020-08-05  \n",
       "66125   Other communal establishment                 5  2020-04-22  \n",
       "135851  Other communal establishment                 0  2020-08-19  "
      ]
     },
     "execution_count": 22,
     "metadata": {},
     "output_type": "execute_result"
    }
   ],
   "source": [
    "mortality_df.sample(n=5)"
   ]
  },
  {
   "cell_type": "markdown",
   "metadata": {},
   "source": [
    "If you want to reproduce the results from the [ONS report](https://www.ons.gov.uk/peoplepopulationandcommunity/birthsdeathsandmarriages/deaths/bulletins/deathsinvolvingcovid19bylocalareasanddeprivation/latest)\n",
    "uncomment these lines."
   ]
  },
  {
   "cell_type": "code",
   "execution_count": 23,
   "metadata": {
    "ExecuteTime": {
     "end_time": "2020-09-16T10:44:28.662574Z",
     "start_time": "2020-09-16T10:44:28.660705Z"
    }
   },
   "outputs": [],
   "source": [
    "#mortality_df = mortality_df[mortality_df['Date'] > '2020-03-01']\n",
    "#mortality_df = mortality_df[mortality_df['Date'] < '2020-04-18']"
   ]
  },
  {
   "cell_type": "markdown",
   "metadata": {},
   "source": [
    "\n",
    "## Download Local Area District to Region Lookup Table\n",
    "\n",
    "As in the ONS report, a nice plot to make is the total number of mortalities in each region of England (regions are composed of many LADs, for example the West Midlands). To do this, we need to know which LADs belong to which regions. Let's download this data now from the following website: https://geoportal.statistics.gov.uk/datasets/local-authority-district-to-region-april-2019-lookup-in-england."
   ]
  },
  {
   "cell_type": "code",
   "execution_count": 24,
   "metadata": {
    "ExecuteTime": {
     "end_time": "2020-09-16T10:44:29.443910Z",
     "start_time": "2020-09-16T10:44:28.665917Z"
    }
   },
   "outputs": [],
   "source": [
    "# specify URL\n",
    "url = 'https://opendata.arcgis.com/datasets/3ba3daf9278f47daba0f561889c3521a_0.csv'\n",
    "\n",
    "# specify filename\n",
    "filename = 'LAD_Code_Region_Lookup.csv'\n",
    "\n",
    "# construct file path\n",
    "filepath = os.path.join (downloaded_data_dir, filename)\n",
    "\n",
    "# download and save file at the specified URL\n",
    "download_file(url, filepath)\n",
    "\n",
    "# read the relevant sheet\n",
    "LAD_code_region_lookup_df = pd.read_csv(filepath, index_col='FID').set_index('LAD19CD')"
   ]
  },
  {
   "cell_type": "markdown",
   "metadata": {},
   "source": [
    "Taking a look at the data, we can see that the index \"LAD19CD\" contains our familiar LAD code, and the column \"RGN12NM\" gives us the name of the region in which that LAD is located. Perfect!"
   ]
  },
  {
   "cell_type": "code",
   "execution_count": 25,
   "metadata": {
    "ExecuteTime": {
     "end_time": "2020-09-16T10:44:29.454667Z",
     "start_time": "2020-09-16T10:44:29.446234Z"
    }
   },
   "outputs": [
    {
     "data": {
      "text/html": [
       "<div>\n",
       "<style scoped>\n",
       "    .dataframe tbody tr th:only-of-type {\n",
       "        vertical-align: middle;\n",
       "    }\n",
       "\n",
       "    .dataframe tbody tr th {\n",
       "        vertical-align: top;\n",
       "    }\n",
       "\n",
       "    .dataframe thead th {\n",
       "        text-align: right;\n",
       "    }\n",
       "</style>\n",
       "<table border=\"1\" class=\"dataframe\">\n",
       "  <thead>\n",
       "    <tr style=\"text-align: right;\">\n",
       "      <th></th>\n",
       "      <th>LAD19NM</th>\n",
       "      <th>RGN19CD</th>\n",
       "      <th>RGN19NM</th>\n",
       "    </tr>\n",
       "    <tr>\n",
       "      <th>LAD19CD</th>\n",
       "      <th></th>\n",
       "      <th></th>\n",
       "      <th></th>\n",
       "    </tr>\n",
       "  </thead>\n",
       "  <tbody>\n",
       "    <tr>\n",
       "      <th>E09000001</th>\n",
       "      <td>City of London</td>\n",
       "      <td>E12000007</td>\n",
       "      <td>London</td>\n",
       "    </tr>\n",
       "    <tr>\n",
       "      <th>E06000054</th>\n",
       "      <td>Wiltshire</td>\n",
       "      <td>E12000009</td>\n",
       "      <td>South West</td>\n",
       "    </tr>\n",
       "    <tr>\n",
       "      <th>E09000002</th>\n",
       "      <td>Barking and Dagenham</td>\n",
       "      <td>E12000007</td>\n",
       "      <td>London</td>\n",
       "    </tr>\n",
       "    <tr>\n",
       "      <th>E09000003</th>\n",
       "      <td>Barnet</td>\n",
       "      <td>E12000007</td>\n",
       "      <td>London</td>\n",
       "    </tr>\n",
       "    <tr>\n",
       "      <th>E09000004</th>\n",
       "      <td>Bexley</td>\n",
       "      <td>E12000007</td>\n",
       "      <td>London</td>\n",
       "    </tr>\n",
       "  </tbody>\n",
       "</table>\n",
       "</div>"
      ],
      "text/plain": [
       "                        LAD19NM    RGN19CD     RGN19NM\n",
       "LAD19CD                                               \n",
       "E09000001        City of London  E12000007      London\n",
       "E06000054             Wiltshire  E12000009  South West\n",
       "E09000002  Barking and Dagenham  E12000007      London\n",
       "E09000003                Barnet  E12000007      London\n",
       "E09000004                Bexley  E12000007      London"
      ]
     },
     "execution_count": 25,
     "metadata": {},
     "output_type": "execute_result"
    }
   ],
   "source": [
    "LAD_code_region_lookup_df.head()"
   ]
  },
  {
   "cell_type": "markdown",
   "metadata": {},
   "source": [
    "## Split Data Into Different Time Periods\n",
    "\n",
    "Now, the final step before we can produce and understand some results, is to split our dataset into different time periods. As mentioned in the introduction, we want to compare COVID-19 mortality before and after lockdown polices were put in place. Within each time period, we sum over all deaths, and add the IMD decile for each LAD. Finally we also include Region information.\n",
    "\n",
    "Let's write a function to sum the mortality data over time to get the total number of deaths. Then, we'll reformat the DataFrame to separate COVID-19 and non COVID-19 deaths. Finally, we'll use the table downloaded in the previous section to get the Region name for each LAD. The function combines information from all the previous DataFrames and produces a DataFrame with everything we need to do our analysis. \n",
    "\n",
    "Now we are finished with all of the processing steps and we are ready for the fun part: analysing the data."
   ]
  },
  {
   "cell_type": "code",
   "execution_count": 26,
   "metadata": {
    "ExecuteTime": {
     "end_time": "2020-09-16T10:44:29.462862Z",
     "start_time": "2020-09-16T10:44:29.456431Z"
    }
   },
   "outputs": [],
   "source": [
    "def filter_date_and_aggregate(df, date_range=None):\n",
    "    \"\"\"\n",
    "    The function:\n",
    "    - Selects dates that are inside the supplied date range.\n",
    "    - Sums over time in this date range.\n",
    "    - Separates COVID-19 vs non COVID-19 deaths.\n",
    "    - Decorates rows with area and region name columns.\n",
    "    - Calculates the standardised mortality rate using previously calculated factors.\n",
    "    - Pulls in the mean IMD decile as previously calculated.\n",
    "    \"\"\"\n",
    "    \n",
    "    # filter dates\n",
    "    if date_range:\n",
    "        df = df[(df['Date'] >= date_range[0]) & (df['Date'] < date_range[1])]\n",
    "    \n",
    "    # sum over time\n",
    "    df = df.groupby(by=['Area code', 'Cause of death']).sum()\n",
    "    df = df.reset_index(level=[-1])\n",
    "\n",
    "    # seperate out all deaths and COVID deaths as their own columns\n",
    "    df = df.pivot(columns='Cause of death', values='Number of deaths')\n",
    "    df.columns.name = ''\n",
    "\n",
    "    # rename columns\n",
    "    df = df.rename(columns={'All causes': 'Total deaths', 'COVID 19': 'COVID deaths'})\n",
    "\n",
    "    # add non-COVID deaths as column\n",
    "    df['Non COVID deaths'] = df['Total deaths'] - df['COVID deaths']\n",
    "\n",
    "    # add area names\n",
    "    df['Area name'] = LAD_df.loc[df.index]['LAD Name']\n",
    "\n",
    "    # add region names\n",
    "    df['Region name'] = LAD_code_region_lookup_df.loc[df.index]['RGN19NM']\n",
    "    \n",
    "    # Calculate the rate per 100k using the age-standardisation factor estimated previously\n",
    "    df['COVID-19 rate'] = (LAD_df.loc[df.index]['COVID-19 rate factor'] * df['COVID deaths']).astype(float)\n",
    "    df['All causes rate'] = (LAD_df.loc[df.index]['All causes rate factor'] * df['Total deaths']).astype(float)\n",
    "    \n",
    "    # import mean IMD rank\n",
    "    df['Mean IMD decile'] = LAD_df['Mean IMD decile']\n",
    "    \n",
    "    return df"
   ]
  },
  {
   "cell_type": "code",
   "execution_count": 27,
   "metadata": {
    "ExecuteTime": {
     "end_time": "2020-09-16T10:44:29.496780Z",
     "start_time": "2020-09-16T10:44:29.464247Z"
    }
   },
   "outputs": [],
   "source": [
    "# sum over \"Place of death\" column\n",
    "mortality_sum_df = mortality_df.groupby(by=['Area code', 'Date', 'Cause of death']).sum().reset_index()"
   ]
  },
  {
   "cell_type": "markdown",
   "metadata": {},
   "source": [
    "First, let's agreggate the data without splitting into different time periods."
   ]
  },
  {
   "cell_type": "code",
   "execution_count": 28,
   "metadata": {
    "ExecuteTime": {
     "end_time": "2020-09-16T10:44:29.514841Z",
     "start_time": "2020-09-16T10:44:29.498614Z"
    }
   },
   "outputs": [],
   "source": [
    "# this line performs the agreggation step (summing mortality over time).\n",
    "# and also includes information about deprivation, no date filtering yet.\n",
    "total_deaths_df = filter_date_and_aggregate(mortality_sum_df)"
   ]
  },
  {
   "cell_type": "markdown",
   "metadata": {},
   "source": [
    "Now we can split up the data into three periods. The first period is from January 1st to April 7th - 16 days from the beginning of lockdown. The second period runs from April 7th to June 1st - 16 days after the stay at home order was lifted. The final period runs from June 1st to August 28th.\n",
    "\n",
    "We use a time delay of 16 days after key policy decisions to account for the time lag between onset of the disase and death. The number was taken from this study: https://www.bmj.com/content/368/bmj.m1091"
   ]
  },
  {
   "cell_type": "code",
   "execution_count": 29,
   "metadata": {
    "ExecuteTime": {
     "end_time": "2020-09-16T10:44:29.560596Z",
     "start_time": "2020-09-16T10:44:29.516507Z"
    }
   },
   "outputs": [],
   "source": [
    "# first date range\n",
    "first_date_range = ('2020-01-01', '2020-04-07')\n",
    "first_df = filter_date_and_aggregate(mortality_sum_df, first_date_range)\n",
    "first_df['period'] = 1\n",
    "\n",
    "# second date range\n",
    "second_date_range = ('2020-04-07', '2020-06-01')\n",
    "second_df = filter_date_and_aggregate(mortality_sum_df, second_date_range)\n",
    "second_df['period'] = 2\n",
    "\n",
    "# second date range\n",
    "third_date_range = ('2020-06-01', '2020-08-28')\n",
    "third_df = filter_date_and_aggregate(mortality_sum_df, third_date_range)\n",
    "third_df['period'] = 3"
   ]
  },
  {
   "cell_type": "code",
   "execution_count": 30,
   "metadata": {
    "ExecuteTime": {
     "end_time": "2020-09-16T10:44:29.567597Z",
     "start_time": "2020-09-16T10:44:29.562818Z"
    }
   },
   "outputs": [
    {
     "name": "stdout",
     "output_type": "stream",
     "text": [
      "Total deaths in before lockdown period:\t 6521\n",
      "Total deaths in during lockdown period:\t 24179\n",
      "Total deaths in after lockdown period:\t 3217\n"
     ]
    }
   ],
   "source": [
    "print('Total deaths in before lockdown period:\\t', first_df['COVID deaths'].sum())\n",
    "print('Total deaths in during lockdown period:\\t', second_df['COVID deaths'].sum())\n",
    "print('Total deaths in after lockdown period:\\t', third_df['COVID deaths'].sum())"
   ]
  },
  {
   "cell_type": "markdown",
   "metadata": {},
   "source": [
    "Here we can also choose to divide the rate by the number of days in the time period, to compute the age standardised mortality rate per day."
   ]
  },
  {
   "cell_type": "code",
   "execution_count": 31,
   "metadata": {
    "ExecuteTime": {
     "end_time": "2020-09-16T10:44:29.578319Z",
     "start_time": "2020-09-16T10:44:29.569168Z"
    }
   },
   "outputs": [],
   "source": [
    "def get_num_days(date_range):\n",
    "    d0 = datetime.strptime(date_range[1], '%Y-%m-%d')\n",
    "    d1 = datetime.strptime(date_range[0], '%Y-%m-%d')\n",
    "    return (d0 - d1).days\n",
    "\n",
    "full_date_range = ('2020-01-01', '2020-08-28')\n",
    "total_deaths_df['All causes rate'] = total_deaths_df['All causes rate'] / get_num_days(full_date_range)\n",
    "total_deaths_df['COVID-19 rate'] = total_deaths_df['COVID-19 rate'] / get_num_days(full_date_range)\n",
    "\n",
    "first_df['All causes rate'] = first_df['All causes rate'] / get_num_days(first_date_range)\n",
    "first_df['COVID-19 rate']   = first_df['COVID-19 rate']   / get_num_days(first_date_range)\n",
    "\n",
    "second_df['All causes rate'] = second_df['All causes rate'] / get_num_days(second_date_range)\n",
    "second_df['COVID-19 rate']   = second_df['COVID-19 rate']   / get_num_days(second_date_range)\n",
    "\n",
    "third_df['All causes rate'] = third_df['All causes rate'] / get_num_days(third_date_range)\n",
    "third_df['COVID-19 rate']   = third_df['COVID-19 rate']   / get_num_days(third_date_range)"
   ]
  },
  {
   "cell_type": "code",
   "execution_count": 32,
   "metadata": {
    "ExecuteTime": {
     "end_time": "2020-09-16T10:44:29.588967Z",
     "start_time": "2020-09-16T10:44:29.580332Z"
    }
   },
   "outputs": [],
   "source": [
    "# recombining with the additional column\n",
    "all_df = pd.concat([first_df,second_df, third_df])"
   ]
  },
  {
   "cell_type": "markdown",
   "metadata": {},
   "source": [
    "# Study 1 - Regional Mortality Counts & Rates\n",
    "\n",
    "Our first objective was to reproduce the ONS analysis to ensure that we have all the pieces we need to understand the problem. The first plots that we will replicate compare COVID-19 mortality across the different regions in England (Figures 1 & 2 in the ONS analysis)."
   ]
  },
  {
   "cell_type": "markdown",
   "metadata": {},
   "source": [
    "## Total Mortalities by Region\n",
    "\n",
    "For Figure 1, we will produce a stacked bar chart showing the mortality count (split up into COVID-19 and non COVID-19 deaths) for each Region in England."
   ]
  },
  {
   "cell_type": "markdown",
   "metadata": {},
   "source": [
    "Summing over region and sorting the values, we are almost ready to make the plot."
   ]
  },
  {
   "cell_type": "code",
   "execution_count": 33,
   "metadata": {
    "ExecuteTime": {
     "end_time": "2020-09-16T10:44:29.596903Z",
     "start_time": "2020-09-16T10:44:29.590548Z"
    }
   },
   "outputs": [],
   "source": [
    "# sum over LADs in each region\n",
    "total_deaths_by_region_df = total_deaths_df.groupby(by='Region name').sum()\n",
    "\n",
    "# sort ascending\n",
    "total_deaths_by_region_df = total_deaths_by_region_df.sort_values(by='Total deaths', ascending=True)"
   ]
  },
  {
   "cell_type": "markdown",
   "metadata": {},
   "source": [
    "Finally, let's write the code to actually make the plot."
   ]
  },
  {
   "cell_type": "code",
   "execution_count": 34,
   "metadata": {
    "ExecuteTime": {
     "end_time": "2020-09-16T10:44:29.859477Z",
     "start_time": "2020-09-16T10:44:29.598404Z"
    }
   },
   "outputs": [
    {
     "data": {
      "image/png": "[encoded data removed]",
      "text/plain": [
       "<Figure size 504x720 with 1 Axes>"
      ]
     },
     "metadata": {},
     "output_type": "display_data"
    }
   ],
   "source": [
    "# region names\n",
    "xs = total_deaths_by_region_df.index\n",
    "\n",
    "# mortality counts\n",
    "non_covid_deaths = total_deaths_by_region_df['Non COVID deaths']\n",
    "covid_deaths = total_deaths_by_region_df['COVID deaths']\n",
    "\n",
    "# set bar width\n",
    "width = 0.75\n",
    "\n",
    "# colors similar to ONS\n",
    "covid_color = (251/255, 213/255, 59/255, 0.9)\n",
    "noncovid_color = (25/255, 142/255, 188/255, 0.9)\n",
    "\n",
    "# create a figure and plot data\n",
    "plt.figure(figsize=(7,10))\n",
    "p1 = plt.barh(xs, covid_deaths, width, color=covid_color, label='COVID-19 Deaths')\n",
    "p2 = plt.barh(xs, non_covid_deaths, width, left=covid_deaths, color=noncovid_color, label='Non COVID-19 Deaths')\n",
    "\n",
    "\n",
    "# label axes\n",
    "plt.xlabel('Deaths Since 01/01/2020', fontsize=16)\n",
    "plt.ylabel('Region', fontsize=16)\n",
    "plt.yticks(rotation=30)\n",
    "\n",
    "# add vertical grid lines\n",
    "plt.gca().xaxis.grid(True, linestyle='-', which='major', color='grey', alpha=.25)\n",
    "\n",
    "# show legend and plot\n",
    "plt.legend(fontsize=14)\n",
    "plt.show()"
   ]
  },
  {
   "cell_type": "markdown",
   "metadata": {},
   "source": [
    "There it is! A lot of work but now we can already begin to try and understand what this data is telling us. For example, some conclusions:\n",
    "- For all regions, the number of COVID-19 deaths is smaller than the number of non COVID-19 deaths.\n",
    "- The number of deaths varies a lot between different regions. This can be due to the fact that there are different numbers of people living in each region (for example, there are more people living in the South East than there are in London). On top of that, we know that older people have a higher risk of dying after contracting COVID-19, and as the age distributions are different for different regions, this can also affect the overall number of deaths."
   ]
  },
  {
   "cell_type": "markdown",
   "metadata": {},
   "source": [
    "## Standardised Mortality Rate by Region"
   ]
  },
  {
   "cell_type": "markdown",
   "metadata": {},
   "source": [
    "To account for the varying population sizes and age distributions, let's look at the age-standardised mortality rates per 100,000 people, standardised to the 2013 European Standard Population. Age-standardised mortality rates allow for differences in the age structure of populations and therefore allow valid comparisons to be made between geographical areas, the sexes and over time. \t\t\t\t\t\t\t"
   ]
  },
  {
   "cell_type": "code",
   "execution_count": 35,
   "metadata": {
    "ExecuteTime": {
     "end_time": "2020-09-16T10:44:29.868340Z",
     "start_time": "2020-09-16T10:44:29.861399Z"
    }
   },
   "outputs": [],
   "source": [
    "# calculate the mean rate per region and sort\n",
    "total_rates_df_by_region = total_deaths_df.groupby(by='Region name', as_index=False).agg('mean')\n",
    "total_rates_df_by_region = total_rates_df_by_region.sort_values(by='All causes rate', ascending=True)"
   ]
  },
  {
   "cell_type": "code",
   "execution_count": 36,
   "metadata": {
    "ExecuteTime": {
     "end_time": "2020-09-16T10:44:30.064180Z",
     "start_time": "2020-09-16T10:44:29.870123Z"
    }
   },
   "outputs": [
    {
     "data": {
      "image/png": "[encoded data removed]",
      "text/plain": [
       "<Figure size 504x720 with 1 Axes>"
      ]
     },
     "metadata": {},
     "output_type": "display_data"
    }
   ],
   "source": [
    "# region names\n",
    "x_labels = total_rates_df_by_region['Region name']\n",
    "xs = np.array(range(len(x_labels)))\n",
    "\n",
    "# mortality counts\n",
    "non_covid_rate = total_rates_df_by_region['All causes rate']\n",
    "covid_rate = total_rates_df_by_region['COVID-19 rate']\n",
    "\n",
    "# set bar width\n",
    "width = 0.4\n",
    "\n",
    "# create a figure and plot data\n",
    "plt.figure(figsize=(7,10))\n",
    "p2 = plt.barh(xs+0.2, non_covid_rate, width, color=noncovid_color, label='All Causes Mortality Rate', tick_label=x_labels)\n",
    "p1 = plt.barh(xs-0.2, covid_rate, width, color=covid_color, label='COVID-19 Mortality Rate')\n",
    "\n",
    "# label axes\n",
    "plt.xlabel('Age standardised mortality rate per 100,000 people per day since 01/01/2020', fontsize=16)\n",
    "plt.ylabel('Region', fontsize=16)\n",
    "plt.yticks(rotation=30)\n",
    "\n",
    "# add vertical grid lines\n",
    "plt.gca().xaxis.grid(True, linestyle='-', which='major', color='grey', alpha=.25)\n",
    "\n",
    "# show legend and plot\n",
    "plt.legend(fontsize=14, loc='lower right')\n",
    "plt.show()"
   ]
  },
  {
   "cell_type": "markdown",
   "metadata": {},
   "source": [
    "Note that as we plot the rates, we switch from a stacked bar chart (showing counts of COVID-19 and non COVID-19 mortalities), to two bar charts side by side (showing the COVID-19 mortality rate, and the all causes mortality rate). Even with this caveat in mind, when looking at the chart we see it tells a different story to the previous plot. For example, in the previous plot, the South East had the highest number of total deaths, but looking at the standardised rates in this plot we see that it is ranked second from the bottom. This shows that the raw mortality counts do not tell the whole story, and so we cannot rely solely on them to make meaningful comparisons between different Regions."
   ]
  },
  {
   "cell_type": "markdown",
   "metadata": {
    "ExecuteTime": {
     "end_time": "2020-06-04T16:13:03.545307Z",
     "start_time": "2020-06-04T16:13:03.543118Z"
    }
   },
   "source": [
    "# Study 2 - Mortality by Deprivation\n",
    "\n",
    "We can now study the relationship between COVID-19 mortality and deprivation. To do this we will make some plots showing the standardised mortality rate as a function of the mean IMD decile for each LAD in England. Recall that the rate has been normalised by the number of days in each time period, so that they are comparable.\n",
    "\n",
    "In the plots, you will see the $y$ axis labelled with \"Standardised Mortality Rate\". In fact, this rate is the **age standardised count of deaths observed per 100,000 people per day**."
   ]
  },
  {
   "cell_type": "code",
   "execution_count": 37,
   "metadata": {
    "ExecuteTime": {
     "end_time": "2020-09-16T10:44:30.069298Z",
     "start_time": "2020-09-16T10:44:30.066468Z"
    }
   },
   "outputs": [],
   "source": [
    "# define a function that we can use to calculate the correlation and slope of a linear fit\n",
    "def get_corr_and_slope(xs, ys):\n",
    "    \n",
    "    # calculate the correlation coefficient\n",
    "    corr = round(pearsonr(xs, ys)[0], 2)\n",
    "    \n",
    "    # calcualte the slope of a linear fit\n",
    "    slope = round(np.polyfit(xs, ys, 1)[0], 2)\n",
    "    \n",
    "    return corr, slope"
   ]
  },
  {
   "cell_type": "markdown",
   "metadata": {
    "ExecuteTime": {
     "end_time": "2020-07-03T14:34:54.613699Z",
     "start_time": "2020-07-03T14:34:54.611615Z"
    }
   },
   "source": [
    "## Comparing All Causes and COVID-19 Mortality Rates\n",
    "\n",
    "To get started, let's overlay the mortality rates for all causes of death and COVID-19 on the same plot."
   ]
  },
  {
   "cell_type": "code",
   "execution_count": 38,
   "metadata": {
    "ExecuteTime": {
     "end_time": "2020-09-16T13:52:01.217907Z",
     "start_time": "2020-09-16T13:52:00.573749Z"
    }
   },
   "outputs": [
    {
     "data": {
      "image/png": "[encoded data removed]",
      "text/plain": [
       "<Figure size 720x432 with 1 Axes>"
      ]
     },
     "metadata": {},
     "output_type": "display_data"
    }
   ],
   "source": [
    "# plot formatting\n",
    "po = {'s': 10, 'alpha':0.5}\n",
    "\n",
    "# select data\n",
    "IMD_decile = total_deaths_df['Mean IMD decile']\n",
    "all_causes_rate = total_deaths_df['All causes rate']\n",
    "covid_rate = total_deaths_df['COVID-19 rate']\n",
    "\n",
    "# calcualte correlations and slopes\n",
    "ac_stats = get_corr_and_slope(IMD_decile, all_causes_rate)\n",
    "c19_stats = get_corr_and_slope(IMD_decile, covid_rate)\n",
    "\n",
    "# make plots\n",
    "plt.figure(figsize=(10,6))\n",
    "sns.regplot(x=IMD_decile, y=all_causes_rate, label=f'All causes $r={ac_stats[0]}$', scatter_kws=po)\n",
    "sns.regplot(x=IMD_decile, y=covid_rate, color='red', label=f'COVID-19 $r={c19_stats[0]}$', scatter_kws=po)\n",
    "\n",
    "# format plot\n",
    "plt.ylabel('Standardised Mortality Rate', fontsize=14)\n",
    "plt.xlabel('Mean IMD Decile', fontsize=14)\n",
    "plt.legend(fontsize=14); plt.ylim((0, 3.5))\n",
    "plt.show()"
   ]
  },
  {
   "cell_type": "markdown",
   "metadata": {},
   "source": [
    "In the plot legends, $r$ is the correlation coefficient. If you are unfamiliar with the concept of correlation, or want a refresher, take a look [here](https://www.displayr.com/what-is-correlation/). \n",
    "\n",
    "Recall that the lower the mean IMD rank in each LAD, the more deprived the area is. There is a negative correlation between the standardised rate and the IMD decile, for both the all causes rate and the COVID-19 rate. The **negative correlation** tells us that in more deprived areas (those with a **lower mean IMD decile**), the **standardised mortality rate is higher**. \n",
    "\n",
    "Note however that the strength of the correlations are quite different. COVID-19 appears to discriminate less based on social deprivation than all causes of death combined.\n",
    "\n",
    "The link between social deprivation and mortality has been previously observed - see discussions [here](https://www.ons.gov.uk/peoplepopulationandcommunity/birthsdeathsandmarriages/deaths/articles/changingtrendsinmortalitybynationalindicesofdeprivationenglandandwales/2001to2018) and [here](https://www.health.org.uk/news-and-comment/charts-and-infographics/preventable-death-and-deprivation)"
   ]
  },
  {
   "cell_type": "markdown",
   "metadata": {},
   "source": [
    "## Time Periods\n",
    "\n",
    "We are now finally ready to investigate the relationship between mortality and deprivation in the different periods of lockdown. The three periods we defined are:\n",
    "- **Before lockdown**: January 1st to April 7th\n",
    "- **Duing lockdown**: April 7th to June 1st\n",
    "- **After lockdown**: June 1st to August 28th\n",
    "\n",
    "We will look at this relationship for all causes of death, and for COVID-19 deaths separately."
   ]
  },
  {
   "cell_type": "markdown",
   "metadata": {
    "ExecuteTime": {
     "end_time": "2020-09-02T16:03:37.804098Z",
     "start_time": "2020-09-02T16:03:37.801347Z"
    }
   },
   "source": [
    "### All Causes"
   ]
  },
  {
   "cell_type": "code",
   "execution_count": 39,
   "metadata": {
    "ExecuteTime": {
     "end_time": "2020-09-16T13:48:10.114030Z",
     "start_time": "2020-09-16T13:48:09.140563Z"
    }
   },
   "outputs": [
    {
     "data": {
      "image/png": "[encoded data removed]",
      "text/plain": [
       "<Figure size 1152x360 with 3 Axes>"
      ]
     },
     "metadata": {},
     "output_type": "display_data"
    }
   ],
   "source": [
    "ymax = 4.5\n",
    "plt.figure(figsize=(16,5))\n",
    "\n",
    "# calcualte correlations and slopes\n",
    "pre_stats = get_corr_and_slope(first_df['Mean IMD decile'], first_df['All causes rate'])\n",
    "dur_stats = get_corr_and_slope(second_df['Mean IMD decile'], second_df['All causes rate'])\n",
    "pos_stats = get_corr_and_slope(third_df['Mean IMD decile'], third_df['All causes rate'])\n",
    "\n",
    "plt.subplot(131)\n",
    "plt.title('Before Lockdown')\n",
    "sns.regplot(x='Mean IMD decile', y='All causes rate', data=first_df, label=f\"$r={pre_stats[0]}$\", scatter_kws=po)\n",
    "plt.xlabel('Mean IMD Decile', fontsize=12)\n",
    "plt.ylabel('All Causes Standardised Mortality Rate', fontsize=12)\n",
    "plt.legend(); plt.ylim((0, ymax))\n",
    "\n",
    "plt.subplot(132)\n",
    "plt.title('During Lockdown')\n",
    "sns.regplot(x='Mean IMD decile', y='All causes rate', data=second_df, label=f\"$r={dur_stats[0]}$\", scatter_kws=po)\n",
    "plt.xlabel('Mean IMD Decile', fontsize=12)\n",
    "plt.ylabel('All Causes Standardised Mortality Rate', fontsize=12)\n",
    "plt.legend(); plt.ylim((0, ymax))\n",
    "\n",
    "plt.subplot(133)\n",
    "plt.title('After Lockdown')\n",
    "sns.regplot(x='Mean IMD decile', y='All causes rate', data=third_df, label=f\"$r={pos_stats[0]}$\", scatter_kws=po)\n",
    "plt.xlabel('Mean IMD Decile', fontsize=12)\n",
    "plt.ylabel('All Causes Standardised Mortality Rate', fontsize=12)\n",
    "plt.legend(); plt.ylim((0, ymax))\n",
    "\n",
    "plt.show()"
   ]
  },
  {
   "cell_type": "markdown",
   "metadata": {},
   "source": [
    "After splitting the data into the three time periods, we that the the negative correlation persists for each period, but has different strengths. The potential reasons for the differences in strength are numerous. The middle plot refers to the peak period in the number of COVID-19 deaths. This could be one explanation for the interesting effect that we observe in the middle plot: the correlation is lower (the variance is lager), but the slope seems to be steeper."
   ]
  },
  {
   "cell_type": "markdown",
   "metadata": {},
   "source": [
    "To get a better sense of the number of deaths as a function of time take a look at [this](https://www.ons.gov.uk/peoplepopulationandcommunity/birthsdeathsandmarriages/deaths/bulletins/deathsregisteredweeklyinenglandandwalesprovisional/weekending4september2020) ONS study."
   ]
  },
  {
   "cell_type": "markdown",
   "metadata": {},
   "source": [
    "### COVID-19\n",
    "\n",
    "Next we'll make the same set of three plots, but look specifically at deaths involving COVID-19."
   ]
  },
  {
   "cell_type": "code",
   "execution_count": 40,
   "metadata": {
    "ExecuteTime": {
     "end_time": "2020-09-16T13:55:39.074562Z",
     "start_time": "2020-09-16T13:55:38.123391Z"
    }
   },
   "outputs": [
    {
     "data": {
      "image/png": "[encoded data removed]",
      "text/plain": [
       "<Figure size 1152x360 with 3 Axes>"
      ]
     },
     "metadata": {},
     "output_type": "display_data"
    }
   ],
   "source": [
    "ymax = 2.5\n",
    "plt.figure(figsize=(16,5))\n",
    "\n",
    "# calcualte correlations and slopes\n",
    "pre_stats = get_corr_and_slope(first_df['Mean IMD decile'], first_df['COVID-19 rate'])\n",
    "dur_stats = get_corr_and_slope(second_df['Mean IMD decile'], second_df['COVID-19 rate'])\n",
    "pos_stats = get_corr_and_slope(third_df['Mean IMD decile'], third_df['COVID-19 rate'])\n",
    "\n",
    "plt.subplot(131)\n",
    "plt.title('Before Lockdown')\n",
    "sns.regplot(x='Mean IMD decile', y='COVID-19 rate', data=first_df, label=f\"\\t$r={pre_stats[0]}$  $m={pre_stats[1]}$\", scatter_kws=po)\n",
    "plt.xlabel('Mean IMD Decile', fontsize=12)\n",
    "plt.ylabel('COVID-19 Standardised Mortality Rate', fontsize=12)\n",
    "plt.legend(); plt.ylim((0, 1))\n",
    "\n",
    "plt.subplot(132)\n",
    "plt.title('During Lockdown')\n",
    "sns.regplot(x='Mean IMD decile', y='COVID-19 rate', data=second_df, label=f\"\\t$r={dur_stats[0]}$  $m={dur_stats[1]}$\", scatter_kws=po)\n",
    "plt.xlabel('Mean IMD Decile', fontsize=12)\n",
    "plt.ylabel('COVID-19 Standardised Mortality Rate', fontsize=12)\n",
    "plt.legend(); plt.ylim((0, ymax))\n",
    "\n",
    "plt.subplot(133)\n",
    "plt.title('After Lockdown')\n",
    "sns.regplot(x='Mean IMD decile', y='COVID-19 rate', data=third_df, label=f\"\\t$r={pos_stats[0]}$  $m={pos_stats[1]}$\", scatter_kws=po)\n",
    "plt.xlabel('Mean IMD Decile', fontsize=12)\n",
    "plt.ylabel('COVID-19 Standardised Mortality Rate', fontsize=12)\n",
    "plt.legend(); plt.ylim((0, 1))\n",
    "\n",
    "plt.show()"
   ]
  },
  {
   "cell_type": "markdown",
   "metadata": {},
   "source": [
    "> EMOJI WARNING The \"During Lockdown\" middle plot contains the peak of COVID-19 mortalities in the UK. The standardised rate is therefore much higher in this plot, and the y axis limit have been increased to reflect this.\n",
    "\n",
    "Looking only at COVID-19 mortalities, we observe that during lockdown and the peak of the pandemic, the strength of the correlation increases. Again, there are many things that could be the cause of this. Our hypothesis is that, during lockdown, those in more socially deprived areas were more likely to be in circumstances that increased their exposure to COVID-19 (for example key workers who are unable to work remotely - see [here](https://www.ons.gov.uk/employmentandlabourmarket/peopleinwork/employmentandemployeetypes/articles/whichjobscanbedonefromhome/2020-07-21) and [here](https://yougov.co.uk/topics/economy/articles-reports/2020/05/13/most-middle-class-workers-are-working-home-full-ti)).\n",
    "\n",
    "\n",
    "\n"
   ]
  },
  {
   "cell_type": "markdown",
   "metadata": {},
   "source": [
    "# Conclusions\n",
    "\n",
    "We started writing this story in order to investigate whether Covid19 deaths were related to social deprivation. We've also learnt a lot of other things along the way.\n",
    "\n",
    "First, there is a very strong relationship between deprivation and general mortality. This means that deprived areas have a higher rate of mortality from all causes than less deprived areas. Life is just more difficult if you live in deprivation.\n",
    "\n",
    "This effect is still observed when looking at Covid19 specific morality rates, althought is less strong than the trend from all causes. Covid19 appears to be less discriminatory accross the different parts of society compared to other causes of death.\n",
    "\n",
    "\n",
    "We suspected at the beginning that the the state of lockdown may have different affects on different groups of people. We thus wanted to know if this relationship between Covid19 and death rates changed during the different stages of lockdown. Our analysis shows that the relationship is stronger during the main lockdown period.\n",
    "\n",
    "There are many factors that could be infuencing this observation. We believe that the fact that people from working clases backgrounds are less likely to be able to [work from home](https://yougov.co.uk/topics/economy/articles-reports/2020/05/13/most-middle-class-workers-are-working-home-full-ti) made them more prone to contracting the virus during lockdown and take it home with them. This would explain their higher rates of mortality. \n",
    "\n",
    "At the moment of writing we are entering a [second wave](https://www.bbc.co.uk/news/uk-54212654). We hope that we will be able to learn from the challenges  that were faced earlier this year, and that more consideration and support is offered to people living in the most deprived areas of the country.\n",
    "\n",
    "\n",
    "Thank you for taking the time to read this first Turing Data Story, we hope you have found it both interesting and informative. We encourage you to expand on the ideas presented in this story and as well as explore your questions on this topic. 🙂\n",
    "\n",
    "We're now taking in external submissions for new stories 📗 so if you are interested in contributing, please [get in touch!](https://github.com/alan-turing-institute/TuringDataStories/blob/master/CONTRIBUTING.md)"
   ]
  },
  {
   "cell_type": "code",
   "execution_count": null,
   "metadata": {},
   "outputs": [],
   "source": []
  }
 ],
 "metadata": {
  "kernelspec": {
   "display_name": "Python 3",
   "language": "python",
   "name": "python3"
  },
  "language_info": {
   "codemirror_mode": {
    "name": "ipython",
    "version": 3
   },
   "file_extension": ".py",
   "mimetype": "text/x-python",
   "name": "python",
   "nbconvert_exporter": "python",
   "pygments_lexer": "ipython3",
   "version": "3.7.7"
  },
  "latex_envs": {
   "LaTeX_envs_menu_present": true,
   "autoclose": false,
   "autocomplete": true,
   "bibliofile": "biblio.bib",
   "cite_by": "apalike",
   "current_citInitial": 1,
   "eqLabelWithNumbers": true,
   "eqNumInitial": 1,
   "hotkeys": {
    "equation": "Ctrl-E",
    "itemize": "Ctrl-I"
   },
   "labels_anchors": false,
   "latex_user_defs": false,
   "report_style_numbering": false,
   "user_envs_cfg": false
  },
  "toc": {
   "base_numbering": 1,
   "nav_menu": {},
   "number_sections": true,
   "sideBar": true,
   "skip_h1_title": false,
   "title_cell": "Table of Contents",
   "title_sidebar": "Contents",
   "toc_cell": false,
   "toc_position": {
    "height": "calc(100% - 180px)",
    "left": "10px",
    "top": "150px",
    "width": "199.578px"
   },
   "toc_section_display": true,
   "toc_window_display": true
  }
 },
 "nbformat": 4,
 "nbformat_minor": 4
}
