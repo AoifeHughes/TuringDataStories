{
 "cells": [
  {
   "cell_type": "markdown",
   "metadata": {},
   "source": [
    "# Introduction - Story 1"
   ]
  },
  {
   "cell_type": "markdown",
   "metadata": {},
   "source": [
    "## Intro\n",
    "\n",
    "Contents.\n",
    "\n",
    "Intro Text.\n",
    "\n",
    "Based on https://www.ons.gov.uk/peoplepopulationandcommunity/birthsdeathsandmarriages/deaths/bulletins/deathsinvolvingcovid19bylocalareasanddeprivation/latest\n",
    "\n",
    "### Data Sources\n",
    "\n",
    "ONS datasets:\n",
    "\n",
    "- [Mortality count time series](https://www.ons.gov.uk/peoplepopulationandcommunity/healthandsocialcare/causesofdeath/datasets/deathregistrationsandoccurrencesbylocalauthorityandhealthboard)\n",
    "- [IMD Rankings (England only)](https://www.gov.uk/government/statistics/english-indices-of-deprivation-2019)\n",
    "- [Populations](https://www.ons.gov.uk/file?uri=%2fpeoplepopulationandcommunity%2fpopulationandmigration%2fpopulationestimates%2fdatasets%2fpopulationestimatesforukenglandandwalesscotlandandnorthernireland%2fmid20182019laboundaries/ukmidyearestimates20182019ladcodes.xls)\n",
    "- [Local Authority District Code Region Lookup Table](https://opendata.arcgis.com/datasets/3ba3daf9278f47daba0f561889c3521a_0.csv)\n",
    "- [ONS Mortality and Depravation Data](https://www.ons.gov.uk/peoplepopulationandcommunity/birthsdeathsandmarriages/deaths/datasets/deathsinvolvingcovid19bylocalareaanddeprivation)\n",
    "\n",
    "In case any of the data sources become unavailable in the future, a download mirror is availible [here](https://drive.google.com/drive/folders/1NXp7DtBeCbTIv49_ngdgvQpQXaaB3f8F?usp=sharing)."
   ]
  },
  {
   "cell_type": "markdown",
   "metadata": {},
   "source": [
    "# Setup & Data Collation"
   ]
  },
  {
   "cell_type": "code",
   "execution_count": 1,
   "metadata": {
    "ExecuteTime": {
     "end_time": "2020-06-17T15:00:21.134196Z",
     "start_time": "2020-06-17T15:00:20.057068Z"
    }
   },
   "outputs": [],
   "source": [
    "from datetime import datetime\n",
    "import os\n",
    "import requests\n",
    "\n",
    "import zipfile\n",
    "\n",
    "import numpy as np\n",
    "import pandas as pd\n",
    "import geopandas as gpd\n",
    "\n",
    "import matplotlib.pyplot as plt\n",
    "import seaborn as sns\n",
    "sns.set(style='white')\n",
    "sns.set_style('ticks')"
   ]
  },
  {
   "cell_type": "markdown",
   "metadata": {},
   "source": [
    "Set some data locations and make directories if needed."
   ]
  },
  {
   "cell_type": "code",
   "execution_count": 2,
   "metadata": {
    "ExecuteTime": {
     "end_time": "2020-06-17T15:00:21.139154Z",
     "start_time": "2020-06-17T15:00:21.136049Z"
    }
   },
   "outputs": [],
   "source": [
    "# downloaded data goes here\n",
    "downloaded_data_dir = 'data/downloaded'\n",
    "\n",
    "# processed data goes here\n",
    "derived_data_dirname = 'data/derived'\n",
    "\n",
    "# create the directory if it does not already exist\n",
    "os.makedirs(downloaded_data_dir, exist_ok=True)\n",
    "os.makedirs(derived_data_dirname, exist_ok=True)"
   ]
  },
  {
   "cell_type": "code",
   "execution_count": 3,
   "metadata": {
    "ExecuteTime": {
     "end_time": "2020-06-17T15:00:21.144956Z",
     "start_time": "2020-06-17T15:00:21.141523Z"
    }
   },
   "outputs": [],
   "source": [
    "def download_file(url, filename):\n",
    "    \n",
    "    # if the file already exists, return without redownloading\n",
    "    if os.path.exists(filename):\n",
    "        return\n",
    "        \n",
    "    # create the directory if it does not already exist\n",
    "    os.makedirs(os.path.dirname(filename), exist_ok=True)\n",
    "\n",
    "    # make the HTTP request\n",
    "    r = requests.get(url, allow_redirects=True)\n",
    "\n",
    "    # save file\n",
    "    _ = open(filename, 'wb').write(r.content)\n"
   ]
  },
  {
   "cell_type": "markdown",
   "metadata": {},
   "source": [
    "## Index of Multiple Deprevation"
   ]
  },
  {
   "cell_type": "markdown",
   "metadata": {},
   "source": [
    "### Download and Format"
   ]
  },
  {
   "cell_type": "code",
   "execution_count": 4,
   "metadata": {
    "ExecuteTime": {
     "end_time": "2020-06-17T15:00:23.805131Z",
     "start_time": "2020-06-17T15:00:21.147278Z"
    }
   },
   "outputs": [],
   "source": [
    "# specify URL\n",
    "url = 'https://assets.publishing.service.gov.uk/government/uploads/system/uploads/attachment_data/file/833970/File_1_-_IMD2019_Index_of_Multiple_Deprivation.xlsx'\n",
    "\n",
    "# specify filename\n",
    "filename = 'ONS_2019_Index_of_Multiple_Deprivation.xlsx'\n",
    "\n",
    "# construct file path\n",
    "filepath = os.path.join(downloaded_data_dir, filename)\n",
    "\n",
    "# download and save file at the specified URL\n",
    "download_file(url, filepath)\n",
    "\n",
    "# read the relevant sheet\n",
    "imd_df = pd.read_excel(filepath, sheet_name='IMD2019')"
   ]
  },
  {
   "cell_type": "markdown",
   "metadata": {},
   "source": [
    "If we sort by deprivation rank, we can get an idea for the most / least deprived LSOAs."
   ]
  },
  {
   "cell_type": "code",
   "execution_count": 5,
   "metadata": {
    "ExecuteTime": {
     "end_time": "2020-06-17T15:00:23.825219Z",
     "start_time": "2020-06-17T15:00:23.806577Z"
    }
   },
   "outputs": [
    {
     "data": {
      "text/html": [
       "<div>\n",
       "<style scoped>\n",
       "    .dataframe tbody tr th:only-of-type {\n",
       "        vertical-align: middle;\n",
       "    }\n",
       "\n",
       "    .dataframe tbody tr th {\n",
       "        vertical-align: top;\n",
       "    }\n",
       "\n",
       "    .dataframe thead th {\n",
       "        text-align: right;\n",
       "    }\n",
       "</style>\n",
       "<table border=\"1\" class=\"dataframe\">\n",
       "  <thead>\n",
       "    <tr style=\"text-align: right;\">\n",
       "      <th></th>\n",
       "      <th>LSOA code (2011)</th>\n",
       "      <th>LSOA name (2011)</th>\n",
       "      <th>Local Authority District code (2019)</th>\n",
       "      <th>Local Authority District name (2019)</th>\n",
       "      <th>Index of Multiple Deprivation (IMD) Rank</th>\n",
       "      <th>Index of Multiple Deprivation (IMD) Decile</th>\n",
       "    </tr>\n",
       "  </thead>\n",
       "  <tbody>\n",
       "    <tr>\n",
       "      <th>21400</th>\n",
       "      <td>E01021988</td>\n",
       "      <td>Tendring 018A</td>\n",
       "      <td>E07000076</td>\n",
       "      <td>Tendring</td>\n",
       "      <td>1</td>\n",
       "      <td>1</td>\n",
       "    </tr>\n",
       "    <tr>\n",
       "      <th>12280</th>\n",
       "      <td>E01012673</td>\n",
       "      <td>Blackpool 010A</td>\n",
       "      <td>E06000009</td>\n",
       "      <td>Blackpool</td>\n",
       "      <td>2</td>\n",
       "      <td>1</td>\n",
       "    </tr>\n",
       "    <tr>\n",
       "      <th>12288</th>\n",
       "      <td>E01012681</td>\n",
       "      <td>Blackpool 006A</td>\n",
       "      <td>E06000009</td>\n",
       "      <td>Blackpool</td>\n",
       "      <td>3</td>\n",
       "      <td>1</td>\n",
       "    </tr>\n",
       "    <tr>\n",
       "      <th>12279</th>\n",
       "      <td>E01012672</td>\n",
       "      <td>Blackpool 013B</td>\n",
       "      <td>E06000009</td>\n",
       "      <td>Blackpool</td>\n",
       "      <td>4</td>\n",
       "      <td>1</td>\n",
       "    </tr>\n",
       "    <tr>\n",
       "      <th>12278</th>\n",
       "      <td>E01012671</td>\n",
       "      <td>Blackpool 013A</td>\n",
       "      <td>E06000009</td>\n",
       "      <td>Blackpool</td>\n",
       "      <td>5</td>\n",
       "      <td>1</td>\n",
       "    </tr>\n",
       "    <tr>\n",
       "      <th>...</th>\n",
       "      <td>...</td>\n",
       "      <td>...</td>\n",
       "      <td>...</td>\n",
       "      <td>...</td>\n",
       "      <td>...</td>\n",
       "      <td>...</td>\n",
       "    </tr>\n",
       "    <tr>\n",
       "      <th>17759</th>\n",
       "      <td>E01018293</td>\n",
       "      <td>South Cambridgeshire 012B</td>\n",
       "      <td>E07000012</td>\n",
       "      <td>South Cambridgeshire</td>\n",
       "      <td>32840</td>\n",
       "      <td>10</td>\n",
       "    </tr>\n",
       "    <tr>\n",
       "      <th>15715</th>\n",
       "      <td>E01016187</td>\n",
       "      <td>Bracknell Forest 002D</td>\n",
       "      <td>E06000036</td>\n",
       "      <td>Bracknell Forest</td>\n",
       "      <td>32841</td>\n",
       "      <td>10</td>\n",
       "    </tr>\n",
       "    <tr>\n",
       "      <th>30976</th>\n",
       "      <td>E01031773</td>\n",
       "      <td>Mid Sussex 008D</td>\n",
       "      <td>E07000228</td>\n",
       "      <td>Mid Sussex</td>\n",
       "      <td>32842</td>\n",
       "      <td>10</td>\n",
       "    </tr>\n",
       "    <tr>\n",
       "      <th>26986</th>\n",
       "      <td>E01027699</td>\n",
       "      <td>Harrogate 021A</td>\n",
       "      <td>E07000165</td>\n",
       "      <td>Harrogate</td>\n",
       "      <td>32843</td>\n",
       "      <td>10</td>\n",
       "    </tr>\n",
       "    <tr>\n",
       "      <th>17268</th>\n",
       "      <td>E01017787</td>\n",
       "      <td>Chiltern 005E</td>\n",
       "      <td>E07000005</td>\n",
       "      <td>Chiltern</td>\n",
       "      <td>32844</td>\n",
       "      <td>10</td>\n",
       "    </tr>\n",
       "  </tbody>\n",
       "</table>\n",
       "<p>32844 rows × 6 columns</p>\n",
       "</div>"
      ],
      "text/plain": [
       "      LSOA code (2011)           LSOA name (2011)  \\\n",
       "21400        E01021988              Tendring 018A   \n",
       "12280        E01012673             Blackpool 010A   \n",
       "12288        E01012681             Blackpool 006A   \n",
       "12279        E01012672             Blackpool 013B   \n",
       "12278        E01012671             Blackpool 013A   \n",
       "...                ...                        ...   \n",
       "17759        E01018293  South Cambridgeshire 012B   \n",
       "15715        E01016187      Bracknell Forest 002D   \n",
       "30976        E01031773            Mid Sussex 008D   \n",
       "26986        E01027699             Harrogate 021A   \n",
       "17268        E01017787              Chiltern 005E   \n",
       "\n",
       "      Local Authority District code (2019)  \\\n",
       "21400                            E07000076   \n",
       "12280                            E06000009   \n",
       "12288                            E06000009   \n",
       "12279                            E06000009   \n",
       "12278                            E06000009   \n",
       "...                                    ...   \n",
       "17759                            E07000012   \n",
       "15715                            E06000036   \n",
       "30976                            E07000228   \n",
       "26986                            E07000165   \n",
       "17268                            E07000005   \n",
       "\n",
       "      Local Authority District name (2019)  \\\n",
       "21400                             Tendring   \n",
       "12280                            Blackpool   \n",
       "12288                            Blackpool   \n",
       "12279                            Blackpool   \n",
       "12278                            Blackpool   \n",
       "...                                    ...   \n",
       "17759                 South Cambridgeshire   \n",
       "15715                     Bracknell Forest   \n",
       "30976                           Mid Sussex   \n",
       "26986                            Harrogate   \n",
       "17268                             Chiltern   \n",
       "\n",
       "       Index of Multiple Deprivation (IMD) Rank  \\\n",
       "21400                                         1   \n",
       "12280                                         2   \n",
       "12288                                         3   \n",
       "12279                                         4   \n",
       "12278                                         5   \n",
       "...                                         ...   \n",
       "17759                                     32840   \n",
       "15715                                     32841   \n",
       "30976                                     32842   \n",
       "26986                                     32843   \n",
       "17268                                     32844   \n",
       "\n",
       "       Index of Multiple Deprivation (IMD) Decile  \n",
       "21400                                           1  \n",
       "12280                                           1  \n",
       "12288                                           1  \n",
       "12279                                           1  \n",
       "12278                                           1  \n",
       "...                                           ...  \n",
       "17759                                          10  \n",
       "15715                                          10  \n",
       "30976                                          10  \n",
       "26986                                          10  \n",
       "17268                                          10  \n",
       "\n",
       "[32844 rows x 6 columns]"
      ]
     },
     "execution_count": 5,
     "metadata": {},
     "output_type": "execute_result"
    }
   ],
   "source": [
    "imd_df.sort_values(by='Index of Multiple Deprivation (IMD) Rank')"
   ]
  },
  {
   "cell_type": "markdown",
   "metadata": {},
   "source": [
    "IMD table data has higher spatial resolution that the mortality data. We need to comibne the IMD rank to create a Local Authority District level rank. Let's construct a simple DataFrame that maps LAD code to mean IMD rank"
   ]
  },
  {
   "cell_type": "markdown",
   "metadata": {},
   "source": [
    "### Derive Mean IMD Rank"
   ]
  },
  {
   "cell_type": "code",
   "execution_count": 6,
   "metadata": {
    "ExecuteTime": {
     "end_time": "2020-06-17T15:00:23.831303Z",
     "start_time": "2020-06-17T15:00:23.826943Z"
    }
   },
   "outputs": [],
   "source": [
    "def get_mean_IMD_rank(LAD_code):\n",
    "    \"\"\"\n",
    "    TODO: map mean rank to [0,1] to make the number easier to understand.\n",
    "    \"\"\"\n",
    "    # select relevant LSOAs\n",
    "    LSOAs = imd_df[imd_df['Local Authority District code (2019)'] == LAD_code]\n",
    "    \n",
    "    # calculate mean IMD rank\n",
    "    mean_IMD_rank = round(LSOAs['Index of Multiple Deprivation (IMD) Rank'].mean())\n",
    " \n",
    "    return mean_IMD_rank\n",
    "\n",
    "def get_mean_IMD_decile(LAD_code):\n",
    "    \"\"\"\n",
    "    TODO: map mean rank to [0,1] to make the number easier to understand.\n",
    "    \"\"\"\n",
    "    # select relevant LSOAs\n",
    "    LSOAs = imd_df[imd_df['Local Authority District code (2019)'] == LAD_code]\n",
    "    \n",
    "    # calculate mean IMD rank\n",
    "    mean_IMD_decile = round(LSOAs['Index of Multiple Deprivation (IMD) Decile'].mean(),1)\n",
    "    std_IMD_decile = round(LSOAs['Index of Multiple Deprivation (IMD) Decile'].std(),1)\n",
    "    \n",
    "    return mean_IMD_decile, std_IMD_decile"
   ]
  },
  {
   "cell_type": "code",
   "execution_count": 7,
   "metadata": {
    "ExecuteTime": {
     "end_time": "2020-06-17T15:00:25.457055Z",
     "start_time": "2020-06-17T15:00:23.833080Z"
    }
   },
   "outputs": [],
   "source": [
    "LAD_codes = imd_df['Local Authority District code (2019)'].unique()\n",
    "mean_IMD_ranks = np.vectorize(get_mean_IMD_rank)(LAD_codes)\n",
    "mean_IMD_decile, std_IMD_decile  = np.vectorize(get_mean_IMD_decile)(LAD_codes)\n",
    "\n",
    "\n",
    "\n",
    "LAD_df = pd.DataFrame({'LAD Code': LAD_codes, \n",
    "                       'LAD Name': imd_df['Local Authority District name (2019)'].unique(),\n",
    "                       'Mean IMD Rank': mean_IMD_ranks,\n",
    "                       'Mean IMD decile': mean_IMD_decile,\n",
    "                       'Std IMD decile': std_IMD_decile})\n",
    "\n",
    "LAD_df = LAD_df.set_index('LAD Code')"
   ]
  },
  {
   "cell_type": "code",
   "execution_count": 8,
   "metadata": {
    "ExecuteTime": {
     "end_time": "2020-06-17T15:00:25.642157Z",
     "start_time": "2020-06-17T15:00:25.461078Z"
    }
   },
   "outputs": [
    {
     "data": {
      "image/png": "[encoded data removed]",
      "text/plain": [
       "<Figure size 432x288 with 1 Axes>"
      ]
     },
     "metadata": {},
     "output_type": "display_data"
    }
   ],
   "source": [
    "LAD_df['Mean IMD decile'].hist()\n",
    "plt.show()"
   ]
  },
  {
   "cell_type": "markdown",
   "metadata": {},
   "source": [
    "As expected, we lose some information when aggregating IMD ranks in this way. The central part of the distribution is relatively flat, and we cannot differentiate well between LADs in this region."
   ]
  },
  {
   "cell_type": "markdown",
   "metadata": {},
   "source": [
    "### Derive Age Standardisation Weight\n",
    "\n",
    "In this section, we use [data](https://www.ons.gov.uk/peoplepopulationandcommunity/birthsdeathsandmarriages/deaths/datasets/deathsinvolvingcovid19bylocalareaanddeprivation) from the ONS study on COVID-19 and deprivation to derive a factor which will allow us to convert our mortality counts into an age and population standardise mortality rate. This mortality rate is a European standard (2013 ESP). We cannot calcualte it directly as ONS have not released the required data, so this reverse engineering is the best we can do.\n",
    "\n",
    "First, let's download and read the data."
   ]
  },
  {
   "cell_type": "code",
   "execution_count": 9,
   "metadata": {
    "ExecuteTime": {
     "end_time": "2020-06-17T15:00:26.383410Z",
     "start_time": "2020-06-17T15:00:25.645814Z"
    }
   },
   "outputs": [],
   "source": [
    "# download the ONS data from the deprivation study\n",
    "url = 'https://www.ons.gov.uk/file?uri=%2fpeoplepopulationandcommunity%2fbirthsdeathsandmarriages%2fdeaths%2fdatasets%2fdeathsinvolvingcovid19bylocalareaanddeprivation%2f1march2020to17april2020/referencetablesdraft.xlsx'\n",
    "\n",
    "# specify filename\n",
    "filename = 'ONS_age_standarisation_April2020.xlsx'\n",
    "\n",
    "# construct file path\n",
    "filepath = os.path.join(downloaded_data_dir, filename)\n",
    "\n",
    "# download and save file at the specified URL\n",
    "download_file(url, filepath)\n",
    "\n",
    "# read the relevant sheet\n",
    "age_rate_df = pd.read_excel(filepath, sheet_name='Table 2', header=3)"
   ]
  },
  {
   "cell_type": "markdown",
   "metadata": {},
   "source": [
    "Do some minor selection and reformatting of the DataFrame."
   ]
  },
  {
   "cell_type": "code",
   "execution_count": 10,
   "metadata": {
    "ExecuteTime": {
     "end_time": "2020-06-17T15:00:26.414209Z",
     "start_time": "2020-06-17T15:00:26.385312Z"
    }
   },
   "outputs": [
    {
     "data": {
      "text/html": [
       "<div>\n",
       "<style scoped>\n",
       "    .dataframe tbody tr th:only-of-type {\n",
       "        vertical-align: middle;\n",
       "    }\n",
       "\n",
       "    .dataframe tbody tr th {\n",
       "        vertical-align: top;\n",
       "    }\n",
       "\n",
       "    .dataframe thead th {\n",
       "        text-align: right;\n",
       "    }\n",
       "</style>\n",
       "<table border=\"1\" class=\"dataframe\">\n",
       "  <thead>\n",
       "    <tr style=\"text-align: right;\">\n",
       "      <th></th>\n",
       "      <th>Sex</th>\n",
       "      <th>Geography type</th>\n",
       "      <th>LAD Code</th>\n",
       "      <th>Area name</th>\n",
       "      <th>All causes Deaths</th>\n",
       "      <th>All causes Rate</th>\n",
       "      <th></th>\n",
       "      <th>All causes Lower CI</th>\n",
       "      <th>All causes Upper CI</th>\n",
       "      <th></th>\n",
       "      <th>COVID-19 Deaths</th>\n",
       "      <th>COVID-19 Rate</th>\n",
       "      <th></th>\n",
       "      <th>COVID-19 Lower CI</th>\n",
       "      <th>COVID-19 Upper CI</th>\n",
       "    </tr>\n",
       "  </thead>\n",
       "  <tbody>\n",
       "    <tr>\n",
       "      <th>1</th>\n",
       "      <td>Persons</td>\n",
       "      <td>Unitary Authority</td>\n",
       "      <td>E06000001</td>\n",
       "      <td>Hartlepool</td>\n",
       "      <td>154</td>\n",
       "      <td>170.7</td>\n",
       "      <td>NaN</td>\n",
       "      <td>143.5</td>\n",
       "      <td>197.8</td>\n",
       "      <td>NaN</td>\n",
       "      <td>29</td>\n",
       "      <td>31</td>\n",
       "      <td>NaN</td>\n",
       "      <td>20.7</td>\n",
       "      <td>44.5</td>\n",
       "    </tr>\n",
       "    <tr>\n",
       "      <th>2</th>\n",
       "      <td>Persons</td>\n",
       "      <td>Unitary Authority</td>\n",
       "      <td>E06000002</td>\n",
       "      <td>Middlesbrough</td>\n",
       "      <td>289</td>\n",
       "      <td>256</td>\n",
       "      <td>NaN</td>\n",
       "      <td>226.1</td>\n",
       "      <td>286</td>\n",
       "      <td>NaN</td>\n",
       "      <td>89</td>\n",
       "      <td>79</td>\n",
       "      <td>NaN</td>\n",
       "      <td>63.2</td>\n",
       "      <td>97.6</td>\n",
       "    </tr>\n",
       "    <tr>\n",
       "      <th>3</th>\n",
       "      <td>Persons</td>\n",
       "      <td>Unitary Authority</td>\n",
       "      <td>E06000003</td>\n",
       "      <td>Redcar and Cleveland</td>\n",
       "      <td>215</td>\n",
       "      <td>142.6</td>\n",
       "      <td>NaN</td>\n",
       "      <td>123.5</td>\n",
       "      <td>161.8</td>\n",
       "      <td>NaN</td>\n",
       "      <td>40</td>\n",
       "      <td>26.5</td>\n",
       "      <td>NaN</td>\n",
       "      <td>18.9</td>\n",
       "      <td>36.2</td>\n",
       "    </tr>\n",
       "    <tr>\n",
       "      <th>4</th>\n",
       "      <td>Persons</td>\n",
       "      <td>Unitary Authority</td>\n",
       "      <td>E06000004</td>\n",
       "      <td>Stockton-on-Tees</td>\n",
       "      <td>297</td>\n",
       "      <td>167</td>\n",
       "      <td>NaN</td>\n",
       "      <td>147.8</td>\n",
       "      <td>186.1</td>\n",
       "      <td>NaN</td>\n",
       "      <td>38</td>\n",
       "      <td>21</td>\n",
       "      <td>NaN</td>\n",
       "      <td>14.8</td>\n",
       "      <td>28.9</td>\n",
       "    </tr>\n",
       "    <tr>\n",
       "      <th>5</th>\n",
       "      <td>Persons</td>\n",
       "      <td>Unitary Authority</td>\n",
       "      <td>E06000005</td>\n",
       "      <td>Darlington</td>\n",
       "      <td>169</td>\n",
       "      <td>151.5</td>\n",
       "      <td>NaN</td>\n",
       "      <td>128.6</td>\n",
       "      <td>174.4</td>\n",
       "      <td>NaN</td>\n",
       "      <td>26</td>\n",
       "      <td>22.9</td>\n",
       "      <td>NaN</td>\n",
       "      <td>15</td>\n",
       "      <td>33.7</td>\n",
       "    </tr>\n",
       "  </tbody>\n",
       "</table>\n",
       "</div>"
      ],
      "text/plain": [
       "       Sex     Geography type   LAD Code             Area name  \\\n",
       "1  Persons  Unitary Authority  E06000001            Hartlepool   \n",
       "2  Persons  Unitary Authority  E06000002         Middlesbrough   \n",
       "3  Persons  Unitary Authority  E06000003  Redcar and Cleveland   \n",
       "4  Persons  Unitary Authority  E06000004      Stockton-on-Tees   \n",
       "5  Persons  Unitary Authority  E06000005            Darlington   \n",
       "\n",
       "  All causes Deaths All causes Rate      All causes Lower CI  \\\n",
       "1               154           170.7  NaN               143.5   \n",
       "2               289             256  NaN               226.1   \n",
       "3               215           142.6  NaN               123.5   \n",
       "4               297             167  NaN               147.8   \n",
       "5               169           151.5  NaN               128.6   \n",
       "\n",
       "  All causes Upper CI     COVID-19 Deaths COVID-19 Rate       \\\n",
       "1               197.8 NaN              29            31  NaN   \n",
       "2                 286 NaN              89            79  NaN   \n",
       "3               161.8 NaN              40          26.5  NaN   \n",
       "4               186.1 NaN              38            21  NaN   \n",
       "5               174.4 NaN              26          22.9  NaN   \n",
       "\n",
       "  COVID-19 Lower CI COVID-19 Upper CI  \n",
       "1              20.7              44.5  \n",
       "2              63.2              97.6  \n",
       "3              18.9              36.2  \n",
       "4              14.8              28.9  \n",
       "5                15              33.7  "
      ]
     },
     "execution_count": 10,
     "metadata": {},
     "output_type": "execute_result"
    }
   ],
   "source": [
    "# data if given for many categories and regios, lets choose the inclusive gender, and the unitary authority levels\n",
    "age_rate_persons_df = age_rate_df[age_rate_df['Sex']=='Persons'] \n",
    "\n",
    "# rename columns\n",
    "age_rate_persons_df.columns = ['Sex', 'Geography type', 'LAD Code', 'Area name', 'All causes Deaths',\n",
    "       'All causes Rate','' ,'All causes Lower CI', 'All causes Upper CI','' ,'COVID-19 Deaths',\n",
    "       'COVID-19 Rate', '','COVID-19 Lower CI', 'COVID-19 Upper CI' ]\n",
    "\n",
    "# remove anomalous row (Isles of Scilly) without numerical data\n",
    "age_rate_persons_df = age_rate_persons_df[age_rate_persons_df['All causes Rate'] != ':']\n",
    "age_rate_persons_df = age_rate_persons_df[age_rate_persons_df['COVID-19 Rate'] != ':']\n",
    "\n",
    "age_rate_persons_df.head()"
   ]
  },
  {
   "cell_type": "markdown",
   "metadata": {},
   "source": [
    "Calculate the factor which you need to multiply the count of deaths by in order to derive the age-standardised mortality rate per 100,000 habitants."
   ]
  },
  {
   "cell_type": "code",
   "execution_count": 11,
   "metadata": {
    "ExecuteTime": {
     "end_time": "2020-06-17T15:00:26.429470Z",
     "start_time": "2020-06-17T15:00:26.416295Z"
    }
   },
   "outputs": [],
   "source": [
    "# derive standardisation factors\n",
    "age_rate_persons_df['All causes rate factor'] = (\n",
    "    age_rate_persons_df['All causes Rate'] / age_rate_persons_df['All causes Deaths'] )\n",
    "\n",
    "age_rate_persons_df['COVID-19 rate factor'] = (\n",
    "    age_rate_persons_df['COVID-19 Rate'] / age_rate_persons_df['COVID-19 Deaths'] )\n",
    "\n",
    "# drop columns\n",
    "age_rate_persons_df = age_rate_persons_df[['LAD Code', 'All causes rate factor', 'COVID-19 rate factor']]"
   ]
  },
  {
   "cell_type": "code",
   "execution_count": 12,
   "metadata": {
    "ExecuteTime": {
     "end_time": "2020-06-17T15:00:26.442699Z",
     "start_time": "2020-06-17T15:00:26.431668Z"
    }
   },
   "outputs": [],
   "source": [
    "LAD_df = LAD_df.reset_index()\n",
    "LAD_df = LAD_df.merge(age_rate_persons_df, on='LAD Code', how='inner')\n",
    "LAD_df = LAD_df.set_index('LAD Code')"
   ]
  },
  {
   "cell_type": "markdown",
   "metadata": {},
   "source": [
    "Let's save the `LAD_df` table we've created, so that we can easily use it as a lookup table. "
   ]
  },
  {
   "cell_type": "code",
   "execution_count": 13,
   "metadata": {
    "ExecuteTime": {
     "end_time": "2020-06-17T15:00:26.466051Z",
     "start_time": "2020-06-17T15:00:26.447879Z"
    }
   },
   "outputs": [],
   "source": [
    "# create filename\n",
    "LAD_df_filename = 'Local_Authority_District_Lookup.csv'\n",
    "LAD_df_filepath = os.path.join(derived_data_dirname, LAD_df_filename)\n",
    "\n",
    "# write to csv\n",
    "LAD_df.to_csv(LAD_df_filepath, index=False)"
   ]
  },
  {
   "cell_type": "markdown",
   "metadata": {},
   "source": [
    "## Mortality Counts"
   ]
  },
  {
   "cell_type": "markdown",
   "metadata": {},
   "source": [
    "### Download and Format"
   ]
  },
  {
   "cell_type": "markdown",
   "metadata": {},
   "source": [
    "First, let's download the ONS dataset containing mortality counts by week and local authority."
   ]
  },
  {
   "cell_type": "code",
   "execution_count": 14,
   "metadata": {
    "ExecuteTime": {
     "end_time": "2020-06-17T15:00:26.473953Z",
     "start_time": "2020-06-17T15:00:26.468969Z"
    }
   },
   "outputs": [],
   "source": [
    "# specify URL\n",
    "url = 'https://www.ons.gov.uk/file?uri=%2fpeoplepopulationandcommunity%2fhealthandsocialcare%2fcausesofdeath%2fdatasets%2fdeathregistrationsandoccurrencesbylocalauthorityandhealthboard%2f2020/lahbtablesweek20finalcodes.xlsx'\n",
    "\n",
    "# specify filename\n",
    "filename = 'ONS_COVID_Mortality_Counts.xlsx'\n",
    "\n",
    "# construct file path\n",
    "filepath = os.path.join(downloaded_data_dir, filename)\n",
    "\n",
    "# download and save file at the specified URL\n",
    "download_file(url, filepath)"
   ]
  },
  {
   "cell_type": "code",
   "execution_count": 15,
   "metadata": {
    "ExecuteTime": {
     "end_time": "2020-06-17T15:00:39.387200Z",
     "start_time": "2020-06-17T15:00:26.477314Z"
    }
   },
   "outputs": [],
   "source": [
    "# specify the sheet of the excel file we want to read\n",
    "sheet_name = 'Occurrences - All data'\n",
    "\n",
    "# read the sheet into a pandas DataFrame\n",
    "mortality_df = pd.read_excel(filepath, sheet_name=sheet_name, header=3)"
   ]
  },
  {
   "cell_type": "markdown",
   "metadata": {},
   "source": [
    "Let's quickly check that we have 1:1 correspondence between LAD codes in the mortality dataset and in the IMD dataset."
   ]
  },
  {
   "cell_type": "code",
   "execution_count": 16,
   "metadata": {
    "ExecuteTime": {
     "end_time": "2020-06-17T15:00:39.396712Z",
     "start_time": "2020-06-17T15:00:39.388958Z"
    }
   },
   "outputs": [
    {
     "name": "stdout",
     "output_type": "stream",
     "text": [
      "Number of unique LAD Codes in mortality data = 346\n",
      "Number of unique LAD Codes in IMD data = 317\n"
     ]
    }
   ],
   "source": [
    "print('Number of unique LAD Codes in mortality data =', len(mortality_df['Area code'].unique()))\n",
    "print('Number of unique LAD Codes in IMD data =', len(imd_df['Local Authority District code (2019)'].unique()))"
   ]
  },
  {
   "cell_type": "code",
   "execution_count": 17,
   "metadata": {
    "ExecuteTime": {
     "end_time": "2020-06-17T15:00:39.406514Z",
     "start_time": "2020-06-17T15:00:39.398315Z"
    }
   },
   "outputs": [],
   "source": [
    "# extract those LAD codes which are present in the mortality dataset but not the IMD dataset\n",
    "missing_LAD_codes_df = mortality_df[~mortality_df['Area code'].isin(imd_df['Local Authority District code (2019)'])]\n",
    "\n",
    "missing_LAD_codes = missing_LAD_codes_df['Area code'].unique()"
   ]
  },
  {
   "cell_type": "markdown",
   "metadata": {},
   "source": [
    "The IMD dataset does not contain any Welsh entries. We will have to drop Wales from the analysis for now."
   ]
  },
  {
   "cell_type": "code",
   "execution_count": 18,
   "metadata": {
    "ExecuteTime": {
     "end_time": "2020-06-17T15:00:39.420776Z",
     "start_time": "2020-06-17T15:00:39.408844Z"
    }
   },
   "outputs": [],
   "source": [
    "mortality_df = mortality_df[~mortality_df['Area code'].isin(missing_LAD_codes)]"
   ]
  },
  {
   "cell_type": "markdown",
   "metadata": {},
   "source": [
    "Furthermore, the standardisation factor was not able to be derived for one LAD (Isles of Scilly). Let's drop that now too to avoid any problems down the line."
   ]
  },
  {
   "cell_type": "code",
   "execution_count": 19,
   "metadata": {
    "ExecuteTime": {
     "end_time": "2020-06-17T15:00:39.446715Z",
     "start_time": "2020-06-17T15:00:39.422746Z"
    }
   },
   "outputs": [],
   "source": [
    "# remove LADs from the mortality DataFrame if we do not have an entry for them in the LAD_df\n",
    "mortality_df = mortality_df[mortality_df['Area code'].isin(LAD_df.index)]"
   ]
  },
  {
   "cell_type": "markdown",
   "metadata": {},
   "source": [
    "Let's take at a random sample of 5 rows in this DataFrame to get an idea of its structure."
   ]
  },
  {
   "cell_type": "code",
   "execution_count": 20,
   "metadata": {
    "ExecuteTime": {
     "end_time": "2020-06-17T15:00:39.477268Z",
     "start_time": "2020-06-17T15:00:39.452368Z"
    }
   },
   "outputs": [
    {
     "data": {
      "text/html": [
       "<div>\n",
       "<style scoped>\n",
       "    .dataframe tbody tr th:only-of-type {\n",
       "        vertical-align: middle;\n",
       "    }\n",
       "\n",
       "    .dataframe tbody tr th {\n",
       "        vertical-align: top;\n",
       "    }\n",
       "\n",
       "    .dataframe thead th {\n",
       "        text-align: right;\n",
       "    }\n",
       "</style>\n",
       "<table border=\"1\" class=\"dataframe\">\n",
       "  <thead>\n",
       "    <tr style=\"text-align: right;\">\n",
       "      <th></th>\n",
       "      <th>Area code</th>\n",
       "      <th>Geography type</th>\n",
       "      <th>Area name</th>\n",
       "      <th>Cause of death</th>\n",
       "      <th>Week number</th>\n",
       "      <th>Place of death</th>\n",
       "      <th>Number of deaths</th>\n",
       "    </tr>\n",
       "  </thead>\n",
       "  <tbody>\n",
       "    <tr>\n",
       "      <th>11545</th>\n",
       "      <td>E08000024</td>\n",
       "      <td>Local Authority</td>\n",
       "      <td>Sunderland</td>\n",
       "      <td>All causes</td>\n",
       "      <td>3</td>\n",
       "      <td>Elsewhere</td>\n",
       "      <td>1</td>\n",
       "    </tr>\n",
       "    <tr>\n",
       "      <th>52796</th>\n",
       "      <td>E07000246</td>\n",
       "      <td>Local Authority</td>\n",
       "      <td>Somerset West and Taunton</td>\n",
       "      <td>COVID 19</td>\n",
       "      <td>13</td>\n",
       "      <td>Home</td>\n",
       "      <td>0</td>\n",
       "    </tr>\n",
       "    <tr>\n",
       "      <th>46511</th>\n",
       "      <td>E07000030</td>\n",
       "      <td>Local Authority</td>\n",
       "      <td>Eden</td>\n",
       "      <td>COVID 19</td>\n",
       "      <td>12</td>\n",
       "      <td>Other communal establishment</td>\n",
       "      <td>0</td>\n",
       "    </tr>\n",
       "    <tr>\n",
       "      <th>59098</th>\n",
       "      <td>E07000041</td>\n",
       "      <td>Local Authority</td>\n",
       "      <td>Exeter</td>\n",
       "      <td>COVID 19</td>\n",
       "      <td>15</td>\n",
       "      <td>Hospital</td>\n",
       "      <td>4</td>\n",
       "    </tr>\n",
       "    <tr>\n",
       "      <th>68735</th>\n",
       "      <td>E07000175</td>\n",
       "      <td>Local Authority</td>\n",
       "      <td>Newark and Sherwood</td>\n",
       "      <td>COVID 19</td>\n",
       "      <td>17</td>\n",
       "      <td>Other communal establishment</td>\n",
       "      <td>0</td>\n",
       "    </tr>\n",
       "  </tbody>\n",
       "</table>\n",
       "</div>"
      ],
      "text/plain": [
       "       Area code   Geography type                  Area name Cause of death  \\\n",
       "11545  E08000024  Local Authority                 Sunderland     All causes   \n",
       "52796  E07000246  Local Authority  Somerset West and Taunton       COVID 19   \n",
       "46511  E07000030  Local Authority                       Eden       COVID 19   \n",
       "59098  E07000041  Local Authority                     Exeter       COVID 19   \n",
       "68735  E07000175  Local Authority        Newark and Sherwood       COVID 19   \n",
       "\n",
       "       Week number                Place of death  Number of deaths  \n",
       "11545            3                     Elsewhere                 1  \n",
       "52796           13                          Home                 0  \n",
       "46511           12  Other communal establishment                 0  \n",
       "59098           15                      Hospital                 4  \n",
       "68735           17  Other communal establishment                 0  "
      ]
     },
     "execution_count": 20,
     "metadata": {},
     "output_type": "execute_result"
    }
   ],
   "source": [
    "mortality_df = mortality_df[(mortality_df['Place of death']!='Care home') & (mortality_df['Place of death']!='Hospice')]\n",
    "#mortality_df = mortality_df[(mortality_df['Place of death']=='Care home') | (mortality_df['Place of death']=='Hospice')]\n",
    "\n",
    "mortality_df.sample(n=5)\n"
   ]
  },
  {
   "cell_type": "markdown",
   "metadata": {},
   "source": [
    "The dataset starts from the 1st Jan 2020. So let's convert the week number into a date."
   ]
  },
  {
   "cell_type": "code",
   "execution_count": 21,
   "metadata": {
    "ExecuteTime": {
     "end_time": "2020-06-17T15:00:40.634460Z",
     "start_time": "2020-06-17T15:00:39.479686Z"
    }
   },
   "outputs": [],
   "source": [
    "# first day of 2020 is a Wednesday\n",
    "mortality_df['Date'] = [datetime.strptime(f'2020 {n-1} 3', '%Y %W %w').strftime('%Y-%m-%d') \n",
    "                        for n in mortality_df['Week number']]\n",
    "\n",
    "# drop week number column\n",
    "mortality_df = mortality_df.drop(columns='Week number')"
   ]
  },
  {
   "cell_type": "markdown",
   "metadata": {},
   "source": [
    "If you want to reproduce the results from the [ONS report](https://www.ons.gov.uk/peoplepopulationandcommunity/birthsdeathsandmarriages/deaths/bulletins/deathsinvolvingcovid19bylocalareasanddeprivation/latest)\n",
    "uncomment these lines."
   ]
  },
  {
   "cell_type": "code",
   "execution_count": 22,
   "metadata": {
    "ExecuteTime": {
     "end_time": "2020-06-17T15:00:40.638234Z",
     "start_time": "2020-06-17T15:00:40.636159Z"
    }
   },
   "outputs": [],
   "source": [
    "#mortality_df = mortality_df[mortality_df['Date'] > '2020-03-01']\n",
    "#mortality_df = mortality_df[mortality_df['Date'] < '2020-04-18']"
   ]
  },
  {
   "cell_type": "markdown",
   "metadata": {},
   "source": [
    "### Convert to Time Series"
   ]
  },
  {
   "cell_type": "markdown",
   "metadata": {},
   "source": [
    "For now, let's sum the number of deaths over all places of death. It will also be useful to separate the \"all causes\" mortality counts and the \"covid\" mortality counts."
   ]
  },
  {
   "cell_type": "code",
   "execution_count": 23,
   "metadata": {
    "ExecuteTime": {
     "end_time": "2020-06-17T15:00:40.671054Z",
     "start_time": "2020-06-17T15:00:40.644220Z"
    }
   },
   "outputs": [],
   "source": [
    "# sum over \"Place of death\" column\n",
    "mortality_sum_df = mortality_df.groupby(by=['Area code', 'Date', 'Cause of death']).sum().reset_index()\n",
    "\n",
    "# separate \"all causes\" and \"covid\" mortality counts\n",
    "all_causes_df = mortality_sum_df[mortality_sum_df['Cause of death'] == 'All causes']\n",
    "covid_df = mortality_sum_df[mortality_sum_df['Cause of death'] == 'COVID 19']"
   ]
  },
  {
   "cell_type": "markdown",
   "metadata": {},
   "source": [
    "Create a new DataFrame, where we have an index corresponding to LAD Area code, and columns corresponding to dates. The entries in the DataFrame correspond to total number of deaths for that week in that LAD. Let's do this for all causes first."
   ]
  },
  {
   "cell_type": "code",
   "execution_count": 24,
   "metadata": {
    "ExecuteTime": {
     "end_time": "2020-06-17T15:00:42.517249Z",
     "start_time": "2020-06-17T15:00:40.674342Z"
    }
   },
   "outputs": [],
   "source": [
    "# create new DataFrame\n",
    "all_cause_mortality_ts_df = pd.DataFrame()\n",
    "all_cause_mortality_ts_df.index.name = 'Area code'\n",
    "\n",
    "# loop over all causes mortality summed DataFrame\n",
    "for index, row in all_causes_df.iterrows():\n",
    "    \n",
    "    # if we haven't added this area code yet, add it now\n",
    "    if index not in all_causes_df.index:\n",
    "        all_cause_mortality_ts_df.loc[row['Area code']] = {}\n",
    "    \n",
    "    # add the mortality count\n",
    "    all_cause_mortality_ts_df.loc[row['Area code'], row['Date']] = row['Number of deaths']"
   ]
  },
  {
   "cell_type": "markdown",
   "metadata": {},
   "source": [
    "Same again for Covid deaths."
   ]
  },
  {
   "cell_type": "code",
   "execution_count": 25,
   "metadata": {
    "ExecuteTime": {
     "end_time": "2020-06-17T15:00:44.162166Z",
     "start_time": "2020-06-17T15:00:42.518815Z"
    }
   },
   "outputs": [],
   "source": [
    "# create new DataFrame\n",
    "covid_mortality_ts_df = pd.DataFrame()\n",
    "covid_mortality_ts_df.index.name = 'Area code'\n",
    "\n",
    "# loop over all causes mortality summed DataFrame\n",
    "for index, row in covid_df.iterrows():\n",
    "    \n",
    "    # if we haven't added this area code yet, add it now\n",
    "    if index not in covid_df.index:\n",
    "        covid_mortality_ts_df.loc[row['Area code']] = {}\n",
    "    \n",
    "    # add the mortality count\n",
    "    covid_mortality_ts_df.loc[row['Area code'], row['Date']] = row['Number of deaths']"
   ]
  },
  {
   "cell_type": "code",
   "execution_count": 26,
   "metadata": {
    "ExecuteTime": {
     "end_time": "2020-06-17T15:00:44.180955Z",
     "start_time": "2020-06-17T15:00:44.163797Z"
    }
   },
   "outputs": [
    {
     "data": {
      "text/html": [
       "<div>\n",
       "<style scoped>\n",
       "    .dataframe tbody tr th:only-of-type {\n",
       "        vertical-align: middle;\n",
       "    }\n",
       "\n",
       "    .dataframe tbody tr th {\n",
       "        vertical-align: top;\n",
       "    }\n",
       "\n",
       "    .dataframe thead th {\n",
       "        text-align: right;\n",
       "    }\n",
       "</style>\n",
       "<table border=\"1\" class=\"dataframe\">\n",
       "  <thead>\n",
       "    <tr style=\"text-align: right;\">\n",
       "      <th></th>\n",
       "      <th>2020-01-01</th>\n",
       "      <th>2020-01-08</th>\n",
       "      <th>2020-01-15</th>\n",
       "      <th>2020-01-22</th>\n",
       "      <th>2020-01-29</th>\n",
       "      <th>2020-02-05</th>\n",
       "      <th>2020-02-12</th>\n",
       "      <th>2020-02-19</th>\n",
       "      <th>2020-02-26</th>\n",
       "      <th>2020-03-04</th>\n",
       "      <th>2020-03-11</th>\n",
       "      <th>2020-03-18</th>\n",
       "      <th>2020-03-25</th>\n",
       "      <th>2020-04-01</th>\n",
       "      <th>2020-04-08</th>\n",
       "      <th>2020-04-15</th>\n",
       "      <th>2020-04-22</th>\n",
       "      <th>2020-04-29</th>\n",
       "      <th>2020-05-06</th>\n",
       "      <th>2020-05-13</th>\n",
       "    </tr>\n",
       "    <tr>\n",
       "      <th>Area code</th>\n",
       "      <th></th>\n",
       "      <th></th>\n",
       "      <th></th>\n",
       "      <th></th>\n",
       "      <th></th>\n",
       "      <th></th>\n",
       "      <th></th>\n",
       "      <th></th>\n",
       "      <th></th>\n",
       "      <th></th>\n",
       "      <th></th>\n",
       "      <th></th>\n",
       "      <th></th>\n",
       "      <th></th>\n",
       "      <th></th>\n",
       "      <th></th>\n",
       "      <th></th>\n",
       "      <th></th>\n",
       "      <th></th>\n",
       "      <th></th>\n",
       "    </tr>\n",
       "  </thead>\n",
       "  <tbody>\n",
       "    <tr>\n",
       "      <th>E06000001</th>\n",
       "      <td>0.0</td>\n",
       "      <td>0.0</td>\n",
       "      <td>0.0</td>\n",
       "      <td>0.0</td>\n",
       "      <td>0.0</td>\n",
       "      <td>0.0</td>\n",
       "      <td>0.0</td>\n",
       "      <td>0.0</td>\n",
       "      <td>0.0</td>\n",
       "      <td>0.0</td>\n",
       "      <td>0.0</td>\n",
       "      <td>1.0</td>\n",
       "      <td>1.0</td>\n",
       "      <td>5.0</td>\n",
       "      <td>8.0</td>\n",
       "      <td>9.0</td>\n",
       "      <td>13.0</td>\n",
       "      <td>7.0</td>\n",
       "      <td>5.0</td>\n",
       "      <td>2.0</td>\n",
       "    </tr>\n",
       "    <tr>\n",
       "      <th>E06000002</th>\n",
       "      <td>0.0</td>\n",
       "      <td>0.0</td>\n",
       "      <td>0.0</td>\n",
       "      <td>0.0</td>\n",
       "      <td>0.0</td>\n",
       "      <td>0.0</td>\n",
       "      <td>0.0</td>\n",
       "      <td>0.0</td>\n",
       "      <td>0.0</td>\n",
       "      <td>0.0</td>\n",
       "      <td>0.0</td>\n",
       "      <td>0.0</td>\n",
       "      <td>4.0</td>\n",
       "      <td>23.0</td>\n",
       "      <td>23.0</td>\n",
       "      <td>25.0</td>\n",
       "      <td>17.0</td>\n",
       "      <td>12.0</td>\n",
       "      <td>8.0</td>\n",
       "      <td>5.0</td>\n",
       "    </tr>\n",
       "    <tr>\n",
       "      <th>E06000003</th>\n",
       "      <td>0.0</td>\n",
       "      <td>0.0</td>\n",
       "      <td>0.0</td>\n",
       "      <td>0.0</td>\n",
       "      <td>0.0</td>\n",
       "      <td>0.0</td>\n",
       "      <td>0.0</td>\n",
       "      <td>0.0</td>\n",
       "      <td>0.0</td>\n",
       "      <td>0.0</td>\n",
       "      <td>0.0</td>\n",
       "      <td>0.0</td>\n",
       "      <td>0.0</td>\n",
       "      <td>11.0</td>\n",
       "      <td>13.0</td>\n",
       "      <td>14.0</td>\n",
       "      <td>11.0</td>\n",
       "      <td>6.0</td>\n",
       "      <td>4.0</td>\n",
       "      <td>1.0</td>\n",
       "    </tr>\n",
       "    <tr>\n",
       "      <th>E06000004</th>\n",
       "      <td>0.0</td>\n",
       "      <td>0.0</td>\n",
       "      <td>0.0</td>\n",
       "      <td>0.0</td>\n",
       "      <td>0.0</td>\n",
       "      <td>0.0</td>\n",
       "      <td>0.0</td>\n",
       "      <td>0.0</td>\n",
       "      <td>0.0</td>\n",
       "      <td>0.0</td>\n",
       "      <td>0.0</td>\n",
       "      <td>1.0</td>\n",
       "      <td>1.0</td>\n",
       "      <td>10.0</td>\n",
       "      <td>10.0</td>\n",
       "      <td>7.0</td>\n",
       "      <td>6.0</td>\n",
       "      <td>4.0</td>\n",
       "      <td>8.0</td>\n",
       "      <td>5.0</td>\n",
       "    </tr>\n",
       "    <tr>\n",
       "      <th>E06000005</th>\n",
       "      <td>0.0</td>\n",
       "      <td>0.0</td>\n",
       "      <td>0.0</td>\n",
       "      <td>0.0</td>\n",
       "      <td>0.0</td>\n",
       "      <td>0.0</td>\n",
       "      <td>0.0</td>\n",
       "      <td>0.0</td>\n",
       "      <td>0.0</td>\n",
       "      <td>0.0</td>\n",
       "      <td>0.0</td>\n",
       "      <td>0.0</td>\n",
       "      <td>1.0</td>\n",
       "      <td>3.0</td>\n",
       "      <td>8.0</td>\n",
       "      <td>10.0</td>\n",
       "      <td>3.0</td>\n",
       "      <td>3.0</td>\n",
       "      <td>4.0</td>\n",
       "      <td>3.0</td>\n",
       "    </tr>\n",
       "  </tbody>\n",
       "</table>\n",
       "</div>"
      ],
      "text/plain": [
       "           2020-01-01  2020-01-08  2020-01-15  2020-01-22  2020-01-29  \\\n",
       "Area code                                                               \n",
       "E06000001         0.0         0.0         0.0         0.0         0.0   \n",
       "E06000002         0.0         0.0         0.0         0.0         0.0   \n",
       "E06000003         0.0         0.0         0.0         0.0         0.0   \n",
       "E06000004         0.0         0.0         0.0         0.0         0.0   \n",
       "E06000005         0.0         0.0         0.0         0.0         0.0   \n",
       "\n",
       "           2020-02-05  2020-02-12  2020-02-19  2020-02-26  2020-03-04  \\\n",
       "Area code                                                               \n",
       "E06000001         0.0         0.0         0.0         0.0         0.0   \n",
       "E06000002         0.0         0.0         0.0         0.0         0.0   \n",
       "E06000003         0.0         0.0         0.0         0.0         0.0   \n",
       "E06000004         0.0         0.0         0.0         0.0         0.0   \n",
       "E06000005         0.0         0.0         0.0         0.0         0.0   \n",
       "\n",
       "           2020-03-11  2020-03-18  2020-03-25  2020-04-01  2020-04-08  \\\n",
       "Area code                                                               \n",
       "E06000001         0.0         1.0         1.0         5.0         8.0   \n",
       "E06000002         0.0         0.0         4.0        23.0        23.0   \n",
       "E06000003         0.0         0.0         0.0        11.0        13.0   \n",
       "E06000004         0.0         1.0         1.0        10.0        10.0   \n",
       "E06000005         0.0         0.0         1.0         3.0         8.0   \n",
       "\n",
       "           2020-04-15  2020-04-22  2020-04-29  2020-05-06  2020-05-13  \n",
       "Area code                                                              \n",
       "E06000001         9.0        13.0         7.0         5.0         2.0  \n",
       "E06000002        25.0        17.0        12.0         8.0         5.0  \n",
       "E06000003        14.0        11.0         6.0         4.0         1.0  \n",
       "E06000004         7.0         6.0         4.0         8.0         5.0  \n",
       "E06000005        10.0         3.0         3.0         4.0         3.0  "
      ]
     },
     "execution_count": 26,
     "metadata": {},
     "output_type": "execute_result"
    }
   ],
   "source": [
    "covid_mortality_ts_df.head()"
   ]
  },
  {
   "cell_type": "markdown",
   "metadata": {},
   "source": [
    "\n",
    "## Download Local Area District -> Region Lookup Table\n",
    "\n",
    "Make a simple plot of the number of deaths due to COVID 19 compared with all other deaths, by region. To do this, we'll need to download download a LAD code -> region lookup table from https://geoportal.statistics.gov.uk/datasets/local-authority-district-to-region-april-2019-lookup-in-england."
   ]
  },
  {
   "cell_type": "code",
   "execution_count": 27,
   "metadata": {
    "ExecuteTime": {
     "end_time": "2020-06-17T15:00:44.189150Z",
     "start_time": "2020-06-17T15:00:44.182887Z"
    }
   },
   "outputs": [],
   "source": [
    "# specify URL\n",
    "url = 'https://opendata.arcgis.com/datasets/3ba3daf9278f47daba0f561889c3521a_0.csv'\n",
    "\n",
    "# specify filename\n",
    "filename = 'LAD_Code_Region_Lookup.csv'\n",
    "\n",
    "# construct file path\n",
    "filepath = os.path.join (downloaded_data_dir, filename)\n",
    "\n",
    "# download and save file at the specified URL\n",
    "download_file(url, filepath)\n",
    "\n",
    "# read the relevant sheet\n",
    "LAD_code_region_lookup_df = pd.read_csv(filepath, index_col='FID').set_index('LAD19CD')"
   ]
  },
  {
   "cell_type": "code",
   "execution_count": 28,
   "metadata": {
    "ExecuteTime": {
     "end_time": "2020-06-17T15:00:44.197985Z",
     "start_time": "2020-06-17T15:00:44.190951Z"
    }
   },
   "outputs": [
    {
     "data": {
      "text/html": [
       "<div>\n",
       "<style scoped>\n",
       "    .dataframe tbody tr th:only-of-type {\n",
       "        vertical-align: middle;\n",
       "    }\n",
       "\n",
       "    .dataframe tbody tr th {\n",
       "        vertical-align: top;\n",
       "    }\n",
       "\n",
       "    .dataframe thead th {\n",
       "        text-align: right;\n",
       "    }\n",
       "</style>\n",
       "<table border=\"1\" class=\"dataframe\">\n",
       "  <thead>\n",
       "    <tr style=\"text-align: right;\">\n",
       "      <th></th>\n",
       "      <th>LAD19NM</th>\n",
       "      <th>RGN19CD</th>\n",
       "      <th>RGN19NM</th>\n",
       "    </tr>\n",
       "    <tr>\n",
       "      <th>LAD19CD</th>\n",
       "      <th></th>\n",
       "      <th></th>\n",
       "      <th></th>\n",
       "    </tr>\n",
       "  </thead>\n",
       "  <tbody>\n",
       "    <tr>\n",
       "      <th>E09000001</th>\n",
       "      <td>City of London</td>\n",
       "      <td>E12000007</td>\n",
       "      <td>London</td>\n",
       "    </tr>\n",
       "    <tr>\n",
       "      <th>E06000054</th>\n",
       "      <td>Wiltshire</td>\n",
       "      <td>E12000009</td>\n",
       "      <td>South West</td>\n",
       "    </tr>\n",
       "    <tr>\n",
       "      <th>E09000002</th>\n",
       "      <td>Barking and Dagenham</td>\n",
       "      <td>E12000007</td>\n",
       "      <td>London</td>\n",
       "    </tr>\n",
       "    <tr>\n",
       "      <th>E09000003</th>\n",
       "      <td>Barnet</td>\n",
       "      <td>E12000007</td>\n",
       "      <td>London</td>\n",
       "    </tr>\n",
       "    <tr>\n",
       "      <th>E09000004</th>\n",
       "      <td>Bexley</td>\n",
       "      <td>E12000007</td>\n",
       "      <td>London</td>\n",
       "    </tr>\n",
       "  </tbody>\n",
       "</table>\n",
       "</div>"
      ],
      "text/plain": [
       "                        LAD19NM    RGN19CD     RGN19NM\n",
       "LAD19CD                                               \n",
       "E09000001        City of London  E12000007      London\n",
       "E06000054             Wiltshire  E12000009  South West\n",
       "E09000002  Barking and Dagenham  E12000007      London\n",
       "E09000003                Barnet  E12000007      London\n",
       "E09000004                Bexley  E12000007      London"
      ]
     },
     "execution_count": 28,
     "metadata": {},
     "output_type": "execute_result"
    }
   ],
   "source": [
    "LAD_code_region_lookup_df.head()"
   ]
  },
  {
   "cell_type": "markdown",
   "metadata": {},
   "source": [
    "## Split Data Into Different Date Ranges"
   ]
  },
  {
   "cell_type": "markdown",
   "metadata": {},
   "source": [
    "Let's write a function to sum the mortality data over time to get the total number of deaths. Then, we'll reformat the DataFrame so we have columns for different causes of death. Finally, we'll use the above table to get the region name for each entry in the table."
   ]
  },
  {
   "cell_type": "code",
   "execution_count": 29,
   "metadata": {
    "ExecuteTime": {
     "end_time": "2020-06-17T15:00:44.210102Z",
     "start_time": "2020-06-17T15:00:44.199624Z"
    }
   },
   "outputs": [],
   "source": [
    "def filter_date_and_aggregate(df, date_range=None):\n",
    "    \"\"\"\n",
    "    The function:\n",
    "    - selects dates that are inside the supplied date range.\n",
    "    - Sums over time in this date range.\n",
    "    - Separates COVID-19 vs non COVID-19 deaths.\n",
    "    - Decorates rows with area and region name columns.\n",
    "    - Calculates the standardised mortality rate using previously calculated factors.\n",
    "    - Pulls in the mean IMD decile as previously calculated.\n",
    "    \"\"\"\n",
    "    \n",
    "    # filter dates\n",
    "    if date_range:\n",
    "        df = df[(df['Date'] > date_range[0]) & (df['Date'] < date_range[1])]\n",
    "    \n",
    "    # sum over time\n",
    "    df = df.groupby(by=['Area code', 'Cause of death']).sum()\n",
    "    df = df.reset_index(level=[-1])\n",
    "\n",
    "    # seperate out all deaths and COVID deaths as their own columns\n",
    "    df = df.pivot(columns='Cause of death', values='Number of deaths')\n",
    "    df.columns.name = ''\n",
    "\n",
    "    # rename columns\n",
    "    df = df.rename(columns={'All causes': 'Total deaths', 'COVID 19': 'COVID deaths'})\n",
    "\n",
    "    # add non-COVID deaths as column\n",
    "    df['Non COVID deaths'] = df['Total deaths'] - df['COVID deaths']\n",
    "\n",
    "    # add area names\n",
    "    df['Area name'] = LAD_df.loc[df.index]['LAD Name']\n",
    "\n",
    "    # add region names\n",
    "    df['Region name'] = LAD_code_region_lookup_df.loc[df.index]['RGN19NM']\n",
    "    \n",
    "    # Calculate the rate per 100k using the age-standardisation factor estimated previously\n",
    "    df['COVID-19 rate'] = (LAD_df.loc[df.index]['COVID-19 rate factor'] * df['COVID deaths']).astype(float)\n",
    "    df['All causes rate'] = (LAD_df.loc[df.index]['All causes rate factor'] * df['Total deaths']).astype(float)\n",
    "    \n",
    "    # import mean IMD rank\n",
    "    df['Mean IMD decile'] = LAD_df['Mean IMD decile']\n",
    "    \n",
    "    return df"
   ]
  },
  {
   "cell_type": "markdown",
   "metadata": {},
   "source": [
    "Now we can split our data up in to different ranges, and all the processing is done in once place."
   ]
  },
  {
   "cell_type": "markdown",
   "metadata": {},
   "source": [
    "# Study 1 - Regional Mortality Counts & Rates\n",
    "\n",
    "## Total Mortalities by Region"
   ]
  },
  {
   "cell_type": "markdown",
   "metadata": {},
   "source": [
    "Use our function to aggregate the mortality data across all dates."
   ]
  },
  {
   "cell_type": "code",
   "execution_count": 30,
   "metadata": {
    "ExecuteTime": {
     "end_time": "2020-06-17T15:00:44.235317Z",
     "start_time": "2020-06-17T15:00:44.213567Z"
    }
   },
   "outputs": [],
   "source": [
    "total_deaths_df = filter_date_and_aggregate(mortality_sum_df)"
   ]
  },
  {
   "cell_type": "markdown",
   "metadata": {},
   "source": [
    "Summing over region and sorting the values, we are almost ready to make the plot."
   ]
  },
  {
   "cell_type": "code",
   "execution_count": 31,
   "metadata": {
    "ExecuteTime": {
     "end_time": "2020-06-17T15:00:44.245763Z",
     "start_time": "2020-06-17T15:00:44.237270Z"
    }
   },
   "outputs": [],
   "source": [
    "# sum over LADs in each region\n",
    "total_deaths_by_region_df = total_deaths_df.groupby(by='Region name').sum()\n",
    "\n",
    "# sort ascending\n",
    "total_deaths_by_region_df = total_deaths_by_region_df.sort_values(by='Total deaths', ascending=True)"
   ]
  },
  {
   "cell_type": "code",
   "execution_count": 32,
   "metadata": {
    "ExecuteTime": {
     "end_time": "2020-06-17T15:00:44.481901Z",
     "start_time": "2020-06-17T15:00:44.247666Z"
    }
   },
   "outputs": [
    {
     "data": {
      "image/png": "[encoded data removed]",
      "text/plain": [
       "<Figure size 504x720 with 1 Axes>"
      ]
     },
     "metadata": {},
     "output_type": "display_data"
    }
   ],
   "source": [
    "# region names\n",
    "xs = total_deaths_by_region_df.index\n",
    "\n",
    "# mortality counts\n",
    "non_covid_deaths = total_deaths_by_region_df['Non COVID deaths']\n",
    "covid_deaths = total_deaths_by_region_df['COVID deaths']\n",
    "\n",
    "# set bar width\n",
    "width = 0.75\n",
    "\n",
    "# create a figure and plot data\n",
    "plt.figure(figsize=(7,10))\n",
    "p1 = plt.barh(xs, non_covid_deaths, width, label='Non COVID-19 Deaths')\n",
    "p2 = plt.barh(xs, covid_deaths, width, left=non_covid_deaths, label='COVID-19 Deaths')\n",
    "\n",
    "# label axes\n",
    "plt.xlabel('Deaths Since 01/01/2020', fontsize=16)\n",
    "plt.ylabel('Region', fontsize=16)\n",
    "plt.yticks(rotation=30)\n",
    "\n",
    "# add vertical grid lines\n",
    "plt.gca().xaxis.grid(True, linestyle='-', which='major', color='grey', alpha=.25)\n",
    "\n",
    "# show legend and plot\n",
    "plt.legend(fontsize=14)\n",
    "plt.show()"
   ]
  },
  {
   "cell_type": "markdown",
   "metadata": {},
   "source": [
    "## Standardsied Mortality Rate by Region"
   ]
  },
  {
   "cell_type": "markdown",
   "metadata": {},
   "source": [
    "Let's look at the age-standardised mortality rates per 100,000 people and standardised to the 2013 European Standard Population. Age-standardised mortality rates allow for differences in the age structure of populations and therefore allow valid comparisons to be made between geographical areas, the sexes and over time. \t\t\t\t\t\t\t"
   ]
  },
  {
   "cell_type": "code",
   "execution_count": 33,
   "metadata": {
    "ExecuteTime": {
     "end_time": "2020-06-17T15:00:44.490403Z",
     "start_time": "2020-06-17T15:00:44.483522Z"
    }
   },
   "outputs": [],
   "source": [
    "# calculate the mean rate per region and sort\n",
    "total_rates_df_by_region = total_deaths_df.groupby(by='Region name', as_index=False).agg('mean')\n",
    "total_rates_df_by_region = total_rates_df_by_region.sort_values(by='COVID-19 rate', ascending=True)"
   ]
  },
  {
   "cell_type": "code",
   "execution_count": 34,
   "metadata": {
    "ExecuteTime": {
     "end_time": "2020-06-17T15:00:44.677343Z",
     "start_time": "2020-06-17T15:00:44.492027Z"
    }
   },
   "outputs": [
    {
     "data": {
      "image/png": "[encoded data removed]",
      "text/plain": [
       "<Figure size 504x720 with 1 Axes>"
      ]
     },
     "metadata": {},
     "output_type": "display_data"
    }
   ],
   "source": [
    "# region names\n",
    "xs = total_rates_df_by_region['Region name']\n",
    "\n",
    "# mortality counts\n",
    "covid_deaths = total_rates_df_by_region['COVID-19 rate']\n",
    "\n",
    "# set bar width\n",
    "width = 0.75\n",
    "\n",
    "# create a figure and plot data\n",
    "plt.figure(figsize=(7,10))\n",
    "p1 = plt.barh(xs, covid_deaths, width, label='COVID Deaths', edgecolor='black', color='lightgray')\n",
    "\n",
    "# label axes\n",
    "plt.xlabel('Age standardised mortality rate per 100,000 people', fontsize=16)\n",
    "plt.ylabel('Region', fontsize=16)\n",
    "plt.yticks(rotation=30)\n",
    "\n",
    "# add vertical grid lines\n",
    "plt.gca().xaxis.grid(True, linestyle='-', which='major', color='grey', alpha=.25)\n",
    "\n",
    "# show legend and plot\n",
    "plt.legend(loc='lower right', fontsize=14)\n",
    "plt.show()"
   ]
  },
  {
   "cell_type": "markdown",
   "metadata": {
    "ExecuteTime": {
     "end_time": "2020-06-04T16:11:09.476139Z",
     "start_time": "2020-06-04T16:11:09.474043Z"
    }
   },
   "source": [
    "# Study 2 - Map Visualistaions\n",
    "\n",
    "In this section, let's visualise some of the previous studies at a higher granularity by using a map. (Heavily based on code from https://github.com/DavidBeavan/coronavirus_covid-19)."
   ]
  },
  {
   "cell_type": "markdown",
   "metadata": {},
   "source": [
    "First, weed to download a shapefile which defines the geographical boundaries of the different local authorities in England."
   ]
  },
  {
   "cell_type": "code",
   "execution_count": 35,
   "metadata": {
    "ExecuteTime": {
     "end_time": "2020-06-17T15:00:45.210793Z",
     "start_time": "2020-06-17T15:00:44.679224Z"
    }
   },
   "outputs": [],
   "source": [
    "# specify URL\n",
    "url = 'https://opendata.arcgis.com/datasets/1d78d47c87df4212b79fe2323aae8e08_0.zip?outSR=%7B%22latestWkid%22%3A27700%2C%22wkid%22%3A27700%7D'\n",
    "\n",
    "# specify filename\n",
    "filename = 'lad_boundaries.zip'\n",
    "\n",
    "# construct file path\n",
    "utla_download_dir = os.path.join(downloaded_data_dir, 'lad_boundaries')\n",
    "filepath = os.path.join(utla_download_dir, filename)\n",
    "\n",
    "# download and save file at the specified URL\n",
    "download_file(url, filepath)\n",
    "\n",
    "# unzip\n",
    "myzipfile = zipfile.ZipFile(filepath)\n",
    "myzipfile.extractall(utla_download_dir)"
   ]
  },
  {
   "cell_type": "markdown",
   "metadata": {},
   "source": [
    "Next, we can load the shapefile into a GeoPandas DataFrame and extract the pieces we need."
   ]
  },
  {
   "cell_type": "code",
   "execution_count": 36,
   "metadata": {
    "ExecuteTime": {
     "end_time": "2020-06-17T15:00:46.515157Z",
     "start_time": "2020-06-17T15:00:45.211852Z"
    }
   },
   "outputs": [],
   "source": [
    "# Load Local Authority District boundary shapefile\n",
    "lad_boundaries_df = gpd.read_file(os.path.join(utla_download_dir, \n",
    "                        'Local_Authority_Districts__December_2019__Boundaries_UK_BFC.shp'))\n",
    "\n",
    "# Remove Scotland and NI (for now, this is only parsing England data)\n",
    "lad_boundaries_df = lad_boundaries_df[~lad_boundaries_df['lad19cd'].str.contains('^[SN]')]\n",
    "\n",
    "# Remove Wales (for now, this is only parsing England data)\n",
    "lad_boundaries_df = lad_boundaries_df[lad_boundaries_df['lad19nmw'].isnull()]\n",
    "\n",
    "# Drop unused columns\n",
    "lad_boundaries_df.drop(columns=['objectid', 'bng_e', 'lad19nmw', 'st_areasha', \n",
    "                      'bng_n', 'long', 'lat', 'st_lengths', 'lad19nm'], inplace=True)\n",
    "\n",
    "# Index on ctyua19cd AKA region code\n",
    "lad_boundaries_df.set_index('lad19cd', inplace=True)\n",
    "lad_boundaries_df.index.name = 'Area code'\n",
    "\n",
    "# remove LADs from the bondaries DataFrame if we do not have an entry for them in the LAD_df\n",
    "lad_boundaries_df = lad_boundaries_df[lad_boundaries_df.index.isin(LAD_df.index)]"
   ]
  },
  {
   "cell_type": "markdown",
   "metadata": {},
   "source": [
    "Let's add the boundary data to the mortality DataFrame we constructed earlier. We have to perform the join from `lad_boundaries_df` so that the resulting DataFrame is still a `GeoPandas` DataFrame."
   ]
  },
  {
   "cell_type": "code",
   "execution_count": 37,
   "metadata": {
    "ExecuteTime": {
     "end_time": "2020-06-17T15:00:46.520792Z",
     "start_time": "2020-06-17T15:00:46.517068Z"
    }
   },
   "outputs": [],
   "source": [
    "mortality_geom_df = lad_boundaries_df.join(total_deaths_df)"
   ]
  },
  {
   "cell_type": "markdown",
   "metadata": {},
   "source": [
    "Convinence function to make map plots."
   ]
  },
  {
   "cell_type": "code",
   "execution_count": 38,
   "metadata": {
    "ExecuteTime": {
     "end_time": "2020-06-17T15:00:46.528372Z",
     "start_time": "2020-06-17T15:00:46.522667Z"
    }
   },
   "outputs": [],
   "source": [
    "def show_map(df, variable, title, size, cmap, limits=None):\n",
    "\n",
    "    # Prep plot\n",
    "    fig, ax = plt.subplots(1, figsize=size, facecolor='LightGray')\n",
    "\n",
    "    # Zoom in to limits, if given\n",
    "    if limits:\n",
    "        ax.set_xlim(limits[0])\n",
    "        ax.set_ylim(limits[1])\n",
    "\n",
    "    # Plot map\n",
    "    df.plot(column=variable, cmap=cmap, linewidth=0.8, ax=ax, edgecolor='gray')\n",
    "\n",
    "    # Remove the axis\n",
    "    ax.axis('off')\n",
    "\n",
    "    # Add title\n",
    "    ax.set_title(title, fontdict={\n",
    "                 'fontsize': 'xx-large', 'fontweight': 'bold'})\n",
    "\n",
    "    # Add attributions\n",
    "    #ax.annotate('Code: David Beavan Twitter:@DavidBeavan GitHub:https://github.com/DavidBeavan/coronavirus_covid-19\\nPopulation estimates mid-2018\\nSource: Office for National Statistics licensed under the Open Government Licence\\nContains OS data © Crown copyright and database right 2019',\n",
    "    #            xy=(0.02, .08), xycoords='figure fraction',\n",
    "    #            horizontalalignment='left', verticalalignment='top',\n",
    "    #            fontsize='medium', color='black')\n",
    "\n",
    "    # Add legend\n",
    "    sm = plt.cm.ScalarMappable(\n",
    "        cmap=cmap, norm=plt.Normalize(vmin=0, vmax=variable.max()))\n",
    "    sm._A = []\n",
    "    cbar = fig.colorbar(sm)"
   ]
  },
  {
   "cell_type": "code",
   "execution_count": 39,
   "metadata": {
    "ExecuteTime": {
     "end_time": "2020-06-17T15:00:49.454976Z",
     "start_time": "2020-06-17T15:00:46.530504Z"
    }
   },
   "outputs": [
    {
     "ename": "ImportError",
     "evalue": "The descartes package is required for plotting polygons in geopandas. You can install it using 'conda install -c conda-forge descartes' or 'pip install descartes'.",
     "output_type": "error",
     "traceback": [
      "\u001b[0;31m---------------------------------------------------------------------------\u001b[0m",
      "\u001b[0;31mModuleNotFoundError\u001b[0m                       Traceback (most recent call last)",
      "\u001b[0;32m/anaconda3/envs/turingdatastores/lib/python3.6/site-packages/geopandas/plotting.py\u001b[0m in \u001b[0;36mplot_polygon_collection\u001b[0;34m(ax, geoms, values, color, cmap, vmin, vmax, **kwargs)\u001b[0m\n\u001b[1;32m     80\u001b[0m     \u001b[0;32mtry\u001b[0m\u001b[0;34m:\u001b[0m\u001b[0;34m\u001b[0m\u001b[0;34m\u001b[0m\u001b[0m\n\u001b[0;32m---> 81\u001b[0;31m         \u001b[0;32mfrom\u001b[0m \u001b[0mdescartes\u001b[0m\u001b[0;34m.\u001b[0m\u001b[0mpatch\u001b[0m \u001b[0;32mimport\u001b[0m \u001b[0mPolygonPatch\u001b[0m\u001b[0;34m\u001b[0m\u001b[0;34m\u001b[0m\u001b[0m\n\u001b[0m\u001b[1;32m     82\u001b[0m     \u001b[0;32mexcept\u001b[0m \u001b[0mImportError\u001b[0m\u001b[0;34m:\u001b[0m\u001b[0;34m\u001b[0m\u001b[0;34m\u001b[0m\u001b[0m\n",
      "\u001b[0;31mModuleNotFoundError\u001b[0m: No module named 'descartes'",
      "\nDuring handling of the above exception, another exception occurred:\n",
      "\u001b[0;31mImportError\u001b[0m                               Traceback (most recent call last)",
      "\u001b[0;32m<ipython-input-39-1c5fcec73a22>\u001b[0m in \u001b[0;36m<module>\u001b[0;34m\u001b[0m\n\u001b[1;32m      1\u001b[0m \u001b[0;31m# make mortality rate map\u001b[0m\u001b[0;34m\u001b[0m\u001b[0;34m\u001b[0m\u001b[0;34m\u001b[0m\u001b[0m\n\u001b[1;32m      2\u001b[0m show_map(mortality_geom_df, mortality_geom_df['COVID-19 rate'],\n\u001b[0;32m----> 3\u001b[0;31m          'COVID-19 Mortality Rate (per 100,000)', (12, 12), 'Greys')\n\u001b[0m",
      "\u001b[0;32m<ipython-input-38-af61bb27c8a8>\u001b[0m in \u001b[0;36mshow_map\u001b[0;34m(df, variable, title, size, cmap, limits)\u001b[0m\n\u001b[1;32m     10\u001b[0m \u001b[0;34m\u001b[0m\u001b[0m\n\u001b[1;32m     11\u001b[0m     \u001b[0;31m# Plot map\u001b[0m\u001b[0;34m\u001b[0m\u001b[0;34m\u001b[0m\u001b[0;34m\u001b[0m\u001b[0m\n\u001b[0;32m---> 12\u001b[0;31m     \u001b[0mdf\u001b[0m\u001b[0;34m.\u001b[0m\u001b[0mplot\u001b[0m\u001b[0;34m(\u001b[0m\u001b[0mcolumn\u001b[0m\u001b[0;34m=\u001b[0m\u001b[0mvariable\u001b[0m\u001b[0;34m,\u001b[0m \u001b[0mcmap\u001b[0m\u001b[0;34m=\u001b[0m\u001b[0mcmap\u001b[0m\u001b[0;34m,\u001b[0m \u001b[0mlinewidth\u001b[0m\u001b[0;34m=\u001b[0m\u001b[0;36m0.8\u001b[0m\u001b[0;34m,\u001b[0m \u001b[0max\u001b[0m\u001b[0;34m=\u001b[0m\u001b[0max\u001b[0m\u001b[0;34m,\u001b[0m \u001b[0medgecolor\u001b[0m\u001b[0;34m=\u001b[0m\u001b[0;34m'gray'\u001b[0m\u001b[0;34m)\u001b[0m\u001b[0;34m\u001b[0m\u001b[0;34m\u001b[0m\u001b[0m\n\u001b[0m\u001b[1;32m     13\u001b[0m \u001b[0;34m\u001b[0m\u001b[0m\n\u001b[1;32m     14\u001b[0m     \u001b[0;31m# Remove the axis\u001b[0m\u001b[0;34m\u001b[0m\u001b[0;34m\u001b[0m\u001b[0;34m\u001b[0m\u001b[0m\n",
      "\u001b[0;32m/anaconda3/envs/turingdatastores/lib/python3.6/site-packages/geopandas/geodataframe.py\u001b[0m in \u001b[0;36mplot\u001b[0;34m(self, *args, **kwargs)\u001b[0m\n\u001b[1;32m    654\u001b[0m         \u001b[0;32mfrom\u001b[0m \u001b[0mthere\u001b[0m\u001b[0;34m.\u001b[0m\u001b[0;34m\u001b[0m\u001b[0;34m\u001b[0m\u001b[0m\n\u001b[1;32m    655\u001b[0m         \"\"\"\n\u001b[0;32m--> 656\u001b[0;31m         \u001b[0;32mreturn\u001b[0m \u001b[0mplot_dataframe\u001b[0m\u001b[0;34m(\u001b[0m\u001b[0mself\u001b[0m\u001b[0;34m,\u001b[0m \u001b[0;34m*\u001b[0m\u001b[0margs\u001b[0m\u001b[0;34m,\u001b[0m \u001b[0;34m**\u001b[0m\u001b[0mkwargs\u001b[0m\u001b[0;34m)\u001b[0m\u001b[0;34m\u001b[0m\u001b[0;34m\u001b[0m\u001b[0m\n\u001b[0m\u001b[1;32m    657\u001b[0m \u001b[0;34m\u001b[0m\u001b[0m\n\u001b[1;32m    658\u001b[0m     \u001b[0mplot\u001b[0m\u001b[0;34m.\u001b[0m\u001b[0m__doc__\u001b[0m \u001b[0;34m=\u001b[0m \u001b[0mplot_dataframe\u001b[0m\u001b[0;34m.\u001b[0m\u001b[0m__doc__\u001b[0m\u001b[0;34m\u001b[0m\u001b[0;34m\u001b[0m\u001b[0m\n",
      "\u001b[0;32m/anaconda3/envs/turingdatastores/lib/python3.6/site-packages/geopandas/plotting.py\u001b[0m in \u001b[0;36mplot_dataframe\u001b[0;34m(df, column, cmap, color, ax, cax, categorical, legend, scheme, k, vmin, vmax, markersize, figsize, legend_kwds, classification_kwds, missing_kwds, **style_kwds)\u001b[0m\n\u001b[1;32m    618\u001b[0m     \u001b[0;32mif\u001b[0m \u001b[0;32mnot\u001b[0m \u001b[0mpolys\u001b[0m\u001b[0;34m.\u001b[0m\u001b[0mempty\u001b[0m\u001b[0;34m:\u001b[0m\u001b[0;34m\u001b[0m\u001b[0;34m\u001b[0m\u001b[0m\n\u001b[1;32m    619\u001b[0m         plot_polygon_collection(\n\u001b[0;32m--> 620\u001b[0;31m             \u001b[0max\u001b[0m\u001b[0;34m,\u001b[0m \u001b[0mpolys\u001b[0m\u001b[0;34m,\u001b[0m \u001b[0msubset\u001b[0m\u001b[0;34m,\u001b[0m \u001b[0mvmin\u001b[0m\u001b[0;34m=\u001b[0m\u001b[0mmn\u001b[0m\u001b[0;34m,\u001b[0m \u001b[0mvmax\u001b[0m\u001b[0;34m=\u001b[0m\u001b[0mmx\u001b[0m\u001b[0;34m,\u001b[0m \u001b[0mcmap\u001b[0m\u001b[0;34m=\u001b[0m\u001b[0mcmap\u001b[0m\u001b[0;34m,\u001b[0m \u001b[0;34m**\u001b[0m\u001b[0mstyle_kwds\u001b[0m\u001b[0;34m\u001b[0m\u001b[0;34m\u001b[0m\u001b[0m\n\u001b[0m\u001b[1;32m    621\u001b[0m         )\n\u001b[1;32m    622\u001b[0m \u001b[0;34m\u001b[0m\u001b[0m\n",
      "\u001b[0;32m/anaconda3/envs/turingdatastores/lib/python3.6/site-packages/geopandas/plotting.py\u001b[0m in \u001b[0;36mplot_polygon_collection\u001b[0;34m(ax, geoms, values, color, cmap, vmin, vmax, **kwargs)\u001b[0m\n\u001b[1;32m     82\u001b[0m     \u001b[0;32mexcept\u001b[0m \u001b[0mImportError\u001b[0m\u001b[0;34m:\u001b[0m\u001b[0;34m\u001b[0m\u001b[0;34m\u001b[0m\u001b[0m\n\u001b[1;32m     83\u001b[0m         raise ImportError(\n\u001b[0;32m---> 84\u001b[0;31m             \u001b[0;34m\"The descartes package is required for plotting polygons in geopandas. \"\u001b[0m\u001b[0;34m\u001b[0m\u001b[0;34m\u001b[0m\u001b[0m\n\u001b[0m\u001b[1;32m     85\u001b[0m             \u001b[0;34m\"You can install it using 'conda install -c conda-forge descartes' or \"\u001b[0m\u001b[0;34m\u001b[0m\u001b[0;34m\u001b[0m\u001b[0m\n\u001b[1;32m     86\u001b[0m             \u001b[0;34m\"'pip install descartes'.\"\u001b[0m\u001b[0;34m\u001b[0m\u001b[0;34m\u001b[0m\u001b[0m\n",
      "\u001b[0;31mImportError\u001b[0m: The descartes package is required for plotting polygons in geopandas. You can install it using 'conda install -c conda-forge descartes' or 'pip install descartes'."
     ]
    },
    {
     "data": {
      "image/png": "[encoded data removed]",
      "text/plain": [
       "<Figure size 864x864 with 1 Axes>"
      ]
     },
     "metadata": {},
     "output_type": "display_data"
    }
   ],
   "source": [
    "# make mortality rate map\n",
    "show_map(mortality_geom_df, mortality_geom_df['COVID-19 rate'],\n",
    "         'COVID-19 Mortality Rate (per 100,000)', (12, 12), 'Greys')"
   ]
  },
  {
   "cell_type": "markdown",
   "metadata": {},
   "source": [
    "Looks reasonable when compared with Figure 3 from the [ONS publication](https://www.ons.gov.uk/peoplepopulationandcommunity/birthsdeathsandmarriages/deaths/bulletins/deathsinvolvingcovid19bylocalareasanddeprivation/deathsoccurringbetween1marchand17april)."
   ]
  },
  {
   "cell_type": "markdown",
   "metadata": {
    "ExecuteTime": {
     "end_time": "2020-06-04T16:13:03.545307Z",
     "start_time": "2020-06-04T16:13:03.543118Z"
    }
   },
   "source": [
    "# Study 3 - Mortality by Depravation"
   ]
  },
  {
   "cell_type": "code",
   "execution_count": 40,
   "metadata": {
    "ExecuteTime": {
     "end_time": "2020-06-17T15:00:49.934293Z",
     "start_time": "2020-06-17T15:00:49.456208Z"
    }
   },
   "outputs": [
    {
     "data": {
      "image/png": "[encoded data removed]",
      "text/plain": [
       "<Figure size 1080x360 with 2 Axes>"
      ]
     },
     "metadata": {},
     "output_type": "display_data"
    }
   ],
   "source": [
    "plt.figure(figsize=(15,5))\n",
    "\n",
    "plt.subplot(121)\n",
    "sns.regplot(x='Mean IMD decile', y='All causes rate', data=total_deaths_df)\n",
    "plt.ylabel('All Causes Mortality decile', fontsize=14)\n",
    "plt.xlabel('Mean IMD Rank', fontsize=14)\n",
    "\n",
    "plt.subplot(122)\n",
    "sns.regplot(x='Mean IMD decile', y='COVID-19 rate', data=total_deaths_df)\n",
    "plt.ylabel('COVID Mortality decile', fontsize=14)\n",
    "plt.xlabel('Mean IMD Rank', fontsize=14)\n",
    "\n",
    "plt.show()"
   ]
  },
  {
   "cell_type": "code",
   "execution_count": 51,
   "metadata": {},
   "outputs": [
    {
     "data": {
      "text/html": [
       "<div>\n",
       "<style scoped>\n",
       "    .dataframe tbody tr th:only-of-type {\n",
       "        vertical-align: middle;\n",
       "    }\n",
       "\n",
       "    .dataframe tbody tr th {\n",
       "        vertical-align: top;\n",
       "    }\n",
       "\n",
       "    .dataframe thead th {\n",
       "        text-align: right;\n",
       "    }\n",
       "</style>\n",
       "<table border=\"1\" class=\"dataframe\">\n",
       "  <thead>\n",
       "    <tr style=\"text-align: right;\">\n",
       "      <th></th>\n",
       "      <th>Total deaths</th>\n",
       "      <th>COVID deaths</th>\n",
       "      <th>Non COVID deaths</th>\n",
       "      <th>COVID-19 rate</th>\n",
       "      <th>All causes rate</th>\n",
       "      <th>Mean IMD decile</th>\n",
       "    </tr>\n",
       "    <tr>\n",
       "      <th></th>\n",
       "      <th></th>\n",
       "      <th></th>\n",
       "      <th></th>\n",
       "      <th></th>\n",
       "      <th></th>\n",
       "      <th></th>\n",
       "    </tr>\n",
       "  </thead>\n",
       "  <tbody>\n",
       "    <tr>\n",
       "      <th>Total deaths</th>\n",
       "      <td>1.000000</td>\n",
       "      <td>0.848577</td>\n",
       "      <td>0.987026</td>\n",
       "      <td>0.308160</td>\n",
       "      <td>0.382259</td>\n",
       "      <td>-0.390912</td>\n",
       "    </tr>\n",
       "    <tr>\n",
       "      <th>COVID deaths</th>\n",
       "      <td>0.848577</td>\n",
       "      <td>1.000000</td>\n",
       "      <td>0.752621</td>\n",
       "      <td>0.692164</td>\n",
       "      <td>0.570563</td>\n",
       "      <td>-0.368169</td>\n",
       "    </tr>\n",
       "    <tr>\n",
       "      <th>Non COVID deaths</th>\n",
       "      <td>0.987026</td>\n",
       "      <td>0.752621</td>\n",
       "      <td>1.000000</td>\n",
       "      <td>0.173466</td>\n",
       "      <td>0.302589</td>\n",
       "      <td>-0.374779</td>\n",
       "    </tr>\n",
       "    <tr>\n",
       "      <th>COVID-19 rate</th>\n",
       "      <td>0.308160</td>\n",
       "      <td>0.692164</td>\n",
       "      <td>0.173466</td>\n",
       "      <td>1.000000</td>\n",
       "      <td>0.773961</td>\n",
       "      <td>-0.356464</td>\n",
       "    </tr>\n",
       "    <tr>\n",
       "      <th>All causes rate</th>\n",
       "      <td>0.382259</td>\n",
       "      <td>0.570563</td>\n",
       "      <td>0.302589</td>\n",
       "      <td>0.773961</td>\n",
       "      <td>1.000000</td>\n",
       "      <td>-0.683448</td>\n",
       "    </tr>\n",
       "    <tr>\n",
       "      <th>Mean IMD decile</th>\n",
       "      <td>-0.390912</td>\n",
       "      <td>-0.368169</td>\n",
       "      <td>-0.374779</td>\n",
       "      <td>-0.356464</td>\n",
       "      <td>-0.683448</td>\n",
       "      <td>1.000000</td>\n",
       "    </tr>\n",
       "  </tbody>\n",
       "</table>\n",
       "</div>"
      ],
      "text/plain": [
       "                  Total deaths  COVID deaths  Non COVID deaths  COVID-19 rate  \\\n",
       "                                                                                \n",
       "Total deaths          1.000000      0.848577          0.987026       0.308160   \n",
       "COVID deaths          0.848577      1.000000          0.752621       0.692164   \n",
       "Non COVID deaths      0.987026      0.752621          1.000000       0.173466   \n",
       "COVID-19 rate         0.308160      0.692164          0.173466       1.000000   \n",
       "All causes rate       0.382259      0.570563          0.302589       0.773961   \n",
       "Mean IMD decile      -0.390912     -0.368169         -0.374779      -0.356464   \n",
       "\n",
       "                  All causes rate  Mean IMD decile  \n",
       "                                                    \n",
       "Total deaths             0.382259        -0.390912  \n",
       "COVID deaths             0.570563        -0.368169  \n",
       "Non COVID deaths         0.302589        -0.374779  \n",
       "COVID-19 rate            0.773961        -0.356464  \n",
       "All causes rate          1.000000        -0.683448  \n",
       "Mean IMD decile         -0.683448         1.000000  "
      ]
     },
     "execution_count": 51,
     "metadata": {},
     "output_type": "execute_result"
    }
   ],
   "source": [
    "total_deaths_df.corr()"
   ]
  },
  {
   "cell_type": "markdown",
   "metadata": {},
   "source": [
    "## Splitting By Time\n",
    "\n",
    "Start by splitting up the data into two ranges. The first is from January up until 3 weeks after lockdown - 2020-04-13 (need to justify). The second half is from 2020-04-13 until June (end of the data)"
   ]
  },
  {
   "cell_type": "code",
   "execution_count": 41,
   "metadata": {
    "ExecuteTime": {
     "end_time": "2020-06-17T15:00:49.974164Z",
     "start_time": "2020-06-17T15:00:49.936641Z"
    }
   },
   "outputs": [],
   "source": [
    "first_df = filter_date_and_aggregate(mortality_sum_df, ('2020-01-01', '2020-04-13'))\n",
    "first_df['period'] = 1\n",
    "\n",
    "second_df = filter_date_and_aggregate(mortality_sum_df, ('2020-04-13', '2020-06-01'))\n",
    "second_df['period'] = 2\n",
    "\n",
    "all_df = pd.concat([first_df,second_df])"
   ]
  },
  {
   "cell_type": "markdown",
   "metadata": {},
   "source": [
    "Make box and whisker plots:"
   ]
  },
  {
   "cell_type": "code",
   "execution_count": 42,
   "metadata": {
    "ExecuteTime": {
     "end_time": "2020-06-17T15:00:50.230064Z",
     "start_time": "2020-06-17T15:00:49.976234Z"
    }
   },
   "outputs": [
    {
     "data": {
      "text/plain": [
       "<matplotlib.axes._subplots.AxesSubplot at 0x12fd4c2e8>"
      ]
     },
     "execution_count": 42,
     "metadata": {},
     "output_type": "execute_result"
    },
    {
     "data": {
      "image/png": "[encoded data removed]",
      "text/plain": [
       "<Figure size 1440x576 with 1 Axes>"
      ]
     },
     "metadata": {},
     "output_type": "display_data"
    }
   ],
   "source": [
    "figure = plt.figure(figsize=(20,8))\n",
    "first_df['Mean IMD decile binned'] = pd.cut(first_df['Mean IMD decile'], bins=range(1, 11, 2))\n",
    "sns.boxplot(x=\"Mean IMD decile binned\", y=\"COVID-19 rate\", data=first_df)"
   ]
  },
  {
   "cell_type": "code",
   "execution_count": 43,
   "metadata": {
    "ExecuteTime": {
     "end_time": "2020-06-17T15:00:50.476010Z",
     "start_time": "2020-06-17T15:00:50.231954Z"
    }
   },
   "outputs": [
    {
     "data": {
      "text/plain": [
       "<matplotlib.axes._subplots.AxesSubplot at 0x12a8efda0>"
      ]
     },
     "execution_count": 43,
     "metadata": {},
     "output_type": "execute_result"
    },
    {
     "data": {
      "image/png": "[encoded data removed]",
      "text/plain": [
       "<Figure size 1440x576 with 1 Axes>"
      ]
     },
     "metadata": {},
     "output_type": "display_data"
    }
   ],
   "source": [
    "figure = plt.figure(figsize=(20,8))\n",
    "second_df['Mean IMD decile binned'] = pd.cut(second_df['Mean IMD decile'], bins=range(1, 11, 2))\n",
    "sns.boxplot(x=\"Mean IMD decile binned\", y=\"COVID-19 rate\", data=second_df)"
   ]
  },
  {
   "cell_type": "code",
   "execution_count": 44,
   "metadata": {},
   "outputs": [
    {
     "data": {
      "text/plain": [
       "<matplotlib.axes._subplots.AxesSubplot at 0x12a85e208>"
      ]
     },
     "execution_count": 44,
     "metadata": {},
     "output_type": "execute_result"
    },
    {
     "data": {
      "image/png": "[encoded data removed]",
      "text/plain": [
       "<Figure size 1440x576 with 1 Axes>"
      ]
     },
     "metadata": {},
     "output_type": "display_data"
    }
   ],
   "source": [
    "figure = plt.figure(figsize=(20,8))\n",
    "all_df['Mean IMD decile binned'] = pd.cut(all_df['Mean IMD decile'], bins=range(1, 11, 2))\n",
    "sns.boxplot(x=\"Mean IMD decile binned\", y=\"COVID-19 rate\", data=all_df, hue='period')"
   ]
  },
  {
   "cell_type": "code",
   "execution_count": 45,
   "metadata": {},
   "outputs": [
    {
     "data": {
      "text/plain": [
       "15354"
      ]
     },
     "execution_count": 45,
     "metadata": {},
     "output_type": "execute_result"
    }
   ],
   "source": [
    "second_df['COVID deaths'].sum()"
   ]
  },
  {
   "cell_type": "code",
   "execution_count": 46,
   "metadata": {},
   "outputs": [
    {
     "data": {
      "text/plain": [
       "12730"
      ]
     },
     "execution_count": 46,
     "metadata": {},
     "output_type": "execute_result"
    }
   ],
   "source": [
    "first_df['COVID deaths'].sum()"
   ]
  },
  {
   "cell_type": "code",
   "execution_count": null,
   "metadata": {},
   "outputs": [],
   "source": []
  }
 ],
 "metadata": {
  "kernelspec": {
   "display_name": "Python turingdatastories",
   "language": "python",
   "name": "turingdatastories"
  },
  "language_info": {
   "codemirror_mode": {
    "name": "ipython",
    "version": 3
   },
   "file_extension": ".py",
   "mimetype": "text/x-python",
   "name": "python",
   "nbconvert_exporter": "python",
   "pygments_lexer": "ipython3",
   "version": "3.6.10"
  },
  "latex_envs": {
   "LaTeX_envs_menu_present": true,
   "autoclose": false,
   "autocomplete": true,
   "bibliofile": "biblio.bib",
   "cite_by": "apalike",
   "current_citInitial": 1,
   "eqLabelWithNumbers": true,
   "eqNumInitial": 1,
   "hotkeys": {
    "equation": "Ctrl-E",
    "itemize": "Ctrl-I"
   },
   "labels_anchors": false,
   "latex_user_defs": false,
   "report_style_numbering": false,
   "user_envs_cfg": false
  },
  "toc": {
   "base_numbering": 1,
   "nav_menu": {},
   "number_sections": true,
   "sideBar": true,
   "skip_h1_title": false,
   "title_cell": "Table of Contents",
   "title_sidebar": "Contents",
   "toc_cell": false,
   "toc_position": {
    "height": "calc(100% - 180px)",
    "left": "10px",
    "top": "150px",
    "width": "235.6px"
   },
   "toc_section_display": true,
   "toc_window_display": true
  }
 },
 "nbformat": 4,
 "nbformat_minor": 4
}
