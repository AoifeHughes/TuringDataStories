{
 "cells": [
  {
   "cell_type": "markdown",
   "metadata": {},
   "source": [
    "# Desert Island Discs: Famous people and their musical tastes\n",
    "\n",
    "\n",
    "> As the iconic BBC radio programme turns 80, we explore notable people and the music that tells the stories of their lives.\n",
    "\n",
    "- toc: false\n",
    "- authors: Helen Duncan, Bill Finnegan, Luke Hare, Camila Rangel Smith, Sam Van Stroud\n",
    "- categories: [data exploration, data wrangling, data visualisation, digital humanities]\n",
    "- image: images/story_previews/<file here>\n",
    "\n",
    "**Authors:**\n",
    "- Helen Duncan\n",
    "- Bill Finnegan\n",
    "- Luke Hare\n",
    "- Camila Rangel Smith\n",
    "- Sam Van Stroud\n",
    "\n",
    "**Reviewers:**\n",
    "Ed Chalstrey\n",
    "Markus Hauru\n",
    "\n",
    "**Summary:**\n",
    "\n",
    "[Desert Island Discs](https://www.bbc.co.uk/programmes/b006qnmr) is a long-running BBC radio programme and has become an invaluable archive of notable people and musical tastes over the past eight decades. This data story combines a new public dataset of all the guests and their musical selections extracted from the BBC archive with open datasets on people and music from Wikipedia and Spotify. We explore aspects of the people and music over time as well as the relationships between people and music through network analysis."
   ]
  },
  {
   "cell_type": "markdown",
   "metadata": {},
   "source": [
    "# Background\n",
    "\n",
    "In 1942, a new programme appeared on the airwaves of the BBC that was created and presented by Roy Plomley. The format was simple – a guest shared eight songs that they would want to be stuck with for the rest of their life if exiled to a desert island. After a hiatus from 1946 to 1951, the programme returned with some new innovations: at the end of each episode the castaway chooses a book, a luxury, and one song to save from the waves. The show was hosted by Plomley until his death in 1985, followed by Michael Parkinson, Sue Lawley, Kirsty Young, and Lauren Laverne. \n",
    "\n",
    "Now considered a [cultural touchstone](https://global.oup.com/academic/product/defining-the-discographic-self-9780197266175?cc=gb&lang=en&), there have been over 3,200 episodes of Desert Island Discs. An invitation to be castaway is a sign of success in your field, whether that is art, academia, business, government or sport. Most episodes feature a single castaway, but sometimes multiple guests are castaway together, especially double acts like Morecambe and Wise or Ant and Dec. 8% of castaways have appeared on the show more than once, with national treasure David Attenborough sharing a record four appearances with comedian/actor Arthur Askey. "
   ]
  },
  {
   "cell_type": "markdown",
   "metadata": {},
   "source": [
    "# Data\n",
    "\n",
    "[Andrew Gustar](https://twitter.com/andrewgustar), who conducts statistical research into music history, compiled a dataset of castaways and discs from the BBC Radio 4 archive. This data, which is now [available online](https://hcommons.org/deposits/item/hc:37503/), was the basis for Andrew's [analysis](https://www.musichistorystats.com/desert-island-discs/) exploring the most popular songs and artists, as well as the gender of the castaways. This data story includes information about an additional 60 episodes from February 2020 to August 2021 (gathered from [Wikipedia](https://en.wikipedia.org/wiki/List_of_Desert_Island_Discs_episodes) and the [BBC website](https://www.bbc.co.uk/programmes/b006qnmr/episodes/player)). It also combines the episode data with additional information about people and music. For people, we are using [Wikidata](https://www.wikidata.org/wiki/Wikidata:Main_Page), a repository of structured data from Wikipedia. For music, we are using [Spotify](https://developer.spotify.com/) to get genre and other information about selected tunes.\n",
    "\n",
    "Rather get into the details of how we pulled this dataset together, we want to keep this data story focused on the data analysis. The source code for the `wikipeople` package is available [on Github](https://github.com/samvanstroud/wikipeople), and the package is also on [PyPI](https://pypi.org/project/wikipeople/). It also takes a few hours to run all the requests for all the castaways and discs in our dataset, so we’ve done this once, and published the resulting dataset online. You can reproduce our work or just download the combined data at [Humanities Commons](https://hcommons.org/deposits/item/hc:42511/).\n"
   ]
  },
  {
   "cell_type": "markdown",
   "metadata": {},
   "source": [
    "## Python setup\n",
    "Let's get started by importing the packages that we'll need for this story."
   ]
  },
  {
   "cell_type": "code",
   "execution_count": 1,
   "metadata": {
    "ExecuteTime": {
     "end_time": "2022-03-04T10:38:06.250076Z",
     "start_time": "2022-03-04T10:38:04.272373Z"
    }
   },
   "outputs": [],
   "source": [
    "import ast\n",
    "import collections\n",
    "import itertools\n",
    "\n",
    "import matplotlib.pyplot as plt\n",
    "import networkx as nx\n",
    "import numpy as np\n",
    "import pandas as pd\n",
    "import pycountry as pc\n",
    "import pycountry_convert as pcc\n",
    "import seaborn as sns\n",
    "from scipy import stats\n",
    "\n",
    "sns.set()"
   ]
  },
  {
   "cell_type": "markdown",
   "metadata": {},
   "source": [
    "## Loading the data"
   ]
  },
  {
   "cell_type": "code",
   "execution_count": 2,
   "metadata": {
    "ExecuteTime": {
     "end_time": "2022-03-04T10:38:15.200710Z",
     "start_time": "2022-03-04T10:38:06.252330Z"
    }
   },
   "outputs": [
    {
     "data": {
      "text/html": [
       "<div>\n",
       "<style scoped>\n",
       "    .dataframe tbody tr th:only-of-type {\n",
       "        vertical-align: middle;\n",
       "    }\n",
       "\n",
       "    .dataframe tbody tr th {\n",
       "        vertical-align: top;\n",
       "    }\n",
       "\n",
       "    .dataframe thead th {\n",
       "        text-align: right;\n",
       "    }\n",
       "</style>\n",
       "<table border=\"1\" class=\"dataframe\">\n",
       "  <thead>\n",
       "    <tr style=\"text-align: right;\">\n",
       "      <th></th>\n",
       "      <th>episode_ref</th>\n",
       "      <th>date</th>\n",
       "      <th>castaway_ref</th>\n",
       "      <th>name</th>\n",
       "      <th>std_name</th>\n",
       "      <th>gender</th>\n",
       "      <th>profession</th>\n",
       "      <th>country_of_citizenship</th>\n",
       "      <th>place_of_birth</th>\n",
       "      <th>country_of_birth</th>\n",
       "      <th>date_of_birth</th>\n",
       "      <th>favTrack</th>\n",
       "      <th>luxury</th>\n",
       "      <th>book</th>\n",
       "      <th>wiki_link</th>\n",
       "      <th>link</th>\n",
       "      <th>year</th>\n",
       "    </tr>\n",
       "  </thead>\n",
       "  <tbody>\n",
       "    <tr>\n",
       "      <th>0</th>\n",
       "      <td>2828</td>\n",
       "      <td>1942-01-29</td>\n",
       "      <td>2855</td>\n",
       "      <td>Vic Oliver</td>\n",
       "      <td>vic oliver</td>\n",
       "      <td>male</td>\n",
       "      <td>['actor', 'performing artist', 'artist', 'prof...</td>\n",
       "      <td>Austria-Hungary</td>\n",
       "      <td>Vienna</td>\n",
       "      <td>Austria</td>\n",
       "      <td>1898-07-08</td>\n",
       "      <td>NA by NA</td>\n",
       "      <td>NaN</td>\n",
       "      <td>NaN</td>\n",
       "      <td>https://en.wikipedia.org/wiki/Vic_Oliver</td>\n",
       "      <td>https://www.bbc.co.uk/programmes/p009y0nq</td>\n",
       "      <td>1942</td>\n",
       "    </tr>\n",
       "  </tbody>\n",
       "</table>\n",
       "</div>"
      ],
      "text/plain": [
       "   episode_ref       date  castaway_ref        name    std_name gender  \\\n",
       "0         2828 1942-01-29          2855  Vic Oliver  vic oliver   male   \n",
       "\n",
       "                                          profession country_of_citizenship  \\\n",
       "0  ['actor', 'performing artist', 'artist', 'prof...        Austria-Hungary   \n",
       "\n",
       "  place_of_birth country_of_birth date_of_birth  favTrack luxury book  \\\n",
       "0         Vienna          Austria    1898-07-08  NA by NA    NaN  NaN   \n",
       "\n",
       "                                  wiki_link  \\\n",
       "0  https://en.wikipedia.org/wiki/Vic_Oliver   \n",
       "\n",
       "                                        link  year  \n",
       "0  https://www.bbc.co.uk/programmes/p009y0nq  1942  "
      ]
     },
     "execution_count": 2,
     "metadata": {},
     "output_type": "execute_result"
    }
   ],
   "source": [
    "hc_data_url = (\n",
    "    \"https://hcommons.org/deposits/download/hc:42512/CONTENT/desert_island_disks.xlsx\"\n",
    ")\n",
    "castaways_df = pd.read_excel(\n",
    "    hc_data_url,\n",
    "    sheet_name=\"castaways\",\n",
    "    parse_dates=[\"date\", \"date_of_birth\"],\n",
    "    index_col=0,\n",
    ")  # castaways, discs, spotify_data\n",
    "castaways_df[\"year\"] = [i.year for i in castaways_df[\"date\"].dt.date]\n",
    "castaways_df.head(1)"
   ]
  },
  {
   "cell_type": "markdown",
   "metadata": {},
   "source": [
    "# Episodes\n",
    "\n",
    "Our dataset runs from January 1942 through to August 2021, when the programme took a break for the summer. We can use the episode and castaway reference numbers to get the totals for each."
   ]
  },
  {
   "cell_type": "code",
   "execution_count": 3,
   "metadata": {
    "ExecuteTime": {
     "end_time": "2022-03-04T10:38:15.213554Z",
     "start_time": "2022-03-04T10:38:15.203655Z"
    }
   },
   "outputs": [
    {
     "name": "stdout",
     "output_type": "stream",
     "text": [
      "3211\n",
      "2950\n",
      "241\n"
     ]
    }
   ],
   "source": [
    "print(castaways_df[\"episode_ref\"].nunique())\n",
    "print(castaways_df[\"castaway_ref\"].nunique())\n",
    "\n",
    "castaway_count = castaways_df[\"castaway_ref\"].value_counts().to_frame()\n",
    "print(len(castaway_count[(castaway_count[\"castaway_ref\"] > 1)]))"
   ]
  },
  {
   "cell_type": "markdown",
   "metadata": {},
   "source": [
    "So over the course of 3,211 episodes, we've had 2,950 castaways, with 241 people appearing on the programme more than once. "
   ]
  },
  {
   "cell_type": "code",
   "execution_count": 4,
   "metadata": {
    "ExecuteTime": {
     "end_time": "2022-03-04T10:38:15.584487Z",
     "start_time": "2022-03-04T10:38:15.215542Z"
    }
   },
   "outputs": [
    {
     "data": {
      "image/png": "[encoded data removed]",
      "text/plain": [
       "<Figure size 1200x300 with 1 Axes>"
      ]
     },
     "metadata": {},
     "output_type": "display_data"
    }
   ],
   "source": [
    "hosts = [\n",
    "    (\"Roy Plomley\", \"29/01/1942\", \"11/05/1985\"),\n",
    "    (\"Michael Parkinson\", \"05/01/1986\", \"13/03/1988\"),\n",
    "    (\"Sue Lawley\", \"27/03/1988\", \"27/08/2006\"),\n",
    "    (\"Kirsty Young\", \"01/10/2006\", \"28/09/2018\"),\n",
    "    (\"Lauren Laverne\", \"05/10/2018\", None),\n",
    "]\n",
    "\n",
    "fig = plt.figure(figsize=(12, 3), dpi=100)\n",
    "\n",
    "n_bins = castaways_df.year.max() - castaways_df.year.min() + 1\n",
    "bins = np.linspace(castaways_df.year.min(), castaways_df.year.max() + 1, n_bins + 1)\n",
    "plt.hist(castaways_df.year, bins=bins, color=sns.color_palette(\"Paired\", 10)[5])\n",
    "\n",
    "_, ymax = plt.ylim()\n",
    "for host in hosts:\n",
    "    year = pd.to_datetime(host[1], infer_datetime_format=True).year\n",
    "    plt.plot([year, year], [0, ymax * 1.2], color=\"black\", ls=\"solid\")\n",
    "    if host[0] == \"Michael Parkinson\":\n",
    "        plt.annotate(host[0].replace(\" \", \"\\n\"), xy=(year - 8, ymax))\n",
    "    else:\n",
    "        plt.annotate(host[0].replace(\" \", \"\\n\"), xy=(year + 0.5, ymax))\n",
    "\n",
    "plt.xlabel(\"Year\", fontweight=\"bold\")\n",
    "plt.ylabel(\"Number of shows\", fontweight=\"bold\")\n",
    "plt.grid(False)\n",
    "plt.show()"
   ]
  },
  {
   "cell_type": "markdown",
   "metadata": {},
   "source": [
    "Plotting the episodes, you can immediately see the long run of the programme, minus a small hiatus after WWII. This plot also illustrates the long period of time that Plomley served as host, which accounts for the majority of episodes."
   ]
  },
  {
   "cell_type": "markdown",
   "metadata": {},
   "source": [
    "# Castaways"
   ]
  },
  {
   "cell_type": "markdown",
   "metadata": {},
   "source": [
    "## Plotting functions\n",
    "\n",
    "In order to look at the castaways who have been on the show in more detail, lets define some functions. These will help us to aggregate episodes in the same year, and then plot summary metrics as a function of year."
   ]
  },
  {
   "cell_type": "code",
   "execution_count": 5,
   "metadata": {
    "ExecuteTime": {
     "end_time": "2022-03-04T10:38:15.649677Z",
     "start_time": "2022-03-04T10:38:15.586086Z"
    }
   },
   "outputs": [],
   "source": [
    "# functions to help make stacked plots over time\n",
    "\n",
    "\n",
    "def normalize_rows(df):\n",
    "    df = df.div(df.sum(axis=1), axis=0)\n",
    "    df = df.fillna(0)\n",
    "\n",
    "    return df\n",
    "\n",
    "\n",
    "def cumulative_columns(df):\n",
    "    \"\"\"\n",
    "    Loop through columns and calculate running totals\n",
    "    per row.\n",
    "    \"\"\"\n",
    "\n",
    "    # for each column (except the first)\n",
    "    for i, col in enumerate(df):\n",
    "        if i == 0:\n",
    "            continue\n",
    "\n",
    "        # add the previous column to this column\n",
    "        df[col] += df[df.columns[i - 1]]\n",
    "\n",
    "    return df\n",
    "\n",
    "\n",
    "def moving_average(df, n=3):\n",
    "    df = df.rolling(window=n).mean()  # moving average\n",
    "    df = df.dropna(how=\"all\")  # drop lost columns\n",
    "\n",
    "    return df\n",
    "\n",
    "\n",
    "def make_timeplot(\n",
    "    df, ymin=0, horiz_line_y=0, leg_title=\"\", y_title=\"Fraction of Castaways\"\n",
    "):\n",
    "    c = sns.color_palette(\"Paired\", max(4, len(df.columns)))\n",
    "\n",
    "    plt.figure(figsize=(10, 3), dpi=100)\n",
    "    plt.gca().set_facecolor(c[0])\n",
    "    xs = df.index\n",
    "\n",
    "    for i, col in enumerate(reversed(df.columns)):\n",
    "        plt.fill_between(\n",
    "            xs, df[col], interpolate=False, color=c[i], label=col, alpha=1.0\n",
    "        )\n",
    "\n",
    "    if horiz_line_y > 0:\n",
    "        plt.plot(\n",
    "            plt.xlim(),\n",
    "            [horiz_line_y, horiz_line_y],\n",
    "            color=\"black\",\n",
    "            ls=((0, (10, 5))),\n",
    "            lw=1.5,\n",
    "        )\n",
    "\n",
    "    plt.xlabel(\"Year\", fontsize=10, fontweight=\"bold\")\n",
    "    plt.ylabel(y_title, fontsize=10, fontweight=\"bold\")\n",
    "\n",
    "    plt.xticks(fontsize=10)\n",
    "    plt.yticks(fontsize=10)\n",
    "\n",
    "    plt.xlim(df.index[0], df.index[-1])\n",
    "    plt.ylim(ymin, 1)\n",
    "    leg = plt.legend(\n",
    "        loc=\"upper left\",\n",
    "        bbox_to_anchor=(1.01, 1.01),\n",
    "        fontsize=10,\n",
    "        facecolor=\"white\",\n",
    "        frameon=True,\n",
    "        framealpha=1,\n",
    "        edgecolor=\"white\",\n",
    "    )\n",
    "    leg.set_title(\n",
    "        leg_title, prop={\"size\": 10, \"weight\": \"bold\", \"family\": \"sans-serif\"}\n",
    "    )\n",
    "    leg._legend_box.align = \"left\"\n",
    "\n",
    "    plt.show()"
   ]
  },
  {
   "cell_type": "markdown",
   "metadata": {},
   "source": [
    "## Gender\n",
    "\n",
    "Now we have these functions to make the plots we need, we can first take a look at the distribution of gender through time."
   ]
  },
  {
   "cell_type": "code",
   "execution_count": 6,
   "metadata": {
    "ExecuteTime": {
     "end_time": "2022-03-04T10:38:15.846136Z",
     "start_time": "2022-03-04T10:38:15.651924Z"
    }
   },
   "outputs": [
    {
     "data": {
      "image/png": "[encoded data removed]",
      "text/plain": [
       "<Figure size 1000x300 with 1 Axes>"
      ]
     },
     "metadata": {},
     "output_type": "display_data"
    }
   ],
   "source": [
    "gender_df = pd.pivot_table(\n",
    "    castaways_df, columns=\"gender\", index=\"year\", values=\"date\", aggfunc=\"count\"\n",
    ")\n",
    "gender_df = normalize_rows(gender_df)\n",
    "gender_df = gender_df[[\"male\", \"female\"]]\n",
    "gender_df = cumulative_columns(gender_df)\n",
    "make_timeplot(gender_df, horiz_line_y=0.5, leg_title=\"Gender\")"
   ]
  },
  {
   "cell_type": "markdown",
   "metadata": {},
   "source": [
    "Okay, there are a few things to notice here. The first is that, throughout the bulk of the show's long history, there have been significantly more male castaways than female. But the plot is very spikey, demonstrating that from year to year the gender ratio of castaways on the show fluctuates by an appreciable amount. Since we are interested in looking at trends over several years, and not differences between consecutive years, lets try smoothing this plot by using a [moving average](https://en.wikipedia.org/wiki/Moving_average) of 5 years."
   ]
  },
  {
   "cell_type": "code",
   "execution_count": 7,
   "metadata": {
    "ExecuteTime": {
     "end_time": "2022-03-04T10:38:16.049152Z",
     "start_time": "2022-03-04T10:38:15.848399Z"
    }
   },
   "outputs": [
    {
     "data": {
      "image/png": "[encoded data removed]",
      "text/plain": [
       "<Figure size 1000x300 with 1 Axes>"
      ]
     },
     "metadata": {},
     "output_type": "display_data"
    }
   ],
   "source": [
    "make_timeplot(moving_average(gender_df, n=5), horiz_line_y=0.5, leg_title=\"Gender\")"
   ]
  },
  {
   "cell_type": "markdown",
   "metadata": {},
   "source": [
    "The smoothed plot confirms the observation that the show has had significantly more males than females. \n",
    "\n",
    "Around 1950, it looks as though there was a much more equal split between men and women. However, this conclusion is drawn a bit hurriedly. If we look at the number of episodes per year around this time, we see that the show was actually off the air for several years around this period. There was also a year (1946), where only one episode aired, and the castaway was female (actress [Barbara Mullen](https://www.bbc.co.uk/programmes/p009y00q)). As we are giving each year equal visual weight with our plot, the show looks more balanced in terms of gender at it's inception than it was. \n",
    "\n",
    "From the beginning of the show, up until the early 2010s, there were about 3/4 male castaways and 1/4 female castaways. A little after 2010, we see a qualitative shift, and the split between males and females quickly becomes much more even. The suddenness of this change suggests it was a active decision taken by the producers of the show. The fact that this happened relatively recently is perhaps surprising."
   ]
  },
  {
   "cell_type": "code",
   "execution_count": 8,
   "metadata": {
    "ExecuteTime": {
     "end_time": "2022-03-04T10:38:16.059799Z",
     "start_time": "2022-03-04T10:38:16.053102Z"
    }
   },
   "outputs": [
    {
     "name": "stdout",
     "output_type": "stream",
     "text": [
      "Percentages of different genders, integrated over time\n"
     ]
    },
    {
     "data": {
      "text/plain": [
       "male                  68.6\n",
       "female                29.7\n",
       "NaN                    1.6\n",
       "transgender female     0.1\n",
       "Name: gender, dtype: float64"
      ]
     },
     "execution_count": 8,
     "metadata": {},
     "output_type": "execute_result"
    }
   ],
   "source": [
    "print(\"Percentages of different genders, integrated over time\")\n",
    "round(castaways_df[\"gender\"].value_counts(dropna=False) / len(castaways_df) * 100, 1)"
   ]
  },
  {
   "cell_type": "markdown",
   "metadata": {},
   "source": [
    "Finally, it's worth noting that since Wikipedia does not have information on every castaway, we are missing information on some castaways. In this case, we don't have a gender for 1.6% of castaways."
   ]
  },
  {
   "cell_type": "markdown",
   "metadata": {},
   "source": [
    "## Age\n",
    "\n",
    "We might also wonder whether the age of castaways (at the time of them appearing on the show) has changed over time. For example, might recent guests on the show be younger to appeal to a younger demographic of listeners?\n",
    "\n",
    "Using the date of birth of the castaway from Wikidata, and the broadcast date of the episode, we can calculate how old the castaways were when they were on the show."
   ]
  },
  {
   "cell_type": "code",
   "execution_count": 9,
   "metadata": {
    "ExecuteTime": {
     "end_time": "2022-03-04T10:38:16.084095Z",
     "start_time": "2022-03-04T10:38:16.063303Z"
    }
   },
   "outputs": [
    {
     "data": {
      "text/html": [
       "<div>\n",
       "<style scoped>\n",
       "    .dataframe tbody tr th:only-of-type {\n",
       "        vertical-align: middle;\n",
       "    }\n",
       "\n",
       "    .dataframe tbody tr th {\n",
       "        vertical-align: top;\n",
       "    }\n",
       "\n",
       "    .dataframe thead th {\n",
       "        text-align: right;\n",
       "    }\n",
       "</style>\n",
       "<table border=\"1\" class=\"dataframe\">\n",
       "  <thead>\n",
       "    <tr style=\"text-align: right;\">\n",
       "      <th></th>\n",
       "      <th>name</th>\n",
       "      <th>std_name</th>\n",
       "      <th>gender</th>\n",
       "      <th>date</th>\n",
       "      <th>date_of_birth</th>\n",
       "      <th>year</th>\n",
       "      <th>age</th>\n",
       "    </tr>\n",
       "  </thead>\n",
       "  <tbody>\n",
       "    <tr>\n",
       "      <th>0</th>\n",
       "      <td>Vic Oliver</td>\n",
       "      <td>vic oliver</td>\n",
       "      <td>male</td>\n",
       "      <td>1942-01-29</td>\n",
       "      <td>1898-07-08</td>\n",
       "      <td>1942</td>\n",
       "      <td>43.0</td>\n",
       "    </tr>\n",
       "  </tbody>\n",
       "</table>\n",
       "</div>"
      ],
      "text/plain": [
       "         name    std_name gender       date date_of_birth  year   age\n",
       "0  Vic Oliver  vic oliver   male 1942-01-29    1898-07-08  1942  43.0"
      ]
     },
     "execution_count": 9,
     "metadata": {},
     "output_type": "execute_result"
    }
   ],
   "source": [
    "# Calculate Age\n",
    "cols_of_interest = [\"name\", \"std_name\", \"gender\", \"date\", \"date_of_birth\", \"year\"]\n",
    "castaways_age_df = castaways_df[cols_of_interest].assign(\n",
    "    age=lambda x: (\n",
    "        (x[\"date\"].dt.year - pd.to_datetime(castaways_df[\"date_of_birth\"]).dt.year)\n",
    "        - (x[\"date\"].dt.month < pd.to_datetime(castaways_df[\"date_of_birth\"]).dt.month)\n",
    "    )\n",
    ")\n",
    "castaways_age_df.head(1)"
   ]
  },
  {
   "cell_type": "code",
   "execution_count": 10,
   "metadata": {
    "ExecuteTime": {
     "end_time": "2022-03-04T10:38:16.098212Z",
     "start_time": "2022-03-04T10:38:16.087069Z"
    }
   },
   "outputs": [
    {
     "data": {
      "text/html": [
       "<div>\n",
       "<style scoped>\n",
       "    .dataframe tbody tr th:only-of-type {\n",
       "        vertical-align: middle;\n",
       "    }\n",
       "\n",
       "    .dataframe tbody tr th {\n",
       "        vertical-align: top;\n",
       "    }\n",
       "\n",
       "    .dataframe thead th {\n",
       "        text-align: right;\n",
       "    }\n",
       "</style>\n",
       "<table border=\"1\" class=\"dataframe\">\n",
       "  <thead>\n",
       "    <tr style=\"text-align: right;\">\n",
       "      <th></th>\n",
       "      <th>name</th>\n",
       "      <th>std_name</th>\n",
       "      <th>gender</th>\n",
       "      <th>date</th>\n",
       "      <th>date_of_birth</th>\n",
       "      <th>year</th>\n",
       "      <th>age</th>\n",
       "    </tr>\n",
       "  </thead>\n",
       "  <tbody>\n",
       "    <tr>\n",
       "      <th>1455</th>\n",
       "      <td>Sir Robert Mayer</td>\n",
       "      <td>robert mayer</td>\n",
       "      <td>male</td>\n",
       "      <td>1979-06-05</td>\n",
       "      <td>1879-06-05</td>\n",
       "      <td>1979</td>\n",
       "      <td>100.0</td>\n",
       "    </tr>\n",
       "    <tr>\n",
       "      <th>2258</th>\n",
       "      <td>Kathleen Hale</td>\n",
       "      <td>kathleen hale</td>\n",
       "      <td>female</td>\n",
       "      <td>1998-06-05</td>\n",
       "      <td>1898-05-24</td>\n",
       "      <td>1998</td>\n",
       "      <td>100.0</td>\n",
       "    </tr>\n",
       "  </tbody>\n",
       "</table>\n",
       "</div>"
      ],
      "text/plain": [
       "                  name       std_name  gender       date date_of_birth  year  \\\n",
       "1455  Sir Robert Mayer   robert mayer    male 1979-06-05    1879-06-05  1979   \n",
       "2258     Kathleen Hale  kathleen hale  female 1998-06-05    1898-05-24  1998   \n",
       "\n",
       "        age  \n",
       "1455  100.0  \n",
       "2258  100.0  "
      ]
     },
     "execution_count": 10,
     "metadata": {},
     "output_type": "execute_result"
    }
   ],
   "source": [
    "# find oldest castaway(s)\n",
    "castaways_age_df.loc[castaways_age_df[\"age\"] == castaways_age_df[\"age\"].max()]"
   ]
  },
  {
   "cell_type": "code",
   "execution_count": 11,
   "metadata": {
    "ExecuteTime": {
     "end_time": "2022-03-04T10:38:16.111488Z",
     "start_time": "2022-03-04T10:38:16.099912Z"
    }
   },
   "outputs": [
    {
     "data": {
      "text/html": [
       "<div>\n",
       "<style scoped>\n",
       "    .dataframe tbody tr th:only-of-type {\n",
       "        vertical-align: middle;\n",
       "    }\n",
       "\n",
       "    .dataframe tbody tr th {\n",
       "        vertical-align: top;\n",
       "    }\n",
       "\n",
       "    .dataframe thead th {\n",
       "        text-align: right;\n",
       "    }\n",
       "</style>\n",
       "<table border=\"1\" class=\"dataframe\">\n",
       "  <thead>\n",
       "    <tr style=\"text-align: right;\">\n",
       "      <th></th>\n",
       "      <th>name</th>\n",
       "      <th>std_name</th>\n",
       "      <th>gender</th>\n",
       "      <th>date</th>\n",
       "      <th>date_of_birth</th>\n",
       "      <th>year</th>\n",
       "      <th>age</th>\n",
       "    </tr>\n",
       "  </thead>\n",
       "  <tbody>\n",
       "    <tr>\n",
       "      <th>1024</th>\n",
       "      <td>Quentin Poole</td>\n",
       "      <td>quentin poole</td>\n",
       "      <td>male</td>\n",
       "      <td>1970-12-28</td>\n",
       "      <td>1957-01-01</td>\n",
       "      <td>1970</td>\n",
       "      <td>13.0</td>\n",
       "    </tr>\n",
       "  </tbody>\n",
       "</table>\n",
       "</div>"
      ],
      "text/plain": [
       "               name       std_name gender       date date_of_birth  year   age\n",
       "1024  Quentin Poole  quentin poole   male 1970-12-28    1957-01-01  1970  13.0"
      ]
     },
     "execution_count": 11,
     "metadata": {},
     "output_type": "execute_result"
    }
   ],
   "source": [
    "# find youngest castaway(s)\n",
    "castaways_age_df.loc[castaways_age_df[\"age\"] == castaways_age_df[\"age\"].min()]"
   ]
  },
  {
   "cell_type": "markdown",
   "metadata": {},
   "source": [
    "The youngest castaway was musician [Quentin Poole](https://www.bbc.co.uk/programmes/p009ndfl), who at the age of 13 appeared on the 1970 Christmas episode when he was the head chorister at King's College Cambridge. Businessman, philanthropist and patron of music [Sir Robert Mayer](https://www.bbc.co.uk/programmes/p009mxdk) appeared on the programme on his 100th birthday."
   ]
  },
  {
   "cell_type": "code",
   "execution_count": 12,
   "metadata": {
    "ExecuteTime": {
     "end_time": "2022-03-04T10:14:18.347733Z",
     "start_time": "2022-03-04T10:14:18.332073Z"
    }
   },
   "outputs": [
    {
     "data": {
      "text/html": [
       "<div>\n",
       "<style scoped>\n",
       "    .dataframe tbody tr th:only-of-type {\n",
       "        vertical-align: middle;\n",
       "    }\n",
       "\n",
       "    .dataframe tbody tr th {\n",
       "        vertical-align: top;\n",
       "    }\n",
       "\n",
       "    .dataframe thead th {\n",
       "        text-align: right;\n",
       "    }\n",
       "</style>\n",
       "<table border=\"1\" class=\"dataframe\">\n",
       "  <thead>\n",
       "    <tr style=\"text-align: right;\">\n",
       "      <th></th>\n",
       "      <th>name</th>\n",
       "      <th>std_name</th>\n",
       "      <th>gender</th>\n",
       "      <th>date</th>\n",
       "      <th>date_of_birth</th>\n",
       "      <th>year</th>\n",
       "      <th>age</th>\n",
       "    </tr>\n",
       "  </thead>\n",
       "  <tbody>\n",
       "    <tr>\n",
       "      <th>84</th>\n",
       "      <td>Petula Clark</td>\n",
       "      <td>petula clark</td>\n",
       "      <td>female</td>\n",
       "      <td>1951-05-02</td>\n",
       "      <td>1932-11-15</td>\n",
       "      <td>1951</td>\n",
       "      <td>18.0</td>\n",
       "    </tr>\n",
       "    <tr>\n",
       "      <th>313</th>\n",
       "      <td>Janette Scott</td>\n",
       "      <td>janette scott</td>\n",
       "      <td>female</td>\n",
       "      <td>1956-12-24</td>\n",
       "      <td>1938-12-14</td>\n",
       "      <td>1956</td>\n",
       "      <td>18.0</td>\n",
       "    </tr>\n",
       "    <tr>\n",
       "      <th>736</th>\n",
       "      <td>Hayley Mills</td>\n",
       "      <td>hayley mills</td>\n",
       "      <td>female</td>\n",
       "      <td>1965-05-10</td>\n",
       "      <td>1946-04-18</td>\n",
       "      <td>1965</td>\n",
       "      <td>19.0</td>\n",
       "    </tr>\n",
       "    <tr>\n",
       "      <th>1024</th>\n",
       "      <td>Quentin Poole</td>\n",
       "      <td>quentin poole</td>\n",
       "      <td>male</td>\n",
       "      <td>1970-12-28</td>\n",
       "      <td>1957-01-01</td>\n",
       "      <td>1970</td>\n",
       "      <td>13.0</td>\n",
       "    </tr>\n",
       "  </tbody>\n",
       "</table>\n",
       "</div>"
      ],
      "text/plain": [
       "               name       std_name  gender       date date_of_birth  year  \\\n",
       "84     Petula Clark   petula clark  female 1951-05-02    1932-11-15  1951   \n",
       "313   Janette Scott  janette scott  female 1956-12-24    1938-12-14  1956   \n",
       "736    Hayley Mills   hayley mills  female 1965-05-10    1946-04-18  1965   \n",
       "1024  Quentin Poole  quentin poole    male 1970-12-28    1957-01-01  1970   \n",
       "\n",
       "       age  \n",
       "84    18.0  \n",
       "313   18.0  \n",
       "736   19.0  \n",
       "1024  13.0  "
      ]
     },
     "execution_count": 12,
     "metadata": {},
     "output_type": "execute_result"
    }
   ],
   "source": [
    "# Make a dataframe of all teenagers\n",
    "teens = castaways_age_df[castaways_age_df[\"age\"] < 20]\n",
    "teens.head(10)"
   ]
  },
  {
   "cell_type": "code",
   "execution_count": 13,
   "metadata": {
    "ExecuteTime": {
     "end_time": "2022-03-04T10:14:18.366037Z",
     "start_time": "2022-03-04T10:14:18.350298Z"
    }
   },
   "outputs": [
    {
     "data": {
      "text/html": [
       "<div>\n",
       "<style scoped>\n",
       "    .dataframe tbody tr th:only-of-type {\n",
       "        vertical-align: middle;\n",
       "    }\n",
       "\n",
       "    .dataframe tbody tr th {\n",
       "        vertical-align: top;\n",
       "    }\n",
       "\n",
       "    .dataframe thead th {\n",
       "        text-align: right;\n",
       "    }\n",
       "</style>\n",
       "<table border=\"1\" class=\"dataframe\">\n",
       "  <thead>\n",
       "    <tr style=\"text-align: right;\">\n",
       "      <th></th>\n",
       "      <th>name</th>\n",
       "      <th>std_name</th>\n",
       "      <th>gender</th>\n",
       "      <th>date</th>\n",
       "      <th>date_of_birth</th>\n",
       "      <th>year</th>\n",
       "      <th>age</th>\n",
       "    </tr>\n",
       "  </thead>\n",
       "  <tbody>\n",
       "    <tr>\n",
       "      <th>1455</th>\n",
       "      <td>Sir Robert Mayer</td>\n",
       "      <td>robert mayer</td>\n",
       "      <td>male</td>\n",
       "      <td>1979-06-05</td>\n",
       "      <td>1879-06-05</td>\n",
       "      <td>1979</td>\n",
       "      <td>100.0</td>\n",
       "    </tr>\n",
       "    <tr>\n",
       "      <th>1497</th>\n",
       "      <td>Commissioner Catherine Bramwell-Booth</td>\n",
       "      <td>commissioner catherine bramwell-booth</td>\n",
       "      <td>female</td>\n",
       "      <td>1980-04-11</td>\n",
       "      <td>1883-07-20</td>\n",
       "      <td>1980</td>\n",
       "      <td>96.0</td>\n",
       "    </tr>\n",
       "    <tr>\n",
       "      <th>1712</th>\n",
       "      <td>George Abbott</td>\n",
       "      <td>george abbott</td>\n",
       "      <td>male</td>\n",
       "      <td>1984-09-07</td>\n",
       "      <td>1887-06-25</td>\n",
       "      <td>1984</td>\n",
       "      <td>97.0</td>\n",
       "    </tr>\n",
       "    <tr>\n",
       "      <th>1885</th>\n",
       "      <td>Athene Seyler</td>\n",
       "      <td>athene seyler</td>\n",
       "      <td>female</td>\n",
       "      <td>1989-03-19</td>\n",
       "      <td>1889-05-31</td>\n",
       "      <td>1989</td>\n",
       "      <td>99.0</td>\n",
       "    </tr>\n",
       "    <tr>\n",
       "      <th>1903</th>\n",
       "      <td>Gwen Ffrangcon-Davies</td>\n",
       "      <td>gwen ffrangcon-davies</td>\n",
       "      <td>female</td>\n",
       "      <td>1989-09-01</td>\n",
       "      <td>1891-01-25</td>\n",
       "      <td>1989</td>\n",
       "      <td>98.0</td>\n",
       "    </tr>\n",
       "    <tr>\n",
       "      <th>2258</th>\n",
       "      <td>Kathleen Hale</td>\n",
       "      <td>kathleen hale</td>\n",
       "      <td>female</td>\n",
       "      <td>1998-06-05</td>\n",
       "      <td>1898-05-24</td>\n",
       "      <td>1998</td>\n",
       "      <td>100.0</td>\n",
       "    </tr>\n",
       "    <tr>\n",
       "      <th>2889</th>\n",
       "      <td>Jeremy Hutchinson</td>\n",
       "      <td>jeremy hutchinson</td>\n",
       "      <td>male</td>\n",
       "      <td>2013-10-25</td>\n",
       "      <td>1915-03-28</td>\n",
       "      <td>2013</td>\n",
       "      <td>98.0</td>\n",
       "    </tr>\n",
       "    <tr>\n",
       "      <th>2961</th>\n",
       "      <td>Harry Rabinowitz</td>\n",
       "      <td>harry rabinowitz</td>\n",
       "      <td>male</td>\n",
       "      <td>2015-07-03</td>\n",
       "      <td>1916-03-26</td>\n",
       "      <td>2015</td>\n",
       "      <td>99.0</td>\n",
       "    </tr>\n",
       "  </tbody>\n",
       "</table>\n",
       "</div>"
      ],
      "text/plain": [
       "                                       name  \\\n",
       "1455                       Sir Robert Mayer   \n",
       "1497  Commissioner Catherine Bramwell-Booth   \n",
       "1712                          George Abbott   \n",
       "1885                          Athene Seyler   \n",
       "1903                  Gwen Ffrangcon-Davies   \n",
       "2258                          Kathleen Hale   \n",
       "2889                      Jeremy Hutchinson   \n",
       "2961                       Harry Rabinowitz   \n",
       "\n",
       "                                   std_name  gender       date date_of_birth  \\\n",
       "1455                           robert mayer    male 1979-06-05    1879-06-05   \n",
       "1497  commissioner catherine bramwell-booth  female 1980-04-11    1883-07-20   \n",
       "1712                          george abbott    male 1984-09-07    1887-06-25   \n",
       "1885                          athene seyler  female 1989-03-19    1889-05-31   \n",
       "1903                  gwen ffrangcon-davies  female 1989-09-01    1891-01-25   \n",
       "2258                          kathleen hale  female 1998-06-05    1898-05-24   \n",
       "2889                      jeremy hutchinson    male 2013-10-25    1915-03-28   \n",
       "2961                       harry rabinowitz    male 2015-07-03    1916-03-26   \n",
       "\n",
       "      year    age  \n",
       "1455  1979  100.0  \n",
       "1497  1980   96.0  \n",
       "1712  1984   97.0  \n",
       "1885  1989   99.0  \n",
       "1903  1989   98.0  \n",
       "2258  1998  100.0  \n",
       "2889  2013   98.0  \n",
       "2961  2015   99.0  "
      ]
     },
     "execution_count": 13,
     "metadata": {},
     "output_type": "execute_result"
    }
   ],
   "source": [
    "# and one of all those over 95 years old\n",
    "older = castaways_age_df[castaways_age_df[\"age\"] > 95]\n",
    "older.head(10)"
   ]
  },
  {
   "cell_type": "markdown",
   "metadata": {},
   "source": [
    "From the two dataframes; teens and older, we can see there have been 4 castaways under the age of 20, and 8 over the age of 95. \n",
    "There have been no teenaged castaways for over 51 years, and the last castaway over 95 was broadcast seven years ago."
   ]
  },
  {
   "cell_type": "code",
   "execution_count": 14,
   "metadata": {
    "ExecuteTime": {
     "end_time": "2022-03-04T10:14:18.380555Z",
     "start_time": "2022-03-04T10:14:18.368763Z"
    }
   },
   "outputs": [
    {
     "name": "stdout",
     "output_type": "stream",
     "text": [
      "The average age of the male castaways is 53.5 and the average age of the female castaways is 53.7\n"
     ]
    }
   ],
   "source": [
    "# calculate average age of male and female castaways\n",
    "av_age_m = castaways_age_df[castaways_age_df[\"gender\"] == \"male\"][\"age\"].mean()\n",
    "av_age_f = castaways_age_df[castaways_age_df[\"gender\"] == \"female\"][\"age\"].mean()\n",
    "print(\n",
    "    f\"The average age of the male castaways is {av_age_m:.1f} and the average age of the female castaways is {av_age_f:.1f}\"\n",
    ")"
   ]
  },
  {
   "cell_type": "markdown",
   "metadata": {},
   "source": [
    "A quick calculation shows that the average age for male and female castaways is very similar, around 53 and a half years old.\n",
    "\n",
    "We now will segment the castaways by decade to explore trends in age over time."
   ]
  },
  {
   "cell_type": "code",
   "execution_count": 15,
   "metadata": {
    "ExecuteTime": {
     "end_time": "2022-03-04T10:14:18.882230Z",
     "start_time": "2022-03-04T10:14:18.877168Z"
    }
   },
   "outputs": [],
   "source": [
    "# Add function to add median line to kde ridge plots\n",
    "\n",
    "\n",
    "def kdeplot_med(data, **kwargs):\n",
    "\n",
    "    data = data.dropna(subset=[kwargs[\"x\"]])\n",
    "\n",
    "    _ax = plt.gca()\n",
    "\n",
    "    density = stats.gaussian_kde(data[kwargs[\"x\"]].dropna())\n",
    "\n",
    "    _, ymax = _ax.get_ybound()\n",
    "\n",
    "    _ax.axvline(\n",
    "        data[kwargs[\"x\"]].median(),\n",
    "        color=kwargs[\"color\"],\n",
    "        ymax=(density(data[kwargs[\"x\"]].median())[0] / ymax),\n",
    "    )\n",
    "    _ax.annotate(\n",
    "        int(data[kwargs[\"x\"]].median()),\n",
    "        (data[kwargs[\"x\"]].median() + 1, density(data[kwargs[\"x\"]].median())[0] * 0.65),\n",
    "        xycoords=\"data\",\n",
    "        fontweight=\"bold\",\n",
    "    )\n",
    "\n",
    "    return _ax"
   ]
  },
  {
   "cell_type": "code",
   "execution_count": 16,
   "metadata": {
    "ExecuteTime": {
     "end_time": "2022-03-04T10:14:21.760960Z",
     "start_time": "2022-03-04T10:14:19.477893Z"
    }
   },
   "outputs": [
    {
     "data": {
      "image/png": "[encoded data removed]",
      "text/plain": [
       "<Figure size 504x648 with 9 Axes>"
      ]
     },
     "metadata": {},
     "output_type": "display_data"
    }
   ],
   "source": [
    "sns.set_theme(style=\"white\", rc={\"axes.facecolor\": (0, 0, 0, 0)})\n",
    "g = sns.FacetGrid(\n",
    "    castaways_age_df.assign(decade=lambda x: (x[\"year\"] // 10) * 10),\n",
    "    palette=\"Paired\",\n",
    "    hue=\"decade\",\n",
    "    row=\"decade\",\n",
    "    aspect=7,\n",
    "    height=1.0,\n",
    ")\n",
    "BW = 0.9\n",
    "g.map_dataframe(\n",
    "    sns.kdeplot,\n",
    "    x=\"age\",\n",
    "    fill=True,\n",
    "    alpha=1,\n",
    "    bw_adjust=BW,\n",
    "    clip_on=False,\n",
    ")\n",
    "g.map_dataframe(sns.kdeplot, x=\"age\", color=\"black\", bw_adjust=BW)\n",
    "g.map_dataframe(\n",
    "    kdeplot_med, x=\"age\", fill=True, alpha=1, bw_adjust=BW, clip_on=False, color=\"black\"\n",
    ")\n",
    "\n",
    "\n",
    "def label1(k, color, label):\n",
    "    ax = plt.gca()\n",
    "    ax.text(\n",
    "        0,\n",
    "        0.2,\n",
    "        label + \"s\",\n",
    "        fontweight=\"bold\",\n",
    "        color=\"black\",\n",
    "        ha=\"left\",\n",
    "        va=\"center\",\n",
    "        transform=ax.transAxes,\n",
    "    )\n",
    "\n",
    "\n",
    "g.map(label1, \"age\")\n",
    "g.set_ylabels(\"\")\n",
    "g.set_xlabels(\"Age\")\n",
    "g.fig.subplots_adjust(hspace=-0.5)\n",
    "g.set_titles(\"\")\n",
    "g.set(yticks=[])\n",
    "g.despine(left=True)\n",
    "plt.show()"
   ]
  },
  {
   "cell_type": "markdown",
   "metadata": {},
   "source": [
    "Looking at the range of ages by decade, the plot above indicates that the castaways are aging over time: the media age has increased from the early 40s in the 1940s to late 50s in the 2020s. For comparison, the [median age of the British population](https://ourworldindata.org/grapher/median-age?tab=chart&country=~GBR) increased from 34.9 in 1950 to 40.2 in 2015.\n",
    "\n",
    "A great example of how the guests (and audience?) are aging is castaway Sir Cliff Richard. The pop singer [first appeared](https://www.bbc.co.uk/programmes/p009y6z4) on the show at the age of 20 in 1960 (favourite song: Rock Around the Clock by Bill Haley and his Comets, book: The Swiss Family Robinson by Johann Wyss, luxury: guitar) and returned for the 2020 [Christmas epsiode](https://www.bbc.co.uk/programmes/m000qhg8) at the age of 80 (favourite song: It Is Well by Sheila Walsh featuring Cliff Richard, book: Wuthering Heights by Emily Brontë, luxury: a Gibson acoustic guitar)."
   ]
  },
  {
   "cell_type": "code",
   "execution_count": 17,
   "metadata": {
    "ExecuteTime": {
     "end_time": "2022-03-04T10:14:21.789900Z",
     "start_time": "2022-03-04T10:14:21.763795Z"
    }
   },
   "outputs": [
    {
     "data": {
      "text/html": [
       "<div>\n",
       "<style scoped>\n",
       "    .dataframe tbody tr th:only-of-type {\n",
       "        vertical-align: middle;\n",
       "    }\n",
       "\n",
       "    .dataframe tbody tr th {\n",
       "        vertical-align: top;\n",
       "    }\n",
       "\n",
       "    .dataframe thead th {\n",
       "        text-align: right;\n",
       "    }\n",
       "</style>\n",
       "<table border=\"1\" class=\"dataframe\">\n",
       "  <thead>\n",
       "    <tr style=\"text-align: right;\">\n",
       "      <th></th>\n",
       "      <th>episode_ref</th>\n",
       "      <th>date</th>\n",
       "      <th>castaway_ref</th>\n",
       "      <th>name</th>\n",
       "      <th>std_name</th>\n",
       "      <th>gender</th>\n",
       "      <th>profession</th>\n",
       "      <th>country_of_citizenship</th>\n",
       "      <th>place_of_birth</th>\n",
       "      <th>country_of_birth</th>\n",
       "      <th>date_of_birth</th>\n",
       "      <th>favTrack</th>\n",
       "      <th>luxury</th>\n",
       "      <th>book</th>\n",
       "      <th>wiki_link</th>\n",
       "      <th>link</th>\n",
       "      <th>year</th>\n",
       "    </tr>\n",
       "  </thead>\n",
       "  <tbody>\n",
       "    <tr>\n",
       "      <th>511</th>\n",
       "      <td>2654</td>\n",
       "      <td>1960-10-31</td>\n",
       "      <td>484</td>\n",
       "      <td>Cliff Richard</td>\n",
       "      <td>cliff richard</td>\n",
       "      <td>male</td>\n",
       "      <td>['film actor', 'actor', 'performing artist', '...</td>\n",
       "      <td>United Kingdom</td>\n",
       "      <td>Lucknow</td>\n",
       "      <td>India</td>\n",
       "      <td>1940-10-14</td>\n",
       "      <td>Rock Around The Clock by Bill Haley and His Co...</td>\n",
       "      <td>Guitar</td>\n",
       "      <td>The Swiss Family Robinson - Johann Wyss</td>\n",
       "      <td>https://en.wikipedia.org/wiki/Cliff_Richard</td>\n",
       "      <td>https://www.bbc.co.uk/programmes/p009y6z4</td>\n",
       "      <td>1960</td>\n",
       "    </tr>\n",
       "    <tr>\n",
       "      <th>3190</th>\n",
       "      <td>3259</td>\n",
       "      <td>2020-12-20</td>\n",
       "      <td>484</td>\n",
       "      <td>Sir Cliff Richard</td>\n",
       "      <td>cliff richard</td>\n",
       "      <td>NaN</td>\n",
       "      <td>NaN</td>\n",
       "      <td>NaN</td>\n",
       "      <td>NaN</td>\n",
       "      <td>NaN</td>\n",
       "      <td>NaT</td>\n",
       "      <td>NaN</td>\n",
       "      <td>Wuthering Heights¬†by¬†Emily Bront√´</td>\n",
       "      <td>A Gibson¬†acoustic guitar</td>\n",
       "      <td>https://en.wikipedia.org/wiki/Sir_Cliff_Richard</td>\n",
       "      <td>https://www.bbc.co.uk/programmes/m000qhg8</td>\n",
       "      <td>2020</td>\n",
       "    </tr>\n",
       "  </tbody>\n",
       "</table>\n",
       "</div>"
      ],
      "text/plain": [
       "      episode_ref       date  castaway_ref               name       std_name  \\\n",
       "511          2654 1960-10-31           484      Cliff Richard  cliff richard   \n",
       "3190         3259 2020-12-20           484  Sir Cliff Richard  cliff richard   \n",
       "\n",
       "     gender                                         profession  \\\n",
       "511    male  ['film actor', 'actor', 'performing artist', '...   \n",
       "3190    NaN                                                NaN   \n",
       "\n",
       "     country_of_citizenship place_of_birth country_of_birth date_of_birth  \\\n",
       "511          United Kingdom        Lucknow            India    1940-10-14   \n",
       "3190                    NaN            NaN              NaN           NaT   \n",
       "\n",
       "                                               favTrack  \\\n",
       "511   Rock Around The Clock by Bill Haley and His Co...   \n",
       "3190                                                NaN   \n",
       "\n",
       "                                    luxury  \\\n",
       "511                                 Guitar   \n",
       "3190  Wuthering Heights¬†by¬†Emily Bront√´   \n",
       "\n",
       "                                         book  \\\n",
       "511   The Swiss Family Robinson - Johann Wyss   \n",
       "3190                A Gibson¬†acoustic guitar   \n",
       "\n",
       "                                            wiki_link  \\\n",
       "511       https://en.wikipedia.org/wiki/Cliff_Richard   \n",
       "3190  https://en.wikipedia.org/wiki/Sir_Cliff_Richard   \n",
       "\n",
       "                                           link  year  \n",
       "511   https://www.bbc.co.uk/programmes/p009y6z4  1960  \n",
       "3190  https://www.bbc.co.uk/programmes/m000qhg8  2020  "
      ]
     },
     "execution_count": 17,
     "metadata": {},
     "output_type": "execute_result"
    }
   ],
   "source": [
    "castaways_df.query(\"std_name == 'cliff richard'\")"
   ]
  },
  {
   "cell_type": "markdown",
   "metadata": {},
   "source": [
    "## Country of birth\n",
    "\n",
    "From Wikipedia, we can also ask for information about the country of birth for the castaways on the show. For visual clarity, we have used the `pycountry` package to get the continent of each country, breaking the United Kingdom out into its own category due to the majority of castaways being born in the UK. This information is not always available, as reflected by the \"other\" category on the plot."
   ]
  },
  {
   "cell_type": "code",
   "execution_count": 18,
   "metadata": {},
   "outputs": [],
   "source": [
    "def get_continent(country):\n",
    "    \"\"\"\n",
    "    Fuzzy search for Continent based on input country, treating GB separately\n",
    "    \"\"\"\n",
    "\n",
    "    # first search for country\n",
    "    try:\n",
    "        code = pc.countries.search_fuzzy(country)[0].alpha_2\n",
    "    except:\n",
    "        code = \"\"\n",
    "\n",
    "    if code == \"\":\n",
    "        return \"Unknown\"\n",
    "\n",
    "    if code == \"GB\":\n",
    "        return \"UK\"\n",
    "\n",
    "    # next get continent code from country code\n",
    "    continent_code = pcc.country_alpha2_to_continent_code(code)\n",
    "\n",
    "    return continent_code"
   ]
  },
  {
   "cell_type": "code",
   "execution_count": 19,
   "metadata": {},
   "outputs": [
    {
     "data": {
      "image/png": "[encoded data removed]",
      "text/plain": [
       "<Figure size 1000x300 with 1 Axes>"
      ]
     },
     "metadata": {},
     "output_type": "display_data"
    }
   ],
   "source": [
    "castaways_df[\"continent_of_birth\"] = castaways_df.country_of_birth.apply(get_continent)\n",
    "birth_df = pd.pivot_table(\n",
    "    castaways_df,\n",
    "    columns=\"continent_of_birth\",\n",
    "    index=\"year\",\n",
    "    values=\"date\",\n",
    "    aggfunc=\"count\",\n",
    ")\n",
    "\n",
    "birth_df = normalize_rows(birth_df)\n",
    "birth_df = birth_df[[\"UK\", \"EU\", \"NA\", \"AF\", \"AS\", \"SA\", \"OC\", \"Unknown\"]]\n",
    "birth_df = cumulative_columns(birth_df)\n",
    "\n",
    "make_timeplot(moving_average(birth_df, n=5), ymin=0.0, leg_title=\"Country of Birth\")"
   ]
  },
  {
   "cell_type": "markdown",
   "metadata": {},
   "source": [
    "Looking as a function of time, there are no drastic changes in the Country of birth of castaways on the show. The fraction of castaways who have this information missing seems to have been slightly reduced since the beginning of the show. This could reflect changes in the notability of guests, or perhaps the increasing prevalence of information on Wikipedia.\n",
    "\n",
    "For a BBC radio programme, perhaps it isn't a surprise that most castaways are from the UK, with other English-speaking countries with cultural connections (Australia, USA) being very prominent. In fact, the large number of castaways from the USA from the start of the show might make sense in the context of castaway profession."
   ]
  },
  {
   "cell_type": "markdown",
   "metadata": {},
   "source": [
    "## Profession\n",
    "\n",
    "We can also ask Wikipedia for information about professions that the castaways have, in order to get a better idea of which roles in society are reflected on the show.\n",
    "\n",
    "We obtain from Wikipedia a list of professions of decreasing granularity for each castaway. As such, the data isn't all comparable without some initial work. For example, Vic Oliver is at the highest level of granularity an actor (as far as Wikipedia is concerned), but he is also a performing artist, an artist, and ultimately a professional.\n"
   ]
  },
  {
   "cell_type": "code",
   "execution_count": 12,
   "metadata": {
    "ExecuteTime": {
     "end_time": "2022-03-04T10:38:16.116661Z",
     "start_time": "2022-03-04T10:38:16.113153Z"
    }
   },
   "outputs": [
    {
     "data": {
      "text/plain": [
       "('vic oliver', \"['actor', 'performing artist', 'artist', 'professional']\")"
      ]
     },
     "execution_count": 12,
     "metadata": {},
     "output_type": "execute_result"
    }
   ],
   "source": [
    "castaways_df.std_name.iloc[0], castaways_df.profession.iloc[0]"
   ]
  },
  {
   "cell_type": "markdown",
   "metadata": {},
   "source": [
    "Since the number of possible professions that Wikipedia has knowledge of is too large to easily digest in a plot, we need to group similar professions into broad enough categories for visualisation. Do do this, we next define some functions to cluster professions, aiming to have the most granular profession for each castaway, while still maintaining a manageable number of possible categories. These functions are a little ad hoc, and rely on some parameters that have been manually selected to achieve sensible results. A more sophisticated approach could reduce the need for this."
   ]
  },
  {
   "cell_type": "code",
   "execution_count": 13,
   "metadata": {
    "ExecuteTime": {
     "end_time": "2022-03-04T10:38:16.124963Z",
     "start_time": "2022-03-04T10:38:16.119188Z"
    }
   },
   "outputs": [],
   "source": [
    "def reduce(prof_list, common_professions):\n",
    "    \"\"\"\n",
    "    Given a list of professions for a single castaway, try and return the most\n",
    "    granular profession for this castaway if it is common enough.\n",
    "    \"\"\"\n",
    "\n",
    "    # no options available, just take whatever profession is left\n",
    "    if len(prof_list) == 1 or \"professional\" in prof_list[1]:\n",
    "        return [prof_list[0]]\n",
    "\n",
    "    # take the most granular profession if it is common\n",
    "    for prof in prof_list:\n",
    "        if prof in common_professions and prof != \"professional\":\n",
    "            return [prof]\n",
    "\n",
    "    # if none are common, restrict the set of professions to cluster\n",
    "    else:\n",
    "        return prof_list[1:]\n",
    "\n",
    "\n",
    "def cluster_step(profession_lists, n=10):\n",
    "    \"\"\"\n",
    "    At each step, take the n most common professions that appear globally,\n",
    "    and attempt to match castaways to one of these professions.\n",
    "    \"\"\"\n",
    "\n",
    "    # get the most common categories\n",
    "    common_professions = pd.Series(\n",
    "        [i for x in profession_lists for i in x]\n",
    "    ).value_counts()[:n]\n",
    "\n",
    "    # apply clustering\n",
    "    out = [reduce(p, common_professions) for p in profession_lists]\n",
    "\n",
    "    return out\n",
    "\n",
    "\n",
    "def simplify_professions(profession_lists, n=25):\n",
    "    \"\"\"\n",
    "    Run the clustering process.\n",
    "    \"\"\"\n",
    "\n",
    "    # run clustering iteratively for ten steps\n",
    "    for i in range(10):\n",
    "        profession_lists = cluster_step(profession_lists)\n",
    "\n",
    "    # clean\n",
    "    professions = [p[0] for p in profession_lists]\n",
    "    least_common = pd.Series(professions).value_counts(ascending=True)[:n]\n",
    "    professions = [p if p not in least_common else \"other\" for p in professions]\n",
    "\n",
    "    return professions"
   ]
  },
  {
   "cell_type": "markdown",
   "metadata": {},
   "source": [
    "Now we have the clustering functions defined, we can define one additional function which does some preprocessing, runs the clustering, and makes a plot."
   ]
  },
  {
   "cell_type": "code",
   "execution_count": 14,
   "metadata": {
    "ExecuteTime": {
     "end_time": "2022-03-04T10:38:16.132307Z",
     "start_time": "2022-03-04T10:38:16.127516Z"
    }
   },
   "outputs": [],
   "source": [
    "def get_profession_plot(df, n=20, window=10, leg_title=\"\"):\n",
    "\n",
    "    profession_df = df.copy()\n",
    "    profession_df.loc[profession_df.profession == \"[]\", \"profession\"] = np.nan\n",
    "    profession_df = profession_df.fillna({\"profession\": \"['unknown']\"})\n",
    "    profession_df.profession = profession_df.profession.apply(\n",
    "        lambda x: ast.literal_eval(x)\n",
    "    )\n",
    "    profession_df[\"profession\"] = simplify_professions(profession_df[\"profession\"], n=n)\n",
    "\n",
    "    prof_df = pd.pivot_table(\n",
    "        profession_df,\n",
    "        columns=\"profession\",\n",
    "        index=\"year\",\n",
    "        values=\"date\",\n",
    "        aggfunc=\"count\",\n",
    "    )\n",
    "\n",
    "    prof_df = prof_df[\n",
    "        [c for c in prof_df.columns if c not in [\"other\", \"unknown\"]]\n",
    "        + [\"other\", \"unknown\"]\n",
    "    ]\n",
    "    prof_df = normalize_rows(prof_df)\n",
    "    prof_df = cumulative_columns(prof_df)\n",
    "\n",
    "    make_timeplot(moving_average(prof_df, n=window), ymin=0.0, leg_title=leg_title)"
   ]
  },
  {
   "cell_type": "code",
   "execution_count": 15,
   "metadata": {
    "ExecuteTime": {
     "end_time": "2022-03-04T10:38:16.479902Z",
     "start_time": "2022-03-04T10:38:16.134805Z"
    }
   },
   "outputs": [
    {
     "data": {
      "image/png": "[encoded data removed]",
      "text/plain": [
       "<Figure size 1000x300 with 1 Axes>"
      ]
     },
     "metadata": {},
     "output_type": "display_data"
    }
   ],
   "source": [
    "get_profession_plot(castaways_df, n=34, leg_title=\"Profession\")"
   ]
  },
  {
   "cell_type": "markdown",
   "metadata": {},
   "source": [
    "As you can see, the professions most frequently represented on Desert Island Discs are people who work in the media and creative industries – actors, artists, journalists, musicians and writers. This makes sense, as it is an entertainment programme with a foundation of music. But we were surprised not to see more representation from the many professions that are influential in British society - politicians, athletes, academics and people involved in business, health, and law are all very small percentages of castaways.\n",
    "\n",
    "There are also clear trends visible over time. In the first half of the show's history actors and musicians made up the bulk of guests. In more recent years the proportion of castaways being grouped into the \"other\" category has increased, indicating an increase diversity in castaways' occupations."
   ]
  },
  {
   "cell_type": "markdown",
   "metadata": {},
   "source": [
    "# Discs\n",
    "\n",
    "In the dataset we introduced in the beginning, we also grabbed information about the songs shared by each castaway. Based on Andrew's initial analysis, we know that classical music dominates the musical selections, and we want to dig a little deeper into the types of music chosen over time, as well what types of people choose different genres building on the analysis above."
   ]
  },
  {
   "cell_type": "markdown",
   "metadata": {},
   "source": [
    "## Genres\n",
    "\n",
    "From Spotify, we can get a list of genres associated with the musical artist and additional info and analysis for each song (for example, danceability). It turns out Spotify has an overwhelming number of microgenres – see Glenn McDonald's [everynoise.com](https://everynoise.com) for a mind blowing micro-genre experience – and we need to do some work to get a small number of the most common and most easily recognised genres. We initial had hoped to algorithmically develop a series of meta-genres to use for analysis, but this proved beyond the scope of this data story.\n",
    "\n",
    "To start, we can load the discs data, and the dataset pulled from Spotify API. These are then merged."
   ]
  },
  {
   "cell_type": "code",
   "execution_count": 16,
   "metadata": {
    "ExecuteTime": {
     "end_time": "2022-03-04T10:38:42.042055Z",
     "start_time": "2022-03-04T10:38:16.481930Z"
    }
   },
   "outputs": [],
   "source": [
    "# load discs data\n",
    "discs_df = pd.read_excel(\n",
    "    hc_data_url, sheet_name=\"discs\", parse_dates=[\"date\"], index_col=0\n",
    ")\n",
    "\n",
    "# load spotify data\n",
    "hc_data_url = (\n",
    "    \"https://hcommons.org/deposits/download/hc:42512/CONTENT/desert_island_disks.xlsx\"\n",
    ")\n",
    "spotify_df = pd.read_excel(\n",
    "    hc_data_url, sheet_name=\"spotify_data\", parse_dates=[\"date\"], index_col=0\n",
    ")\n",
    "spotify_df.genres_artist = spotify_df.genres_artist.apply(lambda x: ast.literal_eval(x))\n",
    "spotify_df = spotify_df.dropna(subset=[\"track\"])\n",
    "\n",
    "# combine disks and spotify data\n",
    "merged_df = pd.merge(\n",
    "    discs_df,\n",
    "    spotify_df,\n",
    "    left_on=[\"track_name\", \"date\"],\n",
    "    right_on=[\"track_name_original\", \"date\"],\n",
    "    how=\"inner\",\n",
    ")\n",
    "\n",
    "# extract year\n",
    "merged_df[\"year\"] = merged_df[\"date\"].dt.year"
   ]
  },
  {
   "cell_type": "markdown",
   "metadata": {},
   "source": [
    "Now the interesting part. After a bit of a manual look through the most common microgenres returned by Spotify, we came up with the following manual grouping."
   ]
  },
  {
   "cell_type": "code",
   "execution_count": 17,
   "metadata": {
    "ExecuteTime": {
     "end_time": "2022-03-04T10:38:42.053392Z",
     "start_time": "2022-03-04T10:38:42.044165Z"
    }
   },
   "outputs": [],
   "source": [
    "meta_genres = {\n",
    "    \"pop\": [\"easy listening\"],\n",
    "    \"rock\": [],\n",
    "    \"folk\": [\n",
    "        \"bothy\",\n",
    "        \"celtic\",\n",
    "        \"scottish\",\n",
    "        \"bagpipe\",\n",
    "        \"irish\",\n",
    "        \"welsh\",\n",
    "        \"bluegrass\",\n",
    "        \"country\",\n",
    "    ],\n",
    "    \"jazz\": [\n",
    "        \"blues\",\n",
    "        \"british dance band\",\n",
    "        \"big band\",\n",
    "        \"ragtime\",\n",
    "        \"boogie\",\n",
    "        \"brass band\",\n",
    "    ],\n",
    "    \"classical\": [\n",
    "        \"choral\",\n",
    "        \"bolero\",\n",
    "        \"opera\",\n",
    "        \"operetta\",\n",
    "        \"orchestral\",\n",
    "        \"orchestra\",\n",
    "        \"romantic era\",\n",
    "        \"light music\",\n",
    "        \"baroque\",\n",
    "    ],\n",
    "    \"vintage\": [\n",
    "        \"adult standards\",\n",
    "        \"music hall\",\n",
    "        \"british comedy\",\n",
    "        \"broadway\",\n",
    "        \"cabaret\",\n",
    "        \"tin pan alley\",\n",
    "    ],\n",
    "    \"world\": [\n",
    "        \"italian\",\n",
    "        \"chanson\",\n",
    "        \"french\",\n",
    "        \"bossa\",\n",
    "        \"samba\",\n",
    "        \"flamenco\",\n",
    "        \"salsa\",\n",
    "        \"latin\",\n",
    "        \"african\",\n",
    "        \"zither\",\n",
    "        \"cuban rumba\",\n",
    "        \"arpa paraguaya\",\n",
    "    ],\n",
    "    \"modern\": [\n",
    "        \"disco\",\n",
    "        \"soul\",\n",
    "        \"r&b\",\n",
    "        \"reggae\",\n",
    "        \"ska\",\n",
    "        \"hip hop\",\n",
    "        \"rap\",\n",
    "        \"electronic\",\n",
    "        \"electronica\",\n",
    "        \"house\",\n",
    "        \"ambient\",\n",
    "        \"downtempo\",\n",
    "        \"garage\",\n",
    "        \"synthesizer\",\n",
    "        \"drum and bass\",\n",
    "    ],\n",
    "    \"spoken & soundtrack\": [\n",
    "        \"soundtrack\",\n",
    "        \"hollywood\",\n",
    "        \"show tunes\",\n",
    "        \"movie\",\n",
    "        \"poetry\",\n",
    "        \"comic\",\n",
    "        \"reading\",\n",
    "        \"comedy\",\n",
    "        \"oratory\",\n",
    "    ],\n",
    "}\n",
    "\n",
    "\n",
    "def determine_genre(genre_list):\n",
    "    \"\"\"\n",
    "    Given a list of genres for a particular song, return the first\n",
    "    matched meta genre.\n",
    "    \"\"\"\n",
    "    if genre_list == []:\n",
    "        return \"\"\n",
    "    for genre in genre_list:\n",
    "        for meta_genre in meta_genres.keys():\n",
    "            search_strings = [meta_genre] + meta_genres[meta_genre]\n",
    "            if any([s in genre for s in search_strings]):\n",
    "                return meta_genre\n",
    "    return \"other\""
   ]
  },
  {
   "cell_type": "markdown",
   "metadata": {},
   "source": [
    "We can use the groups of genres defined above to turn the list of genres associated with each track into a single metagenre. Anything not captured in our very coarse categorisation goes into the \"other\" metagenre."
   ]
  },
  {
   "cell_type": "code",
   "execution_count": 18,
   "metadata": {
    "ExecuteTime": {
     "end_time": "2022-03-04T10:38:42.428209Z",
     "start_time": "2022-03-04T10:38:42.056013Z"
    }
   },
   "outputs": [
    {
     "data": {
      "image/png": "[encoded data removed]",
      "text/plain": [
       "<Figure size 1000x300 with 1 Axes>"
      ]
     },
     "metadata": {},
     "output_type": "display_data"
    }
   ],
   "source": [
    "# get metagenre from the genre list\n",
    "merged_df[\"genre\"] = merged_df.genres_artist.apply(determine_genre)\n",
    "\n",
    "# drop rows without any genre\n",
    "merged_df = merged_df[merged_df[\"genre\"] != \"\"].copy()\n",
    "\n",
    "# make a timeplot\n",
    "genre_df = pd.pivot_table(\n",
    "    merged_df, columns=\"genre\", index=\"year\", values=\"date\", aggfunc=\"count\"\n",
    ")\n",
    "genre_df = genre_df[[c for c in genre_df.columns if c not in [\"other\"]] + [\"other\"]]\n",
    "genre_df = normalize_rows(genre_df)\n",
    "genre_df = cumulative_columns(genre_df)\n",
    "make_timeplot(moving_average(genre_df, n=5), ymin=0.0, leg_title=\"Genres\", y_title=\"\")"
   ]
  },
  {
   "cell_type": "markdown",
   "metadata": {},
   "source": [
    "The plot above clearly illustrates the shift away from classical music, which doesn't really start until Plomley's reign as host ends in the mid-1980s. This trend accelerated after 2000 and rock music now represents a larger proportion of dics than classical music.\n",
    "\n",
    "The \"vintage\" category was the second largest genre for much of the programme. Including artists like Frank Sinatra, it captures the popular music of the 1950s and now reflects more retro tastes. The \"modern\" category combines a number of more recent genres, from disco and ska to hip-hop and rap. \n",
    "\n",
    "Next we see who were the most popular artists per year.  First we merge our castaway and disc datasets, in order to have all the available information in one single dataframe."
   ]
  },
  {
   "cell_type": "code",
   "execution_count": 19,
   "metadata": {
    "ExecuteTime": {
     "end_time": "2022-03-04T10:38:42.521323Z",
     "start_time": "2022-03-04T10:38:42.430497Z"
    }
   },
   "outputs": [],
   "source": [
    "total_df = pd.merge(\n",
    "    merged_df,\n",
    "    castaways_df,\n",
    "    left_on=[\"std_name\", \"date\", \"episode_ref_x\", \"castaway_ref\"],\n",
    "    right_on=[\"std_name\", \"date\", \"episode_ref\", \"castaway_ref\"],\n",
    "    how=\"inner\",\n",
    ")"
   ]
  },
  {
   "cell_type": "code",
   "execution_count": 31,
   "metadata": {
    "ExecuteTime": {
     "end_time": "2022-03-04T10:40:42.427526Z",
     "start_time": "2022-03-04T10:40:41.959634Z"
    }
   },
   "outputs": [
    {
     "data": {
      "image/png": "[encoded data removed]",
      "text/plain": [
       "<Figure size 1440x360 with 1 Axes>"
      ]
     },
     "metadata": {},
     "output_type": "display_data"
    }
   ],
   "source": [
    "# choose only after 1950, before data looks weird given few entries and group by year\n",
    "df1_grouped = total_df[total_df[\"year_x\"] > 1949].groupby(\"year_x\")\n",
    "\n",
    "dates = []\n",
    "levels = []\n",
    "names = []\n",
    "\n",
    "for group_name, df_group in df1_grouped:\n",
    "\n",
    "    # year\n",
    "    dates.append(group_name)\n",
    "\n",
    "    # percentage of times it is chosen\n",
    "    levels.append(\n",
    "        df_group[\"std_artist\"].value_counts()[:1].values[0]\n",
    "        / df_group[\"std_artist\"].shape[0]\n",
    "    )\n",
    "\n",
    "    # artist chosen (last name)\n",
    "    names.append(df_group[\"std_artist\"].value_counts()[:1].index[0].split(\" \")[-1])\n",
    "\n",
    "\n",
    "# associating names to colours and order them chronologically\n",
    "names_cronological = list(dict.fromkeys(names))\n",
    "c = sns.color_palette(\"Spectral\", max(4, len(np.unique(names_cronological))))\n",
    "colours = {g: c[i] for i, g in enumerate(names_cronological)}\n",
    "\n",
    "# Create figure and bar plot\n",
    "fig, ax = plt.subplots(figsize=(20, 5))\n",
    "ax.set_title(\"Most popular artists by year\", fontsize=20)\n",
    "\n",
    "ax.bar(dates, levels, 1, color=[colours[x] for x in names])\n",
    "\n",
    "labels = list(colours.keys())\n",
    "handles = [plt.Rectangle((0, 0), 1, 1, color=colours[x]) for x in names_cronological]\n",
    "ax.legend(handles, labels, facecolor=\"white\", ncol=2, fontsize=14)\n",
    "ax.grid(False)\n",
    "\n",
    "# remove y axis and spines\n",
    "plt.ylabel(\"Percentage of times chosen by Castaways\", fontsize=12)\n",
    "\n",
    "ax.margins(y=0.1)\n",
    "plt.show()"
   ]
  },
  {
   "cell_type": "markdown",
   "metadata": {},
   "source": [
    "The most popular artist by year parallels the overall look at genres. Classical composers dominate until the early 2000s, with a classical grudge match between Bach, Beethoven and Mozart. Over the past two decades, The Beatles consistently top the charts, joined by Frank Sinatra, Bob Marley, David Bowie, Joni Mitchell, and, in the first half of 2021, the grime artist Stormzy."
   ]
  },
  {
   "cell_type": "markdown",
   "metadata": {},
   "source": [
    "# Castaways and discs\n",
    "\n",
    "We now will combine information about people and the music that they chose to look for any trends. Before getting into a more sophisticated network analysis, we can look at the musical genres chosen by different castaway professions."
   ]
  },
  {
   "cell_type": "code",
   "execution_count": 21,
   "metadata": {
    "ExecuteTime": {
     "end_time": "2022-03-04T10:38:43.498816Z",
     "start_time": "2022-03-04T10:38:43.054863Z"
    }
   },
   "outputs": [],
   "source": [
    "total_genpro_df = total_df[[\"profession\", \"genre\"]].copy()\n",
    "total_genpro_df.loc[total_genpro_df.profession == \"[]\", \"profession\"] = np.nan\n",
    "total_genpro_df = total_genpro_df.dropna()\n",
    "\n",
    "total_genpro_df.profession = total_genpro_df.profession.apply(\n",
    "    lambda x: ast.literal_eval(x)\n",
    ")\n",
    "total_genpro_df[\"profession\"] = simplify_professions(\n",
    "    total_genpro_df[\"profession\"], n=30\n",
    ")\n",
    "total_genpro_df = total_genpro_df.sort_values(\n",
    "    [\"profession\", \"genre\"], ascending=[True, False]\n",
    ")\n",
    "# Move 'other' to be at the end.\n",
    "other_profession = total_genpro_df[\"profession\"] == \"other\"\n",
    "total_genpro_df = pd.concat(\n",
    "    (total_genpro_df[~other_profession], total_genpro_df[other_profession])\n",
    ")\n",
    "other_genre = total_genpro_df[\"genre\"] == \"other\"\n",
    "total_genpro_df = pd.concat(\n",
    "    (total_genpro_df[other_genre], total_genpro_df[~other_genre])\n",
    ")"
   ]
  },
  {
   "cell_type": "code",
   "execution_count": 37,
   "metadata": {
    "ExecuteTime": {
     "end_time": "2022-03-04T10:42:26.657416Z",
     "start_time": "2022-03-04T10:42:26.087607Z"
    }
   },
   "outputs": [
    {
     "data": {
      "image/png": "[encoded data removed]",
      "text/plain": [
       "<Figure size 864x360 with 1 Axes>"
      ]
     },
     "metadata": {},
     "output_type": "display_data"
    }
   ],
   "source": [
    "plt.figure(figsize=(12, 5))\n",
    "g = sns.histplot(\n",
    "    data=total_genpro_df, y=\"profession\", hue=\"genre\", multiple=\"fill\", palette=\"Paired\"\n",
    ")\n",
    "sns.move_legend(g, \"upper left\", bbox_to_anchor=(1, 1), frameon=False, fontsize=14)\n",
    "g.set_xlabel(\"Fraction\", fontsize=18)\n",
    "g.set_ylabel(\"Profession\", fontsize=18)\n",
    "plt.show()"
   ]
  },
  {
   "cell_type": "markdown",
   "metadata": {},
   "source": [
    "Politicians have been accused of using focus groups to pick their discs, so we were curious about how they compared to other professions. The genre breakdown for politicians is broadly similar to the creative professions and other fields. Musicians and singers (including many which were classically trained) are more likely to pick classical music. For athletes and businesspeople, a larger proportion of genres are popular music (modern, pop, rock, vintage)."
   ]
  },
  {
   "cell_type": "markdown",
   "metadata": {},
   "source": [
    "## Network analysis\n",
    "\n",
    "\n",
    "An interesting way of looking at this data is to think of it as a network. You can have two kind of networks: one where the castaways are the nodes and they are connected by having chosen the same musical artist, and the other one is where the musical artist are the nodes and their connections are defined by how many castaways chose them together. \n",
    "\n",
    "A network analysis can give us an idea of castaways/artists similarities and popularity, as well as uncovering some non-trivial patterns (in the best of cases).\n",
    "\n",
    "Let's start building a network for our castaways. We will use our castaway and disc merged dataset, in order to have all the available information in one single dataframe.\n",
    "\n",
    "Some of our castaways have appeared in more than one episode. Let's check who:"
   ]
  },
  {
   "cell_type": "code",
   "execution_count": 31,
   "metadata": {},
   "outputs": [
    {
     "name": "stdout",
     "output_type": "stream",
     "text": [
      "187 : ['1942-04-02', '1955-04-21', '1968-12-23', '1980-12-26']\n",
      "581 : ['1957-05-06', '1979-03-13', '1998-12-27', '2012-02-03']\n",
      "201  recurrent guests out of 2402\n"
     ]
    }
   ],
   "source": [
    "# if the is a person with more than one episode keep indexes of the last episode only,\n",
    "# given that our dataset is sorted we do this by only keeping the last entry\n",
    "list_index = []\n",
    "count_repeats = 0\n",
    "for name in np.unique(total_df[[\"castaway_ref\"]]):\n",
    "\n",
    "    castaway = total_df[total_df[\"castaway_ref\"] == name]\n",
    "\n",
    "    dates = np.unique(castaway[\"date\"].values)\n",
    "\n",
    "    if len(dates) > 1:\n",
    "        count_repeats = count_repeats + 1\n",
    "        if len(dates) > 3:\n",
    "            print(name, \":\", [str(d)[:10] for d in dates])\n",
    "\n",
    "    # saving the index of the latest episode avalaible for each cast away\n",
    "    index = castaway[(castaway[\"date\"] == dates[-1])].index.values\n",
    "\n",
    "    list_index = [*list_index, *index]\n",
    "\n",
    "print(\n",
    "    count_repeats,\n",
    "    \" recurrent guests out of\",\n",
    "    len(np.unique(total_df[[\"castaway_ref\"]])),\n",
    ")"
   ]
  },
  {
   "cell_type": "markdown",
   "metadata": {},
   "source": [
    "As you can see above, both David Attenborough and was Arthur Askey were invited to the show four times!\n",
    "\n",
    "Having repeated guests in our dataset can be problematic for building the network, as these castaways will have more connections than the ones that have been invited only once. To resolve this problem, let's make sure we only have one episode per castaway, by selecting the most recent episode available.\n",
    "\n",
    "This count of total and repeat castaways is a little less than at the top of this notebook. As we are using a dataframe that has been merged with other data sources (Wikpedia, Spotify) we have lost some castaways where there was missing information. This is discussed in more detail in the conclusions."
   ]
  },
  {
   "cell_type": "code",
   "execution_count": 32,
   "metadata": {},
   "outputs": [
    {
     "data": {
      "text/plain": [
       "(12570, 53)"
      ]
     },
     "execution_count": 32,
     "metadata": {},
     "output_type": "execute_result"
    }
   ],
   "source": [
    "# select only one episode per cast away using the indexes stored above\n",
    "df_network = total_df.iloc[list_index]\n",
    "df_network.shape"
   ]
  },
  {
   "cell_type": "markdown",
   "metadata": {},
   "source": [
    "## Castaway network\n",
    "\n",
    "Let's now build the castaway network. For this we have written the function below: for each available pair of nodes (castaways in this case) it counts how many connections it has (common artists). This is typically called an edge list that defines a source and target (nodes), and it gives it a weight (edge). "
   ]
  },
  {
   "cell_type": "code",
   "execution_count": 33,
   "metadata": {},
   "outputs": [],
   "source": [
    "def build_network(df, nodes_variable, edges_variable):\n",
    "\n",
    "    \"\"\"Function that builds a newtork based on given nodes or edges that are\n",
    "    columns names on the input dataframe\"\"\"\n",
    "\n",
    "    # loop over all the unique values of the edges columns\n",
    "    df_list = []\n",
    "    for edge in np.unique(df[edges_variable].astype(str).values):\n",
    "\n",
    "        # get the all the nodes that have that edge\n",
    "        nodes = np.unique(\n",
    "            df[df[edges_variable] == edge][nodes_variable].dropna().values\n",
    "        )\n",
    "\n",
    "        # get all combination of nodes existing for that edge\n",
    "        # and save it to a list where source and\n",
    "        # targes are the nodes conected by that edge\n",
    "        if len(nodes) > 1:\n",
    "            source, target = zip(*itertools.combinations(nodes, 2))\n",
    "\n",
    "            df_net = pd.DataFrame()\n",
    "            df_net[\"source\"] = source\n",
    "            df_net[\"target\"] = target\n",
    "\n",
    "            df_list.append(df_net)\n",
    "\n",
    "        else:\n",
    "            continue\n",
    "\n",
    "    # turns list to a dataframe and aggregate repeated rows\n",
    "    # (source and targets can appear several times)\n",
    "    # weight is the number of times that appears\n",
    "    network = pd.concat(df_list)\n",
    "    network = network[network[\"source\"] != network[\"target\"]]\n",
    "    df_network = (\n",
    "        network.groupby([\"source\", \"target\"])\n",
    "        .size()\n",
    "        .reset_index(name=\"weight\")\n",
    "        .sort_values(by=\"weight\", ascending=False)\n",
    "    )\n",
    "\n",
    "    return df_network"
   ]
  },
  {
   "cell_type": "code",
   "execution_count": 34,
   "metadata": {},
   "outputs": [
    {
     "data": {
      "text/html": [
       "<div>\n",
       "<style scoped>\n",
       "    .dataframe tbody tr th:only-of-type {\n",
       "        vertical-align: middle;\n",
       "    }\n",
       "\n",
       "    .dataframe tbody tr th {\n",
       "        vertical-align: top;\n",
       "    }\n",
       "\n",
       "    .dataframe thead th {\n",
       "        text-align: right;\n",
       "    }\n",
       "</style>\n",
       "<table border=\"1\" class=\"dataframe\">\n",
       "  <thead>\n",
       "    <tr style=\"text-align: right;\">\n",
       "      <th></th>\n",
       "      <th>source</th>\n",
       "      <th>target</th>\n",
       "      <th>weight</th>\n",
       "    </tr>\n",
       "  </thead>\n",
       "  <tbody>\n",
       "    <tr>\n",
       "      <th>206064</th>\n",
       "      <td>denis matthews</td>\n",
       "      <td>itzhak perlman</td>\n",
       "      <td>6</td>\n",
       "    </tr>\n",
       "    <tr>\n",
       "      <th>36091</th>\n",
       "      <td>andor foldes</td>\n",
       "      <td>hephzibah menuhin</td>\n",
       "      <td>6</td>\n",
       "    </tr>\n",
       "    <tr>\n",
       "      <th>467220</th>\n",
       "      <td>mitch miller</td>\n",
       "      <td>peter diamand</td>\n",
       "      <td>5</td>\n",
       "    </tr>\n",
       "    <tr>\n",
       "      <th>97622</th>\n",
       "      <td>bernard levin</td>\n",
       "      <td>compton mackenzie</td>\n",
       "      <td>5</td>\n",
       "    </tr>\n",
       "    <tr>\n",
       "      <th>97673</th>\n",
       "      <td>bernard levin</td>\n",
       "      <td>denis matthews</td>\n",
       "      <td>5</td>\n",
       "    </tr>\n",
       "    <tr>\n",
       "      <th>206653</th>\n",
       "      <td>denis matthews</td>\n",
       "      <td>rowland emett</td>\n",
       "      <td>5</td>\n",
       "    </tr>\n",
       "    <tr>\n",
       "      <th>165983</th>\n",
       "      <td>claudio abbado</td>\n",
       "      <td>denis matthews</td>\n",
       "      <td>5</td>\n",
       "    </tr>\n",
       "    <tr>\n",
       "      <th>206684</th>\n",
       "      <td>denis matthews</td>\n",
       "      <td>sheridan russell</td>\n",
       "      <td>5</td>\n",
       "    </tr>\n",
       "    <tr>\n",
       "      <th>139627</th>\n",
       "      <td>catherine gaskin</td>\n",
       "      <td>denis matthews</td>\n",
       "      <td>5</td>\n",
       "    </tr>\n",
       "    <tr>\n",
       "      <th>350102</th>\n",
       "      <td>itzhak perlman</td>\n",
       "      <td>mitsuko uchida</td>\n",
       "      <td>5</td>\n",
       "    </tr>\n",
       "  </tbody>\n",
       "</table>\n",
       "</div>"
      ],
      "text/plain": [
       "                  source             target  weight\n",
       "206064    denis matthews     itzhak perlman       6\n",
       "36091       andor foldes  hephzibah menuhin       6\n",
       "467220      mitch miller      peter diamand       5\n",
       "97622      bernard levin  compton mackenzie       5\n",
       "97673      bernard levin     denis matthews       5\n",
       "206653    denis matthews      rowland emett       5\n",
       "165983    claudio abbado     denis matthews       5\n",
       "206684    denis matthews   sheridan russell       5\n",
       "139627  catherine gaskin     denis matthews       5\n",
       "350102    itzhak perlman     mitsuko uchida       5"
      ]
     },
     "execution_count": 34,
     "metadata": {},
     "output_type": "execute_result"
    }
   ],
   "source": [
    "df_castaway_network = build_network(df_network, \"std_name\", \"std_artist\")\n",
    "\n",
    "# most conected pair of people\n",
    "df_castaway_network[:10]"
   ]
  },
  {
   "cell_type": "markdown",
   "metadata": {},
   "source": [
    "To understand what the table above describes, we can look at the choices of the top two pairs, in which the castaways are connected by some of the usual suspects of classical music. Pianist [Denis Matthews (1967)](https://www.bbc.co.uk/programmes/p009y2gb) and violinist [Itzhak Perlman (1978)](https://www.bbc.co.uk/programmes/p009mysv) both went with Bach, Beethoven, Brahms, Elgar, Mozart and Schubert. [Hephzibah Menuhin (1958)](https://www.bbc.co.uk/programmes/p009y841) and [Andor Foldes (1959)](https://www.bbc.co.uk/programmes/p009y7h7) - both pianists - included Bach, Bartók, Beethoven, Brahms, Mozart and Schubert in their lists.\n",
    "\n",
    "Now we can feed this data to a network library to build our network."
   ]
  },
  {
   "cell_type": "code",
   "execution_count": 35,
   "metadata": {},
   "outputs": [
    {
     "name": "stdout",
     "output_type": "stream",
     "text": [
      "Graph with 2401 nodes and 516468 edges\n"
     ]
    }
   ],
   "source": [
    "G = nx.from_pandas_edgelist(df_castaway_network, edge_attr=[\"weight\"])\n",
    "print(nx.info(G))"
   ]
  },
  {
   "cell_type": "markdown",
   "metadata": {},
   "source": [
    "Networks have interesting metrics that can help us understand our dataset better. For example, we have the node degree metric, that tells us the number of edges connected to a given node. In our case, the node degree of a castaway will tell us how popular or rare their taste in music is. \n",
    "\n",
    "Let's explore who have the highest and lowest node degrees in our network."
   ]
  },
  {
   "cell_type": "code",
   "execution_count": 36,
   "metadata": {},
   "outputs": [
    {
     "data": {
      "text/plain": [
       "[('denis matthews', 1339),\n",
       " ('vernon scannell', 1236),\n",
       " ('hardy amies', 1215),\n",
       " ('itzhak perlman', 1200),\n",
       " ('bernard levin', 1200),\n",
       " ('claudio abbado', 1199),\n",
       " ('jeremy thorpe', 1186),\n",
       " ('alan alda', 1177),\n",
       " ('john updike', 1163),\n",
       " ('c day lewis', 1163)]"
      ]
     },
     "execution_count": 36,
     "metadata": {},
     "output_type": "execute_result"
    }
   ],
   "source": [
    "# castaways with more degrees (more artist in common with others)\n",
    "\n",
    "\n",
    "node_degrees = G.degree()\n",
    "degree_sequence = sorted([d for n, d in node_degrees], reverse=True)  # degree sequence\n",
    "degreeCount = collections.Counter(degree_sequence)\n",
    "deg, cnt = zip(*degreeCount.items())\n",
    "\n",
    "sorted(node_degrees, key=lambda x: x[1], reverse=True)[:10]"
   ]
  },
  {
   "cell_type": "markdown",
   "metadata": {},
   "source": [
    "In the top ten, we've got three writers, two musicians, a conductor, an actor, a politician, a designer, and a cartoonist/sculptor. Eight of them appeared on the show before 1990, and chose almost exclusively classical music. The two guests from the 1990s - [Alan Alda](https://www.bbc.co.uk/programmes/p0093yqy) and [John Updike](https://www.bbc.co.uk/programmes/p0093pc1) – chose music spanning classical, jazz, vintage and rock."
   ]
  },
  {
   "cell_type": "code",
   "execution_count": 37,
   "metadata": {},
   "outputs": [
    {
     "data": {
      "text/plain": [
       "[('joan turner', 1),\n",
       " ('jack hylton', 1),\n",
       " ('dustin hoffman', 1),\n",
       " ('jamie cullum', 2),\n",
       " ('fenella fielding', 3),\n",
       " ('kimberley motley', 4),\n",
       " ('vittorio radice', 4),\n",
       " ('m m kaye', 5),\n",
       " ('roberto alagna', 5),\n",
       " ('akram khan', 5)]"
      ]
     },
     "execution_count": 37,
     "metadata": {},
     "output_type": "execute_result"
    }
   ],
   "source": [
    "# castaways with less degrees (the ones that chose weird stuff)\n",
    "sorted(node_degrees, key=lambda x: x[1])[:10]"
   ]
  },
  {
   "cell_type": "markdown",
   "metadata": {},
   "source": [
    "Looking at the three castaways with the lowest node degrees, we've got actor [Dustin Hoffman (2012)](https://www.bbc.co.uk/programmes/b01p314n), jazz band leader [Jack Hylton (1942)](https://www.bbc.co.uk/programmes/p009y0n5), and comedian and singer [Joan Turner (1988)](https://www.bbc.co.uk/programmes/p009mfwq). Both Hylton and Turner chose their own songs, which might explain their position. For Hoffman, his ranking appears to be as a result of particularly esoteric tastes, picking lesser known artists from jazz, rockabilly and film soundtracks."
   ]
  },
  {
   "cell_type": "markdown",
   "metadata": {},
   "source": [
    "Another interesting network analysis metric is node centrality, which assigns numbers or rankings to nodes within a graph corresponding to their network position. *Betweenness centrality* quantifies the number of times a node acts as a bridge along the shortest path between two other nodes. We can investigate in our case which castaways are the more central of our network."
   ]
  },
  {
   "cell_type": "code",
   "execution_count": 38,
   "metadata": {},
   "outputs": [
    {
     "name": "stdout",
     "output_type": "stream",
     "text": [
      "[('mary benson', 0.002307551712389286), ('britt ekland', 0.0019717077317469058), ('david puttnam', 0.0019131169053483745), ('john banham', 0.0019041943999988634), ('daniel massey', 0.0018278035596188602), ('jackie stewart', 0.0018203344076947237), ('alison balsom', 0.0018050459614971585), ('gregory peck', 0.0017935339560978397), ('ralph fiennes', 0.0017857962978522466), ('james galway', 0.001713586324906998), ('peter scudamore', 0.0017005110829452484), ('duncan goodhew', 0.0016967361345477084), ('denis matthews', 0.0016914042468173837), ('nicholas grimshaw', 0.0016683131685565828), ('patricia neal', 0.0016509630870887373), ('anna moffo', 0.0016415917933555344), ('len deighton', 0.0016313613602987511), ('jennifer saunders', 0.0016204568674437257), ('j k rowling', 0.0015961191012463676), ('bernard levin', 0.0015939293278139446)]\n"
     ]
    }
   ],
   "source": [
    "# get the more \"central castaways\"\n",
    "bet_cen = nx.betweenness_centrality(G)\n",
    "\n",
    "\n",
    "def get_top_keys(dictionary, top):\n",
    "    sorted_list = sorted(dictionary.items(), key=lambda item: item[1], reverse=True)\n",
    "    print(sorted_list[:top])\n",
    "\n",
    "\n",
    "top_bet_cen = get_top_keys(bet_cen, 20)"
   ]
  },
  {
   "cell_type": "markdown",
   "metadata": {},
   "source": [
    "An interpretation for centrality would be a castaway that has chosen the most popular, timeless music and artists, across multiple genres. The most central castaway is South African civil rights campaigner [Mary Bensen](https://www.bbc.co.uk/programmes/p00944qq), who appeared on the programme in 1997. Let's take a look at her music:"
   ]
  },
  {
   "cell_type": "code",
   "execution_count": 39,
   "metadata": {},
   "outputs": [
    {
     "data": {
      "text/plain": [
       "4261                    Rigoletto Act 2 by Giuseppe Verdi\n",
       "4262    Well-Tempered Clavier, Book 1 - Prelude & Fugu...\n",
       "4263    Bagatelles, Op. 126 - No. 4 in B minor by Ludw...\n",
       "4264                        Ngola Kurila by Miriam Makeba\n",
       "4265              It's Only A Paper Moon by Frank Sinatra\n",
       "4266    Piano Sonata No. 19 in C minor,  D958 by Franz...\n",
       "4267                          Lay, Lady, Lay by Bob Dylan\n",
       "4268    Ich bin der Welt abhanden gekommen (from R√ºck...\n",
       "Name: track_name, dtype: object"
      ]
     },
     "execution_count": 39,
     "metadata": {},
     "output_type": "execute_result"
    }
   ],
   "source": [
    "total_df[total_df[\"std_name\"] == \"mary benson\"][\"track_name\"]"
   ]
  },
  {
   "cell_type": "markdown",
   "metadata": {},
   "source": [
    "In addition to a number of popular classical composers, she included songs from Frank Sinatra (vintage), Bob Dylan (folk), and Miriam Makeba (world)."
   ]
  },
  {
   "cell_type": "markdown",
   "metadata": {},
   "source": [
    "## Artists network\n",
    "\n",
    "Let's now explore how a network where the nodes are the artists and edges are weighted by the number of castaways that chose them together."
   ]
  },
  {
   "cell_type": "code",
   "execution_count": 40,
   "metadata": {},
   "outputs": [
    {
     "data": {
      "text/html": [
       "<div>\n",
       "<style scoped>\n",
       "    .dataframe tbody tr th:only-of-type {\n",
       "        vertical-align: middle;\n",
       "    }\n",
       "\n",
       "    .dataframe tbody tr th {\n",
       "        vertical-align: top;\n",
       "    }\n",
       "\n",
       "    .dataframe thead th {\n",
       "        text-align: right;\n",
       "    }\n",
       "</style>\n",
       "<table border=\"1\" class=\"dataframe\">\n",
       "  <thead>\n",
       "    <tr style=\"text-align: right;\">\n",
       "      <th></th>\n",
       "      <th>source</th>\n",
       "      <th>target</th>\n",
       "      <th>weight</th>\n",
       "    </tr>\n",
       "  </thead>\n",
       "  <tbody>\n",
       "    <tr>\n",
       "      <th>16088</th>\n",
       "      <td>ludwig van beethoven</td>\n",
       "      <td>wolfgang amadeus mozart</td>\n",
       "      <td>162</td>\n",
       "    </tr>\n",
       "    <tr>\n",
       "      <th>14018</th>\n",
       "      <td>johann sebastian bach</td>\n",
       "      <td>wolfgang amadeus mozart</td>\n",
       "      <td>161</td>\n",
       "    </tr>\n",
       "    <tr>\n",
       "      <th>13824</th>\n",
       "      <td>johann sebastian bach</td>\n",
       "      <td>ludwig van beethoven</td>\n",
       "      <td>148</td>\n",
       "    </tr>\n",
       "    <tr>\n",
       "      <th>10261</th>\n",
       "      <td>franz schubert</td>\n",
       "      <td>wolfgang amadeus mozart</td>\n",
       "      <td>84</td>\n",
       "    </tr>\n",
       "    <tr>\n",
       "      <th>10175</th>\n",
       "      <td>franz schubert</td>\n",
       "      <td>ludwig van beethoven</td>\n",
       "      <td>74</td>\n",
       "    </tr>\n",
       "    <tr>\n",
       "      <th>10146</th>\n",
       "      <td>franz schubert</td>\n",
       "      <td>johann sebastian bach</td>\n",
       "      <td>71</td>\n",
       "    </tr>\n",
       "    <tr>\n",
       "      <th>14140</th>\n",
       "      <td>johannes brahms</td>\n",
       "      <td>ludwig van beethoven</td>\n",
       "      <td>62</td>\n",
       "    </tr>\n",
       "    <tr>\n",
       "      <th>14223</th>\n",
       "      <td>johannes brahms</td>\n",
       "      <td>wolfgang amadeus mozart</td>\n",
       "      <td>62</td>\n",
       "    </tr>\n",
       "    <tr>\n",
       "      <th>13769</th>\n",
       "      <td>johann sebastian bach</td>\n",
       "      <td>johannes brahms</td>\n",
       "      <td>59</td>\n",
       "    </tr>\n",
       "    <tr>\n",
       "      <th>8012</th>\n",
       "      <td>edward elgar</td>\n",
       "      <td>ludwig van beethoven</td>\n",
       "      <td>51</td>\n",
       "    </tr>\n",
       "  </tbody>\n",
       "</table>\n",
       "</div>"
      ],
      "text/plain": [
       "                      source                   target  weight\n",
       "16088   ludwig van beethoven  wolfgang amadeus mozart     162\n",
       "14018  johann sebastian bach  wolfgang amadeus mozart     161\n",
       "13824  johann sebastian bach     ludwig van beethoven     148\n",
       "10261         franz schubert  wolfgang amadeus mozart      84\n",
       "10175         franz schubert     ludwig van beethoven      74\n",
       "10146         franz schubert    johann sebastian bach      71\n",
       "14140        johannes brahms     ludwig van beethoven      62\n",
       "14223        johannes brahms  wolfgang amadeus mozart      62\n",
       "13769  johann sebastian bach          johannes brahms      59\n",
       "8012            edward elgar     ludwig van beethoven      51"
      ]
     },
     "execution_count": 40,
     "metadata": {},
     "output_type": "execute_result"
    }
   ],
   "source": [
    "# artist more likely to be chosen toguether\n",
    "df_artists_network = build_network(df_network, \"std_artist\", \"std_name\")\n",
    "df_artists_network[:10]"
   ]
  },
  {
   "cell_type": "markdown",
   "metadata": {},
   "source": [
    "This list comes as no surprise, as we've got another \"who's who\" of classical music. In fact, the first nine are simply the various possible combinations of Bach, Beethoven, Brahms, Mozart and Schubert (with Brahms and Schubert being the least likely combination of the set)."
   ]
  },
  {
   "cell_type": "code",
   "execution_count": 41,
   "metadata": {},
   "outputs": [
    {
     "data": {
      "text/html": [
       "<div>\n",
       "<style scoped>\n",
       "    .dataframe tbody tr th:only-of-type {\n",
       "        vertical-align: middle;\n",
       "    }\n",
       "\n",
       "    .dataframe tbody tr th {\n",
       "        vertical-align: top;\n",
       "    }\n",
       "\n",
       "    .dataframe thead th {\n",
       "        text-align: right;\n",
       "    }\n",
       "</style>\n",
       "<table border=\"1\" class=\"dataframe\">\n",
       "  <thead>\n",
       "    <tr style=\"text-align: right;\">\n",
       "      <th></th>\n",
       "      <th>source</th>\n",
       "      <th>target</th>\n",
       "      <th>weight</th>\n",
       "    </tr>\n",
       "  </thead>\n",
       "  <tbody>\n",
       "    <tr>\n",
       "      <th>6664</th>\n",
       "      <td>della reese</td>\n",
       "      <td>peggy lee</td>\n",
       "      <td>1</td>\n",
       "    </tr>\n",
       "    <tr>\n",
       "      <th>6665</th>\n",
       "      <td>della reese</td>\n",
       "      <td>the beatles</td>\n",
       "      <td>1</td>\n",
       "    </tr>\n",
       "    <tr>\n",
       "      <th>6666</th>\n",
       "      <td>della reese</td>\n",
       "      <td>the modern jazz quartet</td>\n",
       "      <td>1</td>\n",
       "    </tr>\n",
       "    <tr>\n",
       "      <th>6667</th>\n",
       "      <td>denim</td>\n",
       "      <td>irma thomas</td>\n",
       "      <td>1</td>\n",
       "    </tr>\n",
       "    <tr>\n",
       "      <th>6668</th>\n",
       "      <td>denim</td>\n",
       "      <td>pixies</td>\n",
       "      <td>1</td>\n",
       "    </tr>\n",
       "    <tr>\n",
       "      <th>6669</th>\n",
       "      <td>denim</td>\n",
       "      <td>radiohead</td>\n",
       "      <td>1</td>\n",
       "    </tr>\n",
       "    <tr>\n",
       "      <th>6670</th>\n",
       "      <td>denim</td>\n",
       "      <td>the beatles</td>\n",
       "      <td>1</td>\n",
       "    </tr>\n",
       "    <tr>\n",
       "      <th>6671</th>\n",
       "      <td>denis king</td>\n",
       "      <td>neil diamond</td>\n",
       "      <td>1</td>\n",
       "    </tr>\n",
       "    <tr>\n",
       "      <th>6672</th>\n",
       "      <td>denis king</td>\n",
       "      <td>underworld</td>\n",
       "      <td>1</td>\n",
       "    </tr>\n",
       "  </tbody>\n",
       "</table>\n",
       "</div>"
      ],
      "text/plain": [
       "           source                   target  weight\n",
       "6664  della reese                peggy lee       1\n",
       "6665  della reese              the beatles       1\n",
       "6666  della reese  the modern jazz quartet       1\n",
       "6667        denim              irma thomas       1\n",
       "6668        denim                   pixies       1\n",
       "6669        denim                radiohead       1\n",
       "6670        denim              the beatles       1\n",
       "6671   denis king             neil diamond       1\n",
       "6672   denis king               underworld       1"
      ]
     },
     "execution_count": 41,
     "metadata": {},
     "output_type": "execute_result"
    }
   ],
   "source": [
    "df_artists_network[-10:-1]"
   ]
  },
  {
   "cell_type": "markdown",
   "metadata": {},
   "source": [
    "This list of the bottom ten is less illuminating. Moving down the long tail of more obscure musical artists, we expect there will be lots of pairings that only happen once. For example, in this list is the lesser known Birmingham indie rock band Denim, which was chosen by [Charlie Brooker (2018)](https://www.bbc.co.uk/programmes/b09kx840), the satirist and creator of Black Mirror. His unique musical tastes were captured in the [BBC website summary](https://www.bbc.co.uk/programmes/articles/4gmjmCJvY1dSkLD6rngW06n/11-things-we-learned-from-charlie-brooker-s-desert-island-discs) of the episode:\n",
    "\n",
    "> And for his final track, he selects The New Potatoes by Denim, a “wilfully ridiculous”, high-pitched electronic song that Charlie’s children find as funny as he does. It’s also the disc he would keep over all the others: “There is something darkly amusing about the thought of being stranded there [on the desert island] and the only form of music that you have is that.”\n",
    "\n",
    "Denim appearing on Desert Island Discs this one time was worthy of including on their somewhat slim [Wikipedia entry](https://en.wikipedia.org/wiki/Denim_(band)), so it would be surprising to see them with many more pairings. Also, the reason there are only four pairings for Denin is that the other three picks by Brooker were so random that they weren't found on Spotify (including a song from the children's programme the Magic Roundabout and the Gameboy theme for Robocop). "
   ]
  },
  {
   "cell_type": "markdown",
   "metadata": {},
   "source": [
    "Now we can feed this data to a network library to build our network."
   ]
  },
  {
   "cell_type": "code",
   "execution_count": 42,
   "metadata": {},
   "outputs": [
    {
     "name": "stdout",
     "output_type": "stream",
     "text": [
      "Graph with 1996 nodes and 19034 edges\n"
     ]
    }
   ],
   "source": [
    "G_artists = nx.from_pandas_edgelist(df_artists_network, edge_attr=[\"weight\"])\n",
    "print(nx.info(G_artists))"
   ]
  },
  {
   "cell_type": "markdown",
   "metadata": {},
   "source": [
    "Let's take a look at the the node degree of our metric."
   ]
  },
  {
   "cell_type": "code",
   "execution_count": 43,
   "metadata": {},
   "outputs": [
    {
     "data": {
      "text/plain": [
       "[('wolfgang amadeus mozart', 531),\n",
       " ('johann sebastian bach', 510),\n",
       " ('the beatles', 490),\n",
       " ('ludwig van beethoven', 487),\n",
       " ('frank sinatra', 388),\n",
       " ('giacomo puccini', 349),\n",
       " ('edward elgar', 339),\n",
       " ('george frideric handel', 282),\n",
       " ('giuseppe verdi', 273),\n",
       " ('franz schubert', 266),\n",
       " ('claude debussy', 261),\n",
       " ('louis armstrong', 247)]"
      ]
     },
     "execution_count": 43,
     "metadata": {},
     "output_type": "execute_result"
    }
   ],
   "source": [
    "# get the artist that get more chosen with others\n",
    "node_degrees = G_artists.degree()\n",
    "degree_sequence = sorted([d for n, d in node_degrees], reverse=True)  # degree sequence\n",
    "degreeCount = collections.Counter(degree_sequence)\n",
    "deg, cnt = zip(*degreeCount.items())\n",
    "\n",
    "sorted(node_degrees, key=lambda x: x[1], reverse=True)[:12]"
   ]
  },
  {
   "cell_type": "code",
   "execution_count": 44,
   "metadata": {},
   "outputs": [
    {
     "data": {
      "text/plain": [
       "[('gerard philipe', 1),\n",
       " ('josef suk', 1),\n",
       " ('lisa kirk', 1),\n",
       " ('teddy wilson', 1),\n",
       " ('nellie lutcher', 1),\n",
       " ('black dyke band', 1),\n",
       " ('arthur askey', 1),\n",
       " ('morgana king', 1),\n",
       " ('shankar mahadevan', 2),\n",
       " ('iarla o lionaird', 2)]"
      ]
     },
     "execution_count": 44,
     "metadata": {},
     "output_type": "execute_result"
    }
   ],
   "source": [
    "sorted(node_degrees, key=lambda x: x[1])[:10]"
   ]
  },
  {
   "cell_type": "markdown",
   "metadata": {},
   "source": [
    "Looking at the artists with the highest node degrees: in addition to some familiar classical composers, we've got the Beatles (the most popular artists for much of the past two decades), Frank Sinatra (the king of our vintage category), and Louis Armstrong (with the perennial favourite What a Wonderful World).\n",
    "\n",
    "With the lowest node degrees, one performer that is worthy of note is Arthur Askey, an actor/comedian who appeared as a castaway on the show four times. On two of those appearances, he picked his own comedy routines from the films The Proposal and Band Waggon. Two other castaways included his musical comedy – actress [Pat Kirkwood](https://www.bbc.co.uk/programmes/p009y0n8) picked his playful song Worm in 1942 and actor [John Mills](https://www.bbc.co.uk/programmes/p00949y8) picked his WWII parody Adolf in 2000 – but that wasn't enough to increase his node degrees above 1.\n",
    "\n",
    "We can also look at the centrality of our artist network."
   ]
  },
  {
   "cell_type": "code",
   "execution_count": 45,
   "metadata": {},
   "outputs": [
    {
     "name": "stdout",
     "output_type": "stream",
     "text": [
      "[('the beatles', 0.09382027494515323), ('wolfgang amadeus mozart', 0.09346524373011172), ('johann sebastian bach', 0.08562491822658447), ('ludwig van beethoven', 0.07313527724351249), ('frank sinatra', 0.06129629168832271), ('giacomo puccini', 0.04734983770823245), ('edward elgar', 0.038312374417201325), ('giuseppe verdi', 0.029774640770882304), ('bob dylan', 0.028844591670870473), ('bob marley', 0.027759422864082135)]\n"
     ]
    }
   ],
   "source": [
    "# the more \"central artists\" (interesting results!)\n",
    "\n",
    "bet_cen = nx.betweenness_centrality(G_artists)\n",
    "\n",
    "top_bet_cen = get_top_keys(bet_cen, 10)"
   ]
  },
  {
   "cell_type": "markdown",
   "metadata": {},
   "source": [
    "In terms of betweenness, the top three composers (Mozart, Bach, Beethoven) were pipped to the post by the Beatles. Rounding out the top ten we've got Sinatra again, three more classical composers (Puccini, Elgar, Verdi), two Bobs (Dylan and Marley)."
   ]
  },
  {
   "cell_type": "markdown",
   "metadata": {},
   "source": [
    "# Discussion\n",
    "\n",
    "In this data story, we've been looking at some of the trends of people and music on Desert Island Discs. As a mainstay of the BBC Radio schedule, it likely will continue for many decades to come, and this analysis could be continued at future milestones.\n",
    "\n",
    "In this data story, we've identified a number of trends:\n",
    "- Male castaways greatly outnumber female castaways, with the shift to a more representative gender balance about 10 years ago.\n",
    "- The age of castaways has increased over time, with a clear trend decade by decade.\n",
    "- The majority of castaways were born in the UK, but guests born in North America were a substantial percentage of early guests.\n",
    "- In the early days of the programme, about half of the castaways were actors; while that percentage has decreased over time, the primary professions continue to be in the creative industries.\n",
    "- The genres of music chosen on the show have evolved substantially over time, with classical music dominant until the mid-1980s, but current choices spread across a much wider range of genres.\n",
    "- When looking at genres chosen by different professions, athletes and bussinesspeople appear to have more popular tastes.\n",
    "- The network analysis reveals interesting connections between castaways and musical artists, with centrality reflecting the most popular, timeless music and artists, across multiple genres.\n",
    "\n",
    "After discovering the Desert Island Discs dataset, and some exploratory analysis, this project grew into a fairly long data story. To keep things focused, there are elements of this process that we mention but don't go into much detail about, and more complicated analysis for which we found a workable shortcut. Future data stories could pick up on a few of these threads, for example data scraping from Wikipedia. Spotify also provides a data for each song that we didn't use, like danceability, and, as noted above, we could also algorithmically create the metagenres from the microgenres.\n",
    "\n",
    "It's worth mentioning again that the data we used was incomplete. Wikipedia did not have complete information about all castaways, and we didn't always find matches for songs on Spotify. As examples, we were missing information about gender for around 1.5% of castaways, and we were missing profession information for around 10%. While this best-effort attempt limits our analysis somewhat, it is unlikely to substantially change our main findings."
   ]
  },
  {
   "cell_type": "markdown",
   "metadata": {},
   "source": [
    "## Invited back to the island\n",
    "\n",
    "As a listener, each Friday and Sunday morning we are invited back to the island to hear someone's life story through music. But there are some very special guests who are invited back more than once. We close this story by looking at environmentalist and broadcaster David Attenborough's four episodes.\n",
    "\n",
    "As a fresh 30-year-old TV presenter for his first appearance with Roy Plomley ([06/05/1957](https://www.bbc.co.uk/programmes/p009y8xh)), his first disc was Trouble in Mind by Northern Irish blues singer Ottilie Patterson and Chris Barber Jazz Band. When he returned at the age of 52 ([10/03/1979](https://www.bbc.co.uk/programmes/p009mxny)), he requested to take the book Shifts and Expedients of Camp Life by William Barry Lord to the island, which he consistently requested for his following two appearances. Sue Lawley welcomed back a 72-year-old Attenborough ([25/12/1998](https://www.bbc.co.uk/programmes/p00942qy)) who asked for the luxury of a guitar, having previously taken a piano and binoculars to the island. And finally, for the [70th Anniversary Episode (29/01/2012)](https://www.bbc.co.uk/programmes/b01b8yy0), Kirsty Young invited him back again, now 85, where the track he saved from the waves was the 3rd of Johann Sebastian Bach's Goldberg Variations. \n",
    "\n",
    "With any luck, Lauren Laverne will invite Sir David back again soon, at which point he will have the record for the most episodes all to himself. As he reflects once more on his life and favourite songs, perhaps he will talk about his evolution into a trusted voice on climate action. Hopefully, the rising seas of climate change don't threaten this island haven of music and autobiography."
   ]
  }
 ],
 "metadata": {
  "kernelspec": {
   "display_name": "Python 3",
   "language": "python",
   "name": "python3"
  },
  "language_info": {
   "codemirror_mode": {
    "name": "ipython",
    "version": 3
   },
   "file_extension": ".py",
   "mimetype": "text/x-python",
   "name": "python",
   "nbconvert_exporter": "python",
   "pygments_lexer": "ipython3",
   "version": "3.7.9"
  },
  "latex_envs": {
   "LaTeX_envs_menu_present": true,
   "autoclose": false,
   "autocomplete": true,
   "bibliofile": "biblio.bib",
   "cite_by": "apalike",
   "current_citInitial": 1,
   "eqLabelWithNumbers": true,
   "eqNumInitial": 1,
   "hotkeys": {
    "equation": "Ctrl-E",
    "itemize": "Ctrl-I"
   },
   "labels_anchors": false,
   "latex_user_defs": false,
   "report_style_numbering": false,
   "user_envs_cfg": false
  },
  "toc": {
   "base_numbering": 1,
   "nav_menu": {},
   "number_sections": true,
   "sideBar": true,
   "skip_h1_title": false,
   "title_cell": "Table of Contents",
   "title_sidebar": "Contents",
   "toc_cell": false,
   "toc_position": {
    "height": "calc(100% - 180px)",
    "left": "10px",
    "top": "150px",
    "width": "288px"
   },
   "toc_section_display": true,
   "toc_window_display": true
  }
 },
 "nbformat": 4,
 "nbformat_minor": 5
}
